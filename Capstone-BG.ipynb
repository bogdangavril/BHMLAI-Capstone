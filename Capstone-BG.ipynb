{
 "cells": [
  {
   "cell_type": "markdown",
   "id": "6d625171",
   "metadata": {},
   "source": [
    "## Capstone project: Prediction"
   ]
  },
  {
   "cell_type": "markdown",
   "id": "bfd0321f",
   "metadata": {},
   "source": [
    "### Overview\n",
    "### The data"
   ]
  },
  {
   "cell_type": "markdown",
   "id": "3896e3c2",
   "metadata": {},
   "source": [
    "The dataset represents PCB design projects data collected from various places and periods of time. \n",
    "The dataset contains 345 entries and 19 features. The dataset is complete with no missing values and has both numerical and categorical data.\n",
    "The features include physical characteristics of the boards designed, plus a number of descriptive characteristics.\n",
    "\n",
    "\n",
    "Features description:\n",
    "\n",
    "Numerical:\n",
    "* ID - automatically assigned ID number \n",
    "* viano - number of vias\n",
    "* pins - number of pins\n",
    "* layno - number of layers\n",
    "* sq - layout area\n",
    "* dens - layout density\n",
    "* netno - number of nets\n",
    "* comp - number of components\n",
    "* duration - layout design duration\n",
    "* level - engineer expertise level\n",
    "\n",
    "Categorical:\n",
    "\n",
    "* line -  product line (various)\n",
    "* fit - board utilization (such as daughter board, mlb, etc.)\n",
    "* viatech - via technology (tht, combinations, etc.)\n",
    "* dbl - single or double sided\n",
    "* category - board tech, rigid or flexible\n",
    "* ver - board version\n",
    "* complexity - board complexity (low, medium or high)\n",
    "* scope - scope of the design (new board, minor or major modification)\n",
    "* type - board family type (such as test, production, etc.)\n"
   ]
  },
  {
   "cell_type": "markdown",
   "id": "076590d3",
   "metadata": {},
   "source": [
    "#### The scope of this capstone project is to find the best regression model to predict the design time (‘duration’) and to determine which features contribute the most to the model."
   ]
  },
  {
   "cell_type": "markdown",
   "id": "e08adfcd",
   "metadata": {},
   "source": [
    "### Business understanding"
   ]
  },
  {
   "cell_type": "markdown",
   "id": "779c9a5e",
   "metadata": {},
   "source": [
    "Usually the design time is estimated by the engineers or managers who are directly involved in the design, based on objective and subjective factors such as personal experience. A tool which uses only projects' features and eliminates the subjective factors, and which consistently provides good estimations, would considerably improve the resource planning and projects' scheduling. Plus the tool can be used by anybody, such as non-technical teams, project managers, etc. The tool can also learn along and the data can improve as a result of the feature importance results."
   ]
  },
  {
   "cell_type": "markdown",
   "id": "18cfccce",
   "metadata": {},
   "source": [
    "### What is the data task here?\n",
    "\n",
    "1. Can I use the available data to build a design duration prediction tool that can help the management to plan the schedules better?\n",
    "2. What data can be ignored, or dropped from the analysis?\n",
    "3. Do I need to clean up the data and how do I prepare the data?\n",
    "4. What are the top features that influence the duration of a project?\n",
    "5. Is the model accurate enough? What is missing, how can I improve the data set and the analysis as next steps? "
   ]
  },
  {
   "cell_type": "markdown",
   "id": "e4abf54a",
   "metadata": {},
   "source": [
    "### Data understanding\n",
    "\n",
    "Getting familiar with the data and identifying quality issues. "
   ]
  },
  {
   "cell_type": "code",
   "execution_count": 1,
   "id": "02bb4510",
   "metadata": {},
   "outputs": [],
   "source": [
    "# Import the necessary libraries from pandas, sklearn, and visualization libraries\n",
    "import numpy as np\n",
    "import pandas as pd\n",
    "import scipy as sp\n",
    "import matplotlib.pyplot as plt\n",
    "import seaborn as sns\n",
    "import category_encoders as ce\n",
    "\n",
    "from sklearn.compose import make_column_transformer, TransformedTargetRegressor, ColumnTransformer\n",
    "from sklearn.preprocessing import QuantileTransformer, quantile_transform\n",
    "from sklearn.preprocessing import PolynomialFeatures, OneHotEncoder, OrdinalEncoder, StandardScaler\n",
    "\n",
    "from sklearn.linear_model import Ridge, Lasso, LinearRegression\n",
    "from sklearn.ensemble import RandomForestRegressor\n",
    "from sklearn.neighbors import KNeighborsRegressor\n",
    "from sklearn.tree import DecisionTreeRegressor\n",
    "from sklearn.svm import SVR\n",
    "from sklearn.metrics import median_absolute_error, mean_squared_error, mean_absolute_error\n",
    "from sklearn.feature_selection import SequentialFeatureSelector, RFE, SelectFromModel\n",
    "from sklearn.model_selection import train_test_split\n",
    "from sklearn.pipeline import Pipeline, make_pipeline\n",
    "from sklearn.model_selection import GridSearchCV\n",
    "from sklearn.model_selection import cross_val_score\n",
    "from sklearn.metrics import r2_score\n",
    "from sklearn.metrics import accuracy_score, recall_score, precision_score, precision_recall_curve, roc_curve\n",
    "from sklearn.inspection import permutation_importance\n",
    "import warnings\n",
    "warnings.filterwarnings('ignore')\n",
    "from sklearn import set_config\n",
    "set_config(display=\"diagram\")"
   ]
  },
  {
   "cell_type": "code",
   "execution_count": 2,
   "id": "3028735e",
   "metadata": {},
   "outputs": [
    {
     "data": {
      "text/html": [
       "<div>\n",
       "<style scoped>\n",
       "    .dataframe tbody tr th:only-of-type {\n",
       "        vertical-align: middle;\n",
       "    }\n",
       "\n",
       "    .dataframe tbody tr th {\n",
       "        vertical-align: top;\n",
       "    }\n",
       "\n",
       "    .dataframe thead th {\n",
       "        text-align: right;\n",
       "    }\n",
       "</style>\n",
       "<table border=\"1\" class=\"dataframe\">\n",
       "  <thead>\n",
       "    <tr style=\"text-align: right;\">\n",
       "      <th></th>\n",
       "      <th>ID</th>\n",
       "      <th>line</th>\n",
       "      <th>fit</th>\n",
       "      <th>viatech</th>\n",
       "      <th>viano</th>\n",
       "      <th>pins</th>\n",
       "      <th>layno</th>\n",
       "      <th>sq</th>\n",
       "      <th>dens</th>\n",
       "      <th>dbl</th>\n",
       "      <th>netno</th>\n",
       "      <th>comp</th>\n",
       "      <th>category</th>\n",
       "      <th>ver</th>\n",
       "      <th>complexity</th>\n",
       "      <th>scope</th>\n",
       "      <th>type</th>\n",
       "      <th>duration</th>\n",
       "      <th>level</th>\n",
       "    </tr>\n",
       "  </thead>\n",
       "  <tbody>\n",
       "    <tr>\n",
       "      <th>0</th>\n",
       "      <td>299437</td>\n",
       "      <td>jbr</td>\n",
       "      <td>bb</td>\n",
       "      <td>tht</td>\n",
       "      <td>2</td>\n",
       "      <td>8</td>\n",
       "      <td>2</td>\n",
       "      <td>4.75</td>\n",
       "      <td>8.313</td>\n",
       "      <td>sgl</td>\n",
       "      <td>3</td>\n",
       "      <td>3</td>\n",
       "      <td>FP</td>\n",
       "      <td>M00</td>\n",
       "      <td>Medium</td>\n",
       "      <td>NEW BRD</td>\n",
       "      <td>FF</td>\n",
       "      <td>40</td>\n",
       "      <td>4</td>\n",
       "    </tr>\n",
       "    <tr>\n",
       "      <th>1</th>\n",
       "      <td>295634</td>\n",
       "      <td>bis</td>\n",
       "      <td>sns</td>\n",
       "      <td>tht</td>\n",
       "      <td>4</td>\n",
       "      <td>20</td>\n",
       "      <td>2</td>\n",
       "      <td>0.21</td>\n",
       "      <td>0.148</td>\n",
       "      <td>dbl</td>\n",
       "      <td>4</td>\n",
       "      <td>6</td>\n",
       "      <td>RG</td>\n",
       "      <td>R2</td>\n",
       "      <td>Medium</td>\n",
       "      <td>MOD-MINOR</td>\n",
       "      <td>FF</td>\n",
       "      <td>73</td>\n",
       "      <td>5</td>\n",
       "    </tr>\n",
       "    <tr>\n",
       "      <th>2</th>\n",
       "      <td>50911</td>\n",
       "      <td>gq</td>\n",
       "      <td>bb</td>\n",
       "      <td>tht</td>\n",
       "      <td>4</td>\n",
       "      <td>26</td>\n",
       "      <td>2</td>\n",
       "      <td>2.04</td>\n",
       "      <td>1.098</td>\n",
       "      <td>sgl</td>\n",
       "      <td>12</td>\n",
       "      <td>2</td>\n",
       "      <td>FP</td>\n",
       "      <td>D0</td>\n",
       "      <td>Low</td>\n",
       "      <td>MOD-MINOR</td>\n",
       "      <td>FF</td>\n",
       "      <td>9</td>\n",
       "      <td>5</td>\n",
       "    </tr>\n",
       "    <tr>\n",
       "      <th>3</th>\n",
       "      <td>46382</td>\n",
       "      <td>gq</td>\n",
       "      <td>bb</td>\n",
       "      <td>tht</td>\n",
       "      <td>4</td>\n",
       "      <td>26</td>\n",
       "      <td>2</td>\n",
       "      <td>2.04</td>\n",
       "      <td>1.098</td>\n",
       "      <td>sgl</td>\n",
       "      <td>12</td>\n",
       "      <td>2</td>\n",
       "      <td>FP</td>\n",
       "      <td>E0</td>\n",
       "      <td>Medium</td>\n",
       "      <td>MOD-MINOR</td>\n",
       "      <td>FF</td>\n",
       "      <td>76</td>\n",
       "      <td>5</td>\n",
       "    </tr>\n",
       "    <tr>\n",
       "      <th>4</th>\n",
       "      <td>306078</td>\n",
       "      <td>ced</td>\n",
       "      <td>bb</td>\n",
       "      <td>tht</td>\n",
       "      <td>5</td>\n",
       "      <td>20</td>\n",
       "      <td>2</td>\n",
       "      <td>6.30</td>\n",
       "      <td>4.411</td>\n",
       "      <td>sgl</td>\n",
       "      <td>10</td>\n",
       "      <td>2</td>\n",
       "      <td>FP</td>\n",
       "      <td>B0</td>\n",
       "      <td>Low</td>\n",
       "      <td>NEW BRD</td>\n",
       "      <td>FF</td>\n",
       "      <td>43</td>\n",
       "      <td>5</td>\n",
       "    </tr>\n",
       "    <tr>\n",
       "      <th>...</th>\n",
       "      <td>...</td>\n",
       "      <td>...</td>\n",
       "      <td>...</td>\n",
       "      <td>...</td>\n",
       "      <td>...</td>\n",
       "      <td>...</td>\n",
       "      <td>...</td>\n",
       "      <td>...</td>\n",
       "      <td>...</td>\n",
       "      <td>...</td>\n",
       "      <td>...</td>\n",
       "      <td>...</td>\n",
       "      <td>...</td>\n",
       "      <td>...</td>\n",
       "      <td>...</td>\n",
       "      <td>...</td>\n",
       "      <td>...</td>\n",
       "      <td>...</td>\n",
       "      <td>...</td>\n",
       "    </tr>\n",
       "    <tr>\n",
       "      <th>340</th>\n",
       "      <td>266783</td>\n",
       "      <td>tgr</td>\n",
       "      <td>mlb</td>\n",
       "      <td>astk</td>\n",
       "      <td>97232</td>\n",
       "      <td>5709</td>\n",
       "      <td>12</td>\n",
       "      <td>80.28</td>\n",
       "      <td>0.197</td>\n",
       "      <td>dbl</td>\n",
       "      <td>817</td>\n",
       "      <td>1401</td>\n",
       "      <td>RG</td>\n",
       "      <td>E0</td>\n",
       "      <td>High</td>\n",
       "      <td>MOD-MAJOR</td>\n",
       "      <td>FF</td>\n",
       "      <td>75</td>\n",
       "      <td>5</td>\n",
       "    </tr>\n",
       "    <tr>\n",
       "      <th>341</th>\n",
       "      <td>295796</td>\n",
       "      <td>tsk</td>\n",
       "      <td>mlb</td>\n",
       "      <td>astk</td>\n",
       "      <td>102838</td>\n",
       "      <td>9484</td>\n",
       "      <td>12</td>\n",
       "      <td>142.77</td>\n",
       "      <td>0.211</td>\n",
       "      <td>dbl</td>\n",
       "      <td>1346</td>\n",
       "      <td>2173</td>\n",
       "      <td>RG</td>\n",
       "      <td>M0</td>\n",
       "      <td>High</td>\n",
       "      <td>NEW BRD</td>\n",
       "      <td>FF</td>\n",
       "      <td>85</td>\n",
       "      <td>5</td>\n",
       "    </tr>\n",
       "    <tr>\n",
       "      <th>342</th>\n",
       "      <td>306338</td>\n",
       "      <td>tgr</td>\n",
       "      <td>mlb</td>\n",
       "      <td>astk</td>\n",
       "      <td>103219</td>\n",
       "      <td>5711</td>\n",
       "      <td>12</td>\n",
       "      <td>80.01</td>\n",
       "      <td>0.196</td>\n",
       "      <td>dbl</td>\n",
       "      <td>812</td>\n",
       "      <td>1402</td>\n",
       "      <td>RG</td>\n",
       "      <td>E2</td>\n",
       "      <td>High</td>\n",
       "      <td>MOD-MINOR</td>\n",
       "      <td>FF</td>\n",
       "      <td>48</td>\n",
       "      <td>5</td>\n",
       "    </tr>\n",
       "    <tr>\n",
       "      <th>343</th>\n",
       "      <td>328206</td>\n",
       "      <td>tgr</td>\n",
       "      <td>mlb</td>\n",
       "      <td>astk</td>\n",
       "      <td>103329</td>\n",
       "      <td>5718</td>\n",
       "      <td>12</td>\n",
       "      <td>80.01</td>\n",
       "      <td>0.196</td>\n",
       "      <td>dbl</td>\n",
       "      <td>810</td>\n",
       "      <td>1405</td>\n",
       "      <td>RG</td>\n",
       "      <td>D0</td>\n",
       "      <td>High</td>\n",
       "      <td>MOD-MAJOR</td>\n",
       "      <td>FF</td>\n",
       "      <td>63</td>\n",
       "      <td>5</td>\n",
       "    </tr>\n",
       "    <tr>\n",
       "      <th>344</th>\n",
       "      <td>309758</td>\n",
       "      <td>tgr</td>\n",
       "      <td>mlb</td>\n",
       "      <td>cor-astk</td>\n",
       "      <td>107793</td>\n",
       "      <td>6962</td>\n",
       "      <td>12</td>\n",
       "      <td>136.83</td>\n",
       "      <td>0.617</td>\n",
       "      <td>dbl</td>\n",
       "      <td>1252</td>\n",
       "      <td>1857</td>\n",
       "      <td>RG</td>\n",
       "      <td>E2</td>\n",
       "      <td>High</td>\n",
       "      <td>MOD-MAJOR</td>\n",
       "      <td>FF</td>\n",
       "      <td>29</td>\n",
       "      <td>5</td>\n",
       "    </tr>\n",
       "  </tbody>\n",
       "</table>\n",
       "<p>345 rows × 19 columns</p>\n",
       "</div>"
      ],
      "text/plain": [
       "         ID line  fit   viatech   viano  pins  layno      sq   dens  dbl  \\\n",
       "0    299437  jbr   bb       tht       2     8      2    4.75  8.313  sgl   \n",
       "1    295634  bis  sns       tht       4    20      2    0.21  0.148  dbl   \n",
       "2     50911   gq   bb       tht       4    26      2    2.04  1.098  sgl   \n",
       "3     46382   gq   bb       tht       4    26      2    2.04  1.098  sgl   \n",
       "4    306078  ced   bb       tht       5    20      2    6.30  4.411  sgl   \n",
       "..      ...  ...  ...       ...     ...   ...    ...     ...    ...  ...   \n",
       "340  266783  tgr  mlb      astk   97232  5709     12   80.28  0.197  dbl   \n",
       "341  295796  tsk  mlb      astk  102838  9484     12  142.77  0.211  dbl   \n",
       "342  306338  tgr  mlb      astk  103219  5711     12   80.01  0.196  dbl   \n",
       "343  328206  tgr  mlb      astk  103329  5718     12   80.01  0.196  dbl   \n",
       "344  309758  tgr  mlb  cor-astk  107793  6962     12  136.83  0.617  dbl   \n",
       "\n",
       "     netno  comp category  ver complexity      scope type  duration  level  \n",
       "0        3     3       FP  M00     Medium    NEW BRD   FF        40      4  \n",
       "1        4     6       RG   R2     Medium  MOD-MINOR   FF        73      5  \n",
       "2       12     2       FP   D0        Low  MOD-MINOR   FF         9      5  \n",
       "3       12     2       FP   E0     Medium  MOD-MINOR   FF        76      5  \n",
       "4       10     2       FP   B0        Low    NEW BRD   FF        43      5  \n",
       "..     ...   ...      ...  ...        ...        ...  ...       ...    ...  \n",
       "340    817  1401       RG   E0       High  MOD-MAJOR   FF        75      5  \n",
       "341   1346  2173       RG   M0       High    NEW BRD   FF        85      5  \n",
       "342    812  1402       RG   E2       High  MOD-MINOR   FF        48      5  \n",
       "343    810  1405       RG   D0       High  MOD-MAJOR   FF        63      5  \n",
       "344   1252  1857       RG   E2       High  MOD-MAJOR   FF        29      5  \n",
       "\n",
       "[345 rows x 19 columns]"
      ]
     },
     "execution_count": 2,
     "metadata": {},
     "output_type": "execute_result"
    }
   ],
   "source": [
    "# Import the data\n",
    "df = pd.read_csv('projects_wrk36636.csv')\n",
    "df"
   ]
  },
  {
   "cell_type": "markdown",
   "id": "8e1ff128",
   "metadata": {},
   "source": [
    "Note: we can drop the ID column since these are automatically generated numbers"
   ]
  },
  {
   "cell_type": "code",
   "execution_count": 3,
   "id": "61b6b84f",
   "metadata": {},
   "outputs": [],
   "source": [
    "# drop column 'ID'\n",
    "df = df.drop(columns = ['ID'])"
   ]
  },
  {
   "cell_type": "code",
   "execution_count": 4,
   "id": "d163103b",
   "metadata": {
    "scrolled": true
   },
   "outputs": [
    {
     "name": "stdout",
     "output_type": "stream",
     "text": [
      "<class 'pandas.core.frame.DataFrame'>\n",
      "RangeIndex: 345 entries, 0 to 344\n",
      "Data columns (total 18 columns):\n",
      " #   Column      Non-Null Count  Dtype  \n",
      "---  ------      --------------  -----  \n",
      " 0   line        345 non-null    object \n",
      " 1   fit         345 non-null    object \n",
      " 2   viatech     345 non-null    object \n",
      " 3   viano       345 non-null    int64  \n",
      " 4   pins        345 non-null    int64  \n",
      " 5   layno       345 non-null    int64  \n",
      " 6   sq          345 non-null    float64\n",
      " 7   dens        345 non-null    float64\n",
      " 8   dbl         345 non-null    object \n",
      " 9   netno       345 non-null    int64  \n",
      " 10  comp        345 non-null    int64  \n",
      " 11  category    345 non-null    object \n",
      " 12  ver         345 non-null    object \n",
      " 13  complexity  345 non-null    object \n",
      " 14  scope       345 non-null    object \n",
      " 15  type        345 non-null    object \n",
      " 16  duration    345 non-null    int64  \n",
      " 17  level       345 non-null    int64  \n",
      "dtypes: float64(2), int64(7), object(9)\n",
      "memory usage: 48.6+ KB\n"
     ]
    }
   ],
   "source": [
    "df.info()"
   ]
  },
  {
   "cell_type": "code",
   "execution_count": 5,
   "id": "3b295cff",
   "metadata": {},
   "outputs": [
    {
     "data": {
      "text/plain": [
       "line          0\n",
       "fit           0\n",
       "viatech       0\n",
       "viano         0\n",
       "pins          0\n",
       "layno         0\n",
       "sq            0\n",
       "dens          0\n",
       "dbl           0\n",
       "netno         0\n",
       "comp          0\n",
       "category      0\n",
       "ver           0\n",
       "complexity    0\n",
       "scope         0\n",
       "type          0\n",
       "duration      0\n",
       "level         0\n",
       "dtype: int64"
      ]
     },
     "execution_count": 5,
     "metadata": {},
     "output_type": "execute_result"
    }
   ],
   "source": [
    "# check for any NaN\n",
    "df.isnull().sum()"
   ]
  },
  {
   "cell_type": "markdown",
   "id": "9252de93",
   "metadata": {},
   "source": [
    "#### Explore the data looking at the correlations and the features. We use the entire dataset and all the features"
   ]
  },
  {
   "cell_type": "code",
   "execution_count": 6,
   "id": "844cf4a9",
   "metadata": {},
   "outputs": [
    {
     "data": {
      "image/png": "[encoded data removed]",
      "text/plain": [
       "<Figure size 864x864 with 2 Axes>"
      ]
     },
     "metadata": {
      "needs_background": "light"
     },
     "output_type": "display_data"
    }
   ],
   "source": [
    "# correlation matrix\n",
    "fig, ax = plt.subplots(figsize=(12,12)) \n",
    "sns.heatmap(df.corr(), annot=True);"
   ]
  },
  {
   "cell_type": "markdown",
   "id": "586b7dd3",
   "metadata": {},
   "source": [
    "Notes: there is high correlation, close to 1 between some of the features, we might want to remove some of the features which are correlated. \n",
    "There is positive correlation between the duration and the physical features as expected. "
   ]
  },
  {
   "cell_type": "markdown",
   "id": "12efef35",
   "metadata": {},
   "source": [
    "Explore the data"
   ]
  },
  {
   "cell_type": "code",
   "execution_count": 7,
   "id": "f3212e37",
   "metadata": {},
   "outputs": [
    {
     "data": {
      "image/png": "[encoded data removed]",
      "text/plain": [
       "<Figure size 1296x432 with 1 Axes>"
      ]
     },
     "metadata": {
      "needs_background": "light"
     },
     "output_type": "display_data"
    }
   ],
   "source": [
    "#explore projects of each type\n",
    "plt.figure(figsize=(18, 6))\n",
    "sns.countplot(df['fit'],order = df['fit'].value_counts().index)\n",
    "plt.xticks(rotation = 90);\n",
    "plt.xlabel('Board utilization')\n",
    "plt.ylabel('Number of projects')\n",
    "plt.title('Projects for each utilization');"
   ]
  },
  {
   "cell_type": "markdown",
   "id": "13030765",
   "metadata": {},
   "source": [
    "Note: daughter board and mlb are the highest number, followed by board-to-board"
   ]
  },
  {
   "cell_type": "code",
   "execution_count": 8,
   "id": "69971000",
   "metadata": {},
   "outputs": [
    {
     "data": {
      "image/png": "[encoded data removed]",
      "text/plain": [
       "<Figure size 1296x432 with 1 Axes>"
      ]
     },
     "metadata": {
      "needs_background": "light"
     },
     "output_type": "display_data"
    }
   ],
   "source": [
    "#explore projects of each product line\n",
    "plt.figure(figsize=(18, 6))\n",
    "sns.countplot(df['line'],order = df['line'].value_counts().index)\n",
    "plt.xticks(rotation = 90);\n",
    "plt.xlabel('Product line')\n",
    "plt.ylabel('Number of projects')\n",
    "plt.title('Projects for each product line');"
   ]
  },
  {
   "cell_type": "code",
   "execution_count": 9,
   "id": "d2b4266e",
   "metadata": {},
   "outputs": [
    {
     "data": {
      "image/png": "[encoded data removed]",
      "text/plain": [
       "<Figure size 1296x432 with 1 Axes>"
      ]
     },
     "metadata": {
      "needs_background": "light"
     },
     "output_type": "display_data"
    }
   ],
   "source": [
    "# explore projects by via technology\n",
    "plt.figure(figsize=(18, 6))\n",
    "sns.countplot(df['viatech'],order = df['viatech'].value_counts().index)\n",
    "plt.xticks(rotation = 90);\n",
    "plt.xlabel('Via technology')\n",
    "plt.ylabel('Number of projects')\n",
    "plt.title('Number of projects for each via technology');"
   ]
  },
  {
   "cell_type": "markdown",
   "id": "dbeb7197",
   "metadata": {},
   "source": [
    "Observation: A large number of designs use the THT via technology"
   ]
  },
  {
   "cell_type": "code",
   "execution_count": 10,
   "id": "e446c6db",
   "metadata": {},
   "outputs": [
    {
     "data": {
      "image/png": "[encoded data removed]",
      "text/plain": [
       "<Figure size 1296x432 with 1 Axes>"
      ]
     },
     "metadata": {
      "needs_background": "light"
     },
     "output_type": "display_data"
    }
   ],
   "source": [
    "# explore projects by category\n",
    "plt.figure(figsize=(18, 6))\n",
    "sns.countplot(df['category'],order = df['category'].value_counts().index)\n",
    "plt.xticks(rotation = 90);\n",
    "plt.xlabel('Board category')\n",
    "plt.ylabel('Number of projects')\n",
    "plt.title('Number of projects for each category');"
   ]
  },
  {
   "cell_type": "markdown",
   "id": "a7d78db4",
   "metadata": {},
   "source": [
    "Observation: the rigid boards are more than double the number of flex designs"
   ]
  },
  {
   "cell_type": "code",
   "execution_count": 11,
   "id": "5e91877b",
   "metadata": {},
   "outputs": [
    {
     "data": {
      "image/png": "[encoded data removed]",
      "text/plain": [
       "<Figure size 1296x432 with 1 Axes>"
      ]
     },
     "metadata": {
      "needs_background": "light"
     },
     "output_type": "display_data"
    }
   ],
   "source": [
    "# explore projects by version\n",
    "plt.figure(figsize=(18, 6))\n",
    "sns.countplot(df['ver'],order = df['ver'].value_counts().index)\n",
    "plt.xticks(rotation = 90);\n",
    "plt.xlabel('Board version')\n",
    "plt.ylabel('Number of projects')\n",
    "plt.title('Number of projects for each version');"
   ]
  },
  {
   "cell_type": "markdown",
   "id": "2a25ce79",
   "metadata": {},
   "source": [
    "B0 and B1 versions are much larger in number than the rest of the categories"
   ]
  },
  {
   "cell_type": "code",
   "execution_count": 12,
   "id": "6d4cb191",
   "metadata": {},
   "outputs": [
    {
     "data": {
      "image/png": "[encoded data removed]",
      "text/plain": [
       "<Figure size 1296x432 with 1 Axes>"
      ]
     },
     "metadata": {
      "needs_background": "light"
     },
     "output_type": "display_data"
    }
   ],
   "source": [
    "# explore projects by complexity\n",
    "plt.figure(figsize=(18, 6))\n",
    "sns.countplot(df['complexity'],order = df['complexity'].value_counts().index)\n",
    "plt.xticks(rotation = 90);\n",
    "plt.xlabel('Complexity')\n",
    "plt.ylabel('Number of projects')\n",
    "plt.title('Number of projects for each complexity');"
   ]
  },
  {
   "cell_type": "markdown",
   "id": "c6f8cf04",
   "metadata": {},
   "source": [
    "Observation: Low complexity projects are similar in number as the medium and high combined. In practice, only two classes are used, low or high complexity, but for this analysis I will use the three classes"
   ]
  },
  {
   "cell_type": "code",
   "execution_count": 13,
   "id": "2325540a",
   "metadata": {},
   "outputs": [
    {
     "data": {
      "image/png": "[encoded data removed]",
      "text/plain": [
       "<Figure size 1296x432 with 1 Axes>"
      ]
     },
     "metadata": {
      "needs_background": "light"
     },
     "output_type": "display_data"
    }
   ],
   "source": [
    "# explore projects by scope\n",
    "plt.figure(figsize=(18, 6))\n",
    "sns.countplot(df['scope'],order = df['scope'].value_counts().index)\n",
    "plt.xticks(rotation = 90);\n",
    "plt.xlabel('Scope')\n",
    "plt.ylabel('Number of projects')\n",
    "plt.title('Number of projects for each scope');"
   ]
  },
  {
   "cell_type": "markdown",
   "id": "4b5c635c",
   "metadata": {},
   "source": [
    "Observation: new boards and minor mods are each more than double the major mods. However, it must be noted that in practice minor or major mods refer to the quantity, not the quality, such that a minor mod in fact can take a lot of time to do so this might not related to the design duration as one would expect. "
   ]
  },
  {
   "cell_type": "code",
   "execution_count": 14,
   "id": "1cb81e5a",
   "metadata": {},
   "outputs": [
    {
     "data": {
      "image/png": "[encoded data removed]",
      "text/plain": [
       "<Figure size 1296x432 with 1 Axes>"
      ]
     },
     "metadata": {
      "needs_background": "light"
     },
     "output_type": "display_data"
    }
   ],
   "source": [
    "# explore projects by board family type\n",
    "plt.figure(figsize=(18, 6))\n",
    "sns.countplot(df['type'],order = df['type'].value_counts().index)\n",
    "plt.xticks(rotation = 90);\n",
    "plt.xlabel('Board family type')\n",
    "plt.ylabel('Number of projects')\n",
    "plt.title('Number of projects for each family type');"
   ]
  },
  {
   "cell_type": "markdown",
   "id": "ac91e77f",
   "metadata": {},
   "source": [
    "Observation: TSB and PLT together are less than a half FF"
   ]
  },
  {
   "cell_type": "markdown",
   "id": "3d9398ba",
   "metadata": {},
   "source": [
    "Explore the mean duration of the design for various features"
   ]
  },
  {
   "cell_type": "code",
   "execution_count": 15,
   "id": "5f804151",
   "metadata": {},
   "outputs": [
    {
     "data": {
      "image/png": "[encoded data removed]",
      "text/plain": [
       "<Figure size 1296x432 with 1 Axes>"
      ]
     },
     "metadata": {
      "needs_background": "light"
     },
     "output_type": "display_data"
    }
   ],
   "source": [
    "# mean duration for different product lines\n",
    "plt.figure(figsize=(18, 6))\n",
    "sns.barplot(data = df, x = 'line', y = 'duration',\n",
    "           order = df.groupby(['line'])['duration'].mean().sort_values(ascending = False).index)\n",
    "plt.xticks(rotation = 90);\n",
    "plt.xlabel('Product line')\n",
    "plt.ylabel('Duration')\n",
    "plt.title('Mean duration for each product line');"
   ]
  },
  {
   "cell_type": "code",
   "execution_count": 16,
   "id": "15ba1720",
   "metadata": {},
   "outputs": [
    {
     "data": {
      "image/png": "[encoded data removed]",
      "text/plain": [
       "<Figure size 1296x432 with 1 Axes>"
      ]
     },
     "metadata": {
      "needs_background": "light"
     },
     "output_type": "display_data"
    }
   ],
   "source": [
    "# mean duration for different fits\n",
    "plt.figure(figsize=(18, 6))\n",
    "sns.barplot(data = df, x = 'fit', y = 'duration',\n",
    "           order = df.groupby(['fit'])['duration'].mean().sort_values(ascending = False).index)\n",
    "plt.xticks(rotation = 90);\n",
    "plt.xlabel('Board utilization')\n",
    "plt.ylabel('Duration')\n",
    "plt.title('Mean duration for each board fit');"
   ]
  },
  {
   "cell_type": "markdown",
   "id": "6d28895b",
   "metadata": {},
   "source": [
    "Observation: Duration is similar for the five categories"
   ]
  },
  {
   "cell_type": "code",
   "execution_count": 17,
   "id": "bca92a17",
   "metadata": {},
   "outputs": [
    {
     "data": {
      "image/png": "[encoded data removed]",
      "text/plain": [
       "<Figure size 1296x432 with 1 Axes>"
      ]
     },
     "metadata": {
      "needs_background": "light"
     },
     "output_type": "display_data"
    }
   ],
   "source": [
    "# mean duration for different via technologies\n",
    "plt.figure(figsize=(18, 6))\n",
    "sns.barplot(data = df, x = 'viatech', y = 'duration',\n",
    "           order = df.groupby(['viatech'])['duration'].mean().sort_values(ascending = False).index)\n",
    "plt.xticks(rotation = 90);\n",
    "plt.xlabel('Via technology')\n",
    "plt.ylabel('Duration')\n",
    "plt.title('Mean duration for each via technology');"
   ]
  },
  {
   "cell_type": "markdown",
   "id": "1f20da82",
   "metadata": {},
   "source": [
    "Observation: as expected, boards with astk and cor-astk via tech lead to a longer design duration"
   ]
  },
  {
   "cell_type": "code",
   "execution_count": 18,
   "id": "fa39ba39",
   "metadata": {},
   "outputs": [
    {
     "data": {
      "image/png": "[encoded data removed]",
      "text/plain": [
       "<Figure size 1296x432 with 1 Axes>"
      ]
     },
     "metadata": {
      "needs_background": "light"
     },
     "output_type": "display_data"
    }
   ],
   "source": [
    "# mean duration by board category\n",
    "plt.figure(figsize=(18, 6))\n",
    "sns.barplot(data = df, x = 'category', y = 'duration',\n",
    "           order = df.groupby(['category'])['duration'].mean().sort_values(ascending = False).index)\n",
    "plt.xticks(rotation = 90);\n",
    "plt.xlabel('Category')\n",
    "plt.ylabel('Duration')\n",
    "plt.title('Mean duration for each board category');"
   ]
  },
  {
   "cell_type": "markdown",
   "id": "f4f28e36",
   "metadata": {},
   "source": [
    "Obsevation: Rigid and flex designs have similar duration"
   ]
  },
  {
   "cell_type": "code",
   "execution_count": 19,
   "id": "152da80d",
   "metadata": {},
   "outputs": [
    {
     "data": {
      "image/png": "[encoded data removed]",
      "text/plain": [
       "<Figure size 1296x432 with 1 Axes>"
      ]
     },
     "metadata": {
      "needs_background": "light"
     },
     "output_type": "display_data"
    }
   ],
   "source": [
    "# mean duration by board version\n",
    "plt.figure(figsize=(18, 6))\n",
    "sns.barplot(data = df, x = 'ver', y = 'duration',\n",
    "           order = df.groupby(['ver'])['duration'].mean().sort_values(ascending = False).index)\n",
    "plt.xticks(rotation = 90);\n",
    "plt.xlabel('Board version')\n",
    "plt.ylabel('Duration')\n",
    "plt.title('Mean duration for each board version');"
   ]
  },
  {
   "cell_type": "markdown",
   "id": "c66b9e3e",
   "metadata": {},
   "source": [
    "Observation: As expected, versions M00, B0, B1, M0 and R2 take longer to design"
   ]
  },
  {
   "cell_type": "code",
   "execution_count": 20,
   "id": "74511725",
   "metadata": {},
   "outputs": [
    {
     "data": {
      "image/png": "[encoded data removed]",
      "text/plain": [
       "<Figure size 1296x432 with 1 Axes>"
      ]
     },
     "metadata": {
      "needs_background": "light"
     },
     "output_type": "display_data"
    }
   ],
   "source": [
    "# mean duration by board complexity\n",
    "plt.figure(figsize=(18, 6))\n",
    "sns.barplot(data = df, x = 'complexity', y = 'duration',\n",
    "           order = df.groupby(['complexity'])['duration'].mean().sort_values(ascending = False).index)\n",
    "plt.xticks(rotation = 90);\n",
    "plt.xlabel('Board complexity')\n",
    "plt.ylabel('Duration')\n",
    "plt.title('Mean duration for each board complexity');"
   ]
  },
  {
   "cell_type": "markdown",
   "id": "739d00aa",
   "metadata": {},
   "source": [
    "Observation: As expected, higher complexity lead to longer design time"
   ]
  },
  {
   "cell_type": "code",
   "execution_count": 21,
   "id": "7961c4d1",
   "metadata": {},
   "outputs": [
    {
     "data": {
      "image/png": "[encoded data removed]",
      "text/plain": [
       "<Figure size 1296x432 with 1 Axes>"
      ]
     },
     "metadata": {
      "needs_background": "light"
     },
     "output_type": "display_data"
    }
   ],
   "source": [
    "# mean duration by design scope\n",
    "plt.figure(figsize=(18, 6))\n",
    "sns.barplot(data = df, x = 'scope', y = 'duration',\n",
    "           order = df.groupby(['scope'])['duration'].mean().sort_values(ascending = False).index)\n",
    "plt.xticks(rotation = 90);\n",
    "plt.xlabel('Design scope')\n",
    "plt.ylabel('Duration')\n",
    "plt.title('Mean duration for each design scope');"
   ]
  },
  {
   "cell_type": "markdown",
   "id": "d57b3701",
   "metadata": {},
   "source": [
    "Observation: New boards and major mods end to take longer to design."
   ]
  },
  {
   "cell_type": "code",
   "execution_count": 22,
   "id": "20ebc8f3",
   "metadata": {},
   "outputs": [
    {
     "data": {
      "image/png": "[encoded data removed]",
      "text/plain": [
       "<Figure size 1296x432 with 1 Axes>"
      ]
     },
     "metadata": {
      "needs_background": "light"
     },
     "output_type": "display_data"
    }
   ],
   "source": [
    "# mean duration by board type\n",
    "plt.figure(figsize=(18, 6))\n",
    "sns.barplot(data = df, x = 'type', y = 'duration',\n",
    "           order = df.groupby(['type'])['duration'].mean().sort_values(ascending = False).index)\n",
    "plt.xticks(rotation = 90);\n",
    "plt.xlabel('Board type')\n",
    "plt.ylabel('Duration')\n",
    "plt.title('Mean duration for each board type');"
   ]
  },
  {
   "cell_type": "markdown",
   "id": "72b98b41",
   "metadata": {},
   "source": [
    "Observation: FF and PLT take longer to design than TSB"
   ]
  },
  {
   "cell_type": "code",
   "execution_count": 23,
   "id": "c137a869",
   "metadata": {},
   "outputs": [
    {
     "data": {
      "image/png": "[encoded data removed]",
      "text/plain": [
       "<Figure size 1296x432 with 1 Axes>"
      ]
     },
     "metadata": {
      "needs_background": "light"
     },
     "output_type": "display_data"
    }
   ],
   "source": [
    "# make comps as groups and plot\n",
    "df.loc[df['comp'] <= 20, 'comp'] = 1\n",
    "df.loc[(df['comp'] > 20) & (df['comp'] <= 80), 'comp'] = 2\n",
    "df.loc[(df['comp'] > 80) & (df['comp'] <= 250), 'comp'] = 3\n",
    "df.loc[(df['comp'] > 250) & (df['comp'] <= 700), 'comp'] = 4\n",
    "df.loc[(df['comp'] > 700) & (df['comp'] <= 1200), 'comp'] = 5\n",
    "df.loc[df['comp'] > 1200, 'comp'] = 6\n",
    "# plot mean duration by number of components\n",
    "plt.figure(figsize=(18, 6))\n",
    "sns.barplot(data = df, x = 'comp', y = 'duration',\n",
    "           order = df.groupby(['comp'])['duration'].mean().sort_values(ascending = False).index)\n",
    "plt.xticks(rotation = 90);\n",
    "plt.xlabel('Components number')\n",
    "plt.ylabel('Duration')\n",
    "plt.title('Mean duration for components number, grouped');\n"
   ]
  },
  {
   "cell_type": "markdown",
   "id": "002a13cb",
   "metadata": {},
   "source": [
    "Observation: more components lead to longer design time"
   ]
  },
  {
   "cell_type": "markdown",
   "id": "254bef09",
   "metadata": {},
   "source": [
    "#### Inspect the categorical features to determine the type of encoding"
   ]
  },
  {
   "cell_type": "code",
   "execution_count": 24,
   "id": "3d27acc6",
   "metadata": {},
   "outputs": [
    {
     "data": {
      "text/plain": [
       "41"
      ]
     },
     "execution_count": 24,
     "metadata": {},
     "output_type": "execute_result"
    }
   ],
   "source": [
    "# binary encoding\n",
    "len(df['line'].unique())"
   ]
  },
  {
   "cell_type": "code",
   "execution_count": 25,
   "id": "63548b0c",
   "metadata": {},
   "outputs": [
    {
     "data": {
      "text/plain": [
       "5"
      ]
     },
     "execution_count": 25,
     "metadata": {},
     "output_type": "execute_result"
    }
   ],
   "source": [
    "# binary encoding\n",
    "len(df['fit'].unique())"
   ]
  },
  {
   "cell_type": "code",
   "execution_count": 26,
   "id": "378ed2fe",
   "metadata": {},
   "outputs": [
    {
     "data": {
      "text/plain": [
       "5"
      ]
     },
     "execution_count": 26,
     "metadata": {},
     "output_type": "execute_result"
    }
   ],
   "source": [
    "# binary encoding\n",
    "len(df['viatech'].unique())"
   ]
  },
  {
   "cell_type": "code",
   "execution_count": 27,
   "id": "3c9739a1",
   "metadata": {},
   "outputs": [
    {
     "data": {
      "text/plain": [
       "2"
      ]
     },
     "execution_count": 27,
     "metadata": {},
     "output_type": "execute_result"
    }
   ],
   "source": [
    "# OneHotEncoder\n",
    "len(df['dbl'].unique())"
   ]
  },
  {
   "cell_type": "code",
   "execution_count": 28,
   "id": "41418c73",
   "metadata": {},
   "outputs": [
    {
     "data": {
      "text/plain": [
       "2"
      ]
     },
     "execution_count": 28,
     "metadata": {},
     "output_type": "execute_result"
    }
   ],
   "source": [
    "# OneHotEncoder\n",
    "len(df['category'].unique())"
   ]
  },
  {
   "cell_type": "code",
   "execution_count": 29,
   "id": "38e0d7ac",
   "metadata": {},
   "outputs": [
    {
     "data": {
      "text/plain": [
       "13"
      ]
     },
     "execution_count": 29,
     "metadata": {},
     "output_type": "execute_result"
    }
   ],
   "source": [
    "# binary encoding\n",
    "len(df['ver'].unique())"
   ]
  },
  {
   "cell_type": "code",
   "execution_count": 30,
   "id": "e0e7f102",
   "metadata": {},
   "outputs": [
    {
     "data": {
      "text/plain": [
       "3"
      ]
     },
     "execution_count": 30,
     "metadata": {},
     "output_type": "execute_result"
    }
   ],
   "source": [
    "# OneHotEncoder\n",
    "len(df['complexity'].unique())"
   ]
  },
  {
   "cell_type": "code",
   "execution_count": 31,
   "id": "e4b1156c",
   "metadata": {},
   "outputs": [
    {
     "data": {
      "text/plain": [
       "3"
      ]
     },
     "execution_count": 31,
     "metadata": {},
     "output_type": "execute_result"
    }
   ],
   "source": [
    "# OneHotEncoder\n",
    "len(df['scope'].unique())"
   ]
  },
  {
   "cell_type": "code",
   "execution_count": 32,
   "id": "96f8c6dc",
   "metadata": {},
   "outputs": [
    {
     "data": {
      "text/plain": [
       "3"
      ]
     },
     "execution_count": 32,
     "metadata": {},
     "output_type": "execute_result"
    }
   ],
   "source": [
    "# OneHotEncoder\n",
    "len(df['type'].unique())"
   ]
  },
  {
   "cell_type": "markdown",
   "id": "f32ac4d7",
   "metadata": {},
   "source": [
    "Suggestion for the column sets:"
   ]
  },
  {
   "cell_type": "code",
   "execution_count": 33,
   "id": "8ffbe299",
   "metadata": {},
   "outputs": [],
   "source": [
    "#column sets\n",
    "col_ohe = ['dbl', 'category', 'complexity', 'scope', 'type']\n",
    "col_bin = ['line', 'fit', 'viatech', 'ver']\n",
    "col_std = ['viano', 'pins', 'layno', 'sq', 'dens', 'netno', 'comp', 'level']"
   ]
  },
  {
   "cell_type": "markdown",
   "id": "0d6b098e",
   "metadata": {},
   "source": [
    "### Data preparation"
   ]
  },
  {
   "cell_type": "markdown",
   "id": "171f77c7",
   "metadata": {},
   "source": [
    "##### Important observation\n",
    "The prediction is needed and happens before the design starts when only a limited part of the features are available. Thus, some of the features will be discarded. \n",
    "\n",
    "'viano', 'pins', 'sq', 'dens', 'netno', 'level' are features which are not availble before the project starts."
   ]
  },
  {
   "cell_type": "code",
   "execution_count": 34,
   "id": "cecdb8c7",
   "metadata": {},
   "outputs": [
    {
     "data": {
      "text/html": [
       "<div>\n",
       "<style scoped>\n",
       "    .dataframe tbody tr th:only-of-type {\n",
       "        vertical-align: middle;\n",
       "    }\n",
       "\n",
       "    .dataframe tbody tr th {\n",
       "        vertical-align: top;\n",
       "    }\n",
       "\n",
       "    .dataframe thead th {\n",
       "        text-align: right;\n",
       "    }\n",
       "</style>\n",
       "<table border=\"1\" class=\"dataframe\">\n",
       "  <thead>\n",
       "    <tr style=\"text-align: right;\">\n",
       "      <th></th>\n",
       "      <th>line</th>\n",
       "      <th>fit</th>\n",
       "      <th>viatech</th>\n",
       "      <th>layno</th>\n",
       "      <th>dbl</th>\n",
       "      <th>comp</th>\n",
       "      <th>category</th>\n",
       "      <th>ver</th>\n",
       "      <th>complexity</th>\n",
       "      <th>scope</th>\n",
       "      <th>type</th>\n",
       "      <th>duration</th>\n",
       "    </tr>\n",
       "  </thead>\n",
       "  <tbody>\n",
       "    <tr>\n",
       "      <th>0</th>\n",
       "      <td>jbr</td>\n",
       "      <td>bb</td>\n",
       "      <td>tht</td>\n",
       "      <td>2</td>\n",
       "      <td>sgl</td>\n",
       "      <td>3</td>\n",
       "      <td>FP</td>\n",
       "      <td>M00</td>\n",
       "      <td>Medium</td>\n",
       "      <td>NEW BRD</td>\n",
       "      <td>FF</td>\n",
       "      <td>40</td>\n",
       "    </tr>\n",
       "    <tr>\n",
       "      <th>1</th>\n",
       "      <td>bis</td>\n",
       "      <td>sns</td>\n",
       "      <td>tht</td>\n",
       "      <td>2</td>\n",
       "      <td>dbl</td>\n",
       "      <td>6</td>\n",
       "      <td>RG</td>\n",
       "      <td>R2</td>\n",
       "      <td>Medium</td>\n",
       "      <td>MOD-MINOR</td>\n",
       "      <td>FF</td>\n",
       "      <td>73</td>\n",
       "    </tr>\n",
       "    <tr>\n",
       "      <th>2</th>\n",
       "      <td>gq</td>\n",
       "      <td>bb</td>\n",
       "      <td>tht</td>\n",
       "      <td>2</td>\n",
       "      <td>sgl</td>\n",
       "      <td>2</td>\n",
       "      <td>FP</td>\n",
       "      <td>D0</td>\n",
       "      <td>Low</td>\n",
       "      <td>MOD-MINOR</td>\n",
       "      <td>FF</td>\n",
       "      <td>9</td>\n",
       "    </tr>\n",
       "    <tr>\n",
       "      <th>3</th>\n",
       "      <td>gq</td>\n",
       "      <td>bb</td>\n",
       "      <td>tht</td>\n",
       "      <td>2</td>\n",
       "      <td>sgl</td>\n",
       "      <td>2</td>\n",
       "      <td>FP</td>\n",
       "      <td>E0</td>\n",
       "      <td>Medium</td>\n",
       "      <td>MOD-MINOR</td>\n",
       "      <td>FF</td>\n",
       "      <td>76</td>\n",
       "    </tr>\n",
       "    <tr>\n",
       "      <th>4</th>\n",
       "      <td>ced</td>\n",
       "      <td>bb</td>\n",
       "      <td>tht</td>\n",
       "      <td>2</td>\n",
       "      <td>sgl</td>\n",
       "      <td>2</td>\n",
       "      <td>FP</td>\n",
       "      <td>B0</td>\n",
       "      <td>Low</td>\n",
       "      <td>NEW BRD</td>\n",
       "      <td>FF</td>\n",
       "      <td>43</td>\n",
       "    </tr>\n",
       "    <tr>\n",
       "      <th>...</th>\n",
       "      <td>...</td>\n",
       "      <td>...</td>\n",
       "      <td>...</td>\n",
       "      <td>...</td>\n",
       "      <td>...</td>\n",
       "      <td>...</td>\n",
       "      <td>...</td>\n",
       "      <td>...</td>\n",
       "      <td>...</td>\n",
       "      <td>...</td>\n",
       "      <td>...</td>\n",
       "      <td>...</td>\n",
       "    </tr>\n",
       "    <tr>\n",
       "      <th>340</th>\n",
       "      <td>tgr</td>\n",
       "      <td>mlb</td>\n",
       "      <td>astk</td>\n",
       "      <td>12</td>\n",
       "      <td>dbl</td>\n",
       "      <td>1401</td>\n",
       "      <td>RG</td>\n",
       "      <td>E0</td>\n",
       "      <td>High</td>\n",
       "      <td>MOD-MAJOR</td>\n",
       "      <td>FF</td>\n",
       "      <td>75</td>\n",
       "    </tr>\n",
       "    <tr>\n",
       "      <th>341</th>\n",
       "      <td>tsk</td>\n",
       "      <td>mlb</td>\n",
       "      <td>astk</td>\n",
       "      <td>12</td>\n",
       "      <td>dbl</td>\n",
       "      <td>2173</td>\n",
       "      <td>RG</td>\n",
       "      <td>M0</td>\n",
       "      <td>High</td>\n",
       "      <td>NEW BRD</td>\n",
       "      <td>FF</td>\n",
       "      <td>85</td>\n",
       "    </tr>\n",
       "    <tr>\n",
       "      <th>342</th>\n",
       "      <td>tgr</td>\n",
       "      <td>mlb</td>\n",
       "      <td>astk</td>\n",
       "      <td>12</td>\n",
       "      <td>dbl</td>\n",
       "      <td>1402</td>\n",
       "      <td>RG</td>\n",
       "      <td>E2</td>\n",
       "      <td>High</td>\n",
       "      <td>MOD-MINOR</td>\n",
       "      <td>FF</td>\n",
       "      <td>48</td>\n",
       "    </tr>\n",
       "    <tr>\n",
       "      <th>343</th>\n",
       "      <td>tgr</td>\n",
       "      <td>mlb</td>\n",
       "      <td>astk</td>\n",
       "      <td>12</td>\n",
       "      <td>dbl</td>\n",
       "      <td>1405</td>\n",
       "      <td>RG</td>\n",
       "      <td>D0</td>\n",
       "      <td>High</td>\n",
       "      <td>MOD-MAJOR</td>\n",
       "      <td>FF</td>\n",
       "      <td>63</td>\n",
       "    </tr>\n",
       "    <tr>\n",
       "      <th>344</th>\n",
       "      <td>tgr</td>\n",
       "      <td>mlb</td>\n",
       "      <td>cor-astk</td>\n",
       "      <td>12</td>\n",
       "      <td>dbl</td>\n",
       "      <td>1857</td>\n",
       "      <td>RG</td>\n",
       "      <td>E2</td>\n",
       "      <td>High</td>\n",
       "      <td>MOD-MAJOR</td>\n",
       "      <td>FF</td>\n",
       "      <td>29</td>\n",
       "    </tr>\n",
       "  </tbody>\n",
       "</table>\n",
       "<p>345 rows × 12 columns</p>\n",
       "</div>"
      ],
      "text/plain": [
       "    line  fit   viatech  layno  dbl  comp category  ver complexity      scope  \\\n",
       "0    jbr   bb       tht      2  sgl     3       FP  M00     Medium    NEW BRD   \n",
       "1    bis  sns       tht      2  dbl     6       RG   R2     Medium  MOD-MINOR   \n",
       "2     gq   bb       tht      2  sgl     2       FP   D0        Low  MOD-MINOR   \n",
       "3     gq   bb       tht      2  sgl     2       FP   E0     Medium  MOD-MINOR   \n",
       "4    ced   bb       tht      2  sgl     2       FP   B0        Low    NEW BRD   \n",
       "..   ...  ...       ...    ...  ...   ...      ...  ...        ...        ...   \n",
       "340  tgr  mlb      astk     12  dbl  1401       RG   E0       High  MOD-MAJOR   \n",
       "341  tsk  mlb      astk     12  dbl  2173       RG   M0       High    NEW BRD   \n",
       "342  tgr  mlb      astk     12  dbl  1402       RG   E2       High  MOD-MINOR   \n",
       "343  tgr  mlb      astk     12  dbl  1405       RG   D0       High  MOD-MAJOR   \n",
       "344  tgr  mlb  cor-astk     12  dbl  1857       RG   E2       High  MOD-MAJOR   \n",
       "\n",
       "    type  duration  \n",
       "0     FF        40  \n",
       "1     FF        73  \n",
       "2     FF         9  \n",
       "3     FF        76  \n",
       "4     FF        43  \n",
       "..   ...       ...  \n",
       "340   FF        75  \n",
       "341   FF        85  \n",
       "342   FF        48  \n",
       "343   FF        63  \n",
       "344   FF        29  \n",
       "\n",
       "[345 rows x 12 columns]"
      ]
     },
     "execution_count": 34,
     "metadata": {},
     "output_type": "execute_result"
    }
   ],
   "source": [
    "# reload the data and remove the 'ID' column\n",
    "df = pd.read_csv('projects_wrk36636.csv')\n",
    "df = df.drop(columns = ['ID'])# ID is automatically generated\n",
    "df = df.drop(columns = ['viano', 'pins', 'sq', 'dens', 'netno', 'level'])\n",
    "df = df.dropna()\n",
    "df"
   ]
  },
  {
   "cell_type": "markdown",
   "id": "9b08b420",
   "metadata": {},
   "source": [
    "'comp' has a lot of distinct values, but it can be changed as a set of ranges for components numbers. "
   ]
  },
  {
   "cell_type": "code",
   "execution_count": 35,
   "id": "276e797e",
   "metadata": {},
   "outputs": [],
   "source": [
    "df.loc[df['comp'] <= 20, 'comp'] = 1\n",
    "df.loc[(df['comp'] > 20) & (df['comp'] <= 80), 'comp'] = 2\n",
    "df.loc[(df['comp'] > 80) & (df['comp'] <= 250), 'comp'] = 3\n",
    "df.loc[(df['comp'] > 250) & (df['comp'] <= 700), 'comp'] = 4\n",
    "df.loc[(df['comp'] > 700) & (df['comp'] <= 1200), 'comp'] = 5\n",
    "df.loc[df['comp'] > 1200, 'comp'] = 6"
   ]
  },
  {
   "cell_type": "code",
   "execution_count": 36,
   "id": "e89d8f09",
   "metadata": {},
   "outputs": [
    {
     "data": {
      "image/png": "[encoded data removed]",
      "text/plain": [
       "<Figure size 864x864 with 2 Axes>"
      ]
     },
     "metadata": {
      "needs_background": "light"
     },
     "output_type": "display_data"
    }
   ],
   "source": [
    "# correlation matrix\n",
    "fig, ax = plt.subplots(figsize=(12,12)) \n",
    "sns.heatmap(df.corr(), annot=True);"
   ]
  },
  {
   "cell_type": "code",
   "execution_count": 37,
   "id": "35f27546",
   "metadata": {},
   "outputs": [
    {
     "data": {
      "image/png": "[encoded data removed]",
      "text/plain": [
       "<Figure size 432x288 with 1 Axes>"
      ]
     },
     "metadata": {
      "needs_background": "light"
     },
     "output_type": "display_data"
    },
    {
     "data": {
      "image/png": "[encoded data removed]",
      "text/plain": [
       "<Figure size 432x288 with 1 Axes>"
      ]
     },
     "metadata": {
      "needs_background": "light"
     },
     "output_type": "display_data"
    },
    {
     "data": {
      "image/png": "[encoded data removed]",
      "text/plain": [
       "<Figure size 432x288 with 1 Axes>"
      ]
     },
     "metadata": {
      "needs_background": "light"
     },
     "output_type": "display_data"
    }
   ],
   "source": [
    "#visualize the outliers for the numeric values.\n",
    "col_outl = df.select_dtypes(include=['int64','float64']).columns.tolist()\n",
    "for i in col_outl:\n",
    "    plt.figure()\n",
    "    sns.boxplot(x=df[i])\n",
    "    plt.title('Outlier analysis for '+i)"
   ]
  },
  {
   "cell_type": "code",
   "execution_count": 38,
   "id": "5d3ba794",
   "metadata": {},
   "outputs": [
    {
     "name": "stdout",
     "output_type": "stream",
     "text": [
      "<class 'pandas.core.frame.DataFrame'>\n",
      "RangeIndex: 345 entries, 0 to 344\n",
      "Data columns (total 12 columns):\n",
      " #   Column      Non-Null Count  Dtype \n",
      "---  ------      --------------  ----- \n",
      " 0   line        345 non-null    object\n",
      " 1   fit         345 non-null    object\n",
      " 2   viatech     345 non-null    object\n",
      " 3   layno       345 non-null    int64 \n",
      " 4   dbl         345 non-null    object\n",
      " 5   comp        345 non-null    int64 \n",
      " 6   category    345 non-null    object\n",
      " 7   ver         345 non-null    object\n",
      " 8   complexity  345 non-null    object\n",
      " 9   scope       345 non-null    object\n",
      " 10  type        345 non-null    object\n",
      " 11  duration    345 non-null    int64 \n",
      "dtypes: int64(3), object(9)\n",
      "memory usage: 32.5+ KB\n"
     ]
    }
   ],
   "source": [
    "df.info()"
   ]
  },
  {
   "cell_type": "code",
   "execution_count": 39,
   "id": "757d4313",
   "metadata": {},
   "outputs": [],
   "source": [
    "#setting up the train and test sets\n",
    "X = df.drop(columns = ['duration'])\n",
    "y = df['duration']\n",
    "X_train, X_test, y_train, y_test = train_test_split(X, y, test_size = 0.2, random_state = 10)"
   ]
  },
  {
   "cell_type": "code",
   "execution_count": 40,
   "id": "b50d4ddf",
   "metadata": {},
   "outputs": [
    {
     "name": "stdout",
     "output_type": "stream",
     "text": [
      "\u001b[1mBASELINE MEDIAN ABSOLUTE ERROR AS REFERENCE:\n",
      "Train baseline MAE: 23.663043478260867\n",
      "Test baseline MAE: 23.52173913043478\n"
     ]
    }
   ],
   "source": [
    "# calculate the baseline\n",
    "train_base = np.ones(shape = y_train.shape)*y_train.mean()\n",
    "test_base = np.ones(shape = y_test.shape)*y_test.mean()\n",
    "mae_train_base = median_absolute_error(train_base, y_train)\n",
    "mae_test_base = median_absolute_error(test_base, y_test)\n",
    "print('\\033[1mBASELINE MEDIAN ABSOLUTE ERROR AS REFERENCE:')\n",
    "print(f'Train baseline MAE: {mae_train_base}')\n",
    "print(f'Test baseline MAE: {mae_test_base}')"
   ]
  },
  {
   "cell_type": "code",
   "execution_count": 41,
   "id": "998cb4f5",
   "metadata": {},
   "outputs": [],
   "source": [
    "#column sets\n",
    "col_ohe = ['dbl', 'category', 'complexity', 'scope', 'type']\n",
    "col_bin = ['line', 'fit', 'viatech', 'ver']\n",
    "col_std = ['layno', 'comp']"
   ]
  },
  {
   "cell_type": "code",
   "execution_count": 42,
   "id": "1f0e07c7",
   "metadata": {},
   "outputs": [],
   "source": [
    "#create the col transformer\n",
    "transformer = make_column_transformer(\n",
    "                (OneHotEncoder(drop = 'if_binary'), col_ohe),\n",
    "                (ce.BinaryEncoder(),col_bin),\n",
    "                (StandardScaler(), col_std), remainder ='passthrough')"
   ]
  },
  {
   "cell_type": "code",
   "execution_count": 43,
   "id": "f95571c8",
   "metadata": {},
   "outputs": [
    {
     "data": {
      "text/html": [
       "<style>#sk-09be6d05-e7ea-471f-9323-16c73990a8f7 {color: black;background-color: white;}#sk-09be6d05-e7ea-471f-9323-16c73990a8f7 pre{padding: 0;}#sk-09be6d05-e7ea-471f-9323-16c73990a8f7 div.sk-toggleable {background-color: white;}#sk-09be6d05-e7ea-471f-9323-16c73990a8f7 label.sk-toggleable__label {cursor: pointer;display: block;width: 100%;margin-bottom: 0;padding: 0.3em;box-sizing: border-box;text-align: center;}#sk-09be6d05-e7ea-471f-9323-16c73990a8f7 label.sk-toggleable__label-arrow:before {content: \"▸\";float: left;margin-right: 0.25em;color: #696969;}#sk-09be6d05-e7ea-471f-9323-16c73990a8f7 label.sk-toggleable__label-arrow:hover:before {color: black;}#sk-09be6d05-e7ea-471f-9323-16c73990a8f7 div.sk-estimator:hover label.sk-toggleable__label-arrow:before {color: black;}#sk-09be6d05-e7ea-471f-9323-16c73990a8f7 div.sk-toggleable__content {max-height: 0;max-width: 0;overflow: hidden;text-align: left;background-color: #f0f8ff;}#sk-09be6d05-e7ea-471f-9323-16c73990a8f7 div.sk-toggleable__content pre {margin: 0.2em;color: black;border-radius: 0.25em;background-color: #f0f8ff;}#sk-09be6d05-e7ea-471f-9323-16c73990a8f7 input.sk-toggleable__control:checked~div.sk-toggleable__content {max-height: 200px;max-width: 100%;overflow: auto;}#sk-09be6d05-e7ea-471f-9323-16c73990a8f7 input.sk-toggleable__control:checked~label.sk-toggleable__label-arrow:before {content: \"▾\";}#sk-09be6d05-e7ea-471f-9323-16c73990a8f7 div.sk-estimator input.sk-toggleable__control:checked~label.sk-toggleable__label {background-color: #d4ebff;}#sk-09be6d05-e7ea-471f-9323-16c73990a8f7 div.sk-label input.sk-toggleable__control:checked~label.sk-toggleable__label {background-color: #d4ebff;}#sk-09be6d05-e7ea-471f-9323-16c73990a8f7 input.sk-hidden--visually {border: 0;clip: rect(1px 1px 1px 1px);clip: rect(1px, 1px, 1px, 1px);height: 1px;margin: -1px;overflow: hidden;padding: 0;position: absolute;width: 1px;}#sk-09be6d05-e7ea-471f-9323-16c73990a8f7 div.sk-estimator {font-family: monospace;background-color: #f0f8ff;border: 1px dotted black;border-radius: 0.25em;box-sizing: border-box;margin-bottom: 0.5em;}#sk-09be6d05-e7ea-471f-9323-16c73990a8f7 div.sk-estimator:hover {background-color: #d4ebff;}#sk-09be6d05-e7ea-471f-9323-16c73990a8f7 div.sk-parallel-item::after {content: \"\";width: 100%;border-bottom: 1px solid gray;flex-grow: 1;}#sk-09be6d05-e7ea-471f-9323-16c73990a8f7 div.sk-label:hover label.sk-toggleable__label {background-color: #d4ebff;}#sk-09be6d05-e7ea-471f-9323-16c73990a8f7 div.sk-serial::before {content: \"\";position: absolute;border-left: 1px solid gray;box-sizing: border-box;top: 2em;bottom: 0;left: 50%;}#sk-09be6d05-e7ea-471f-9323-16c73990a8f7 div.sk-serial {display: flex;flex-direction: column;align-items: center;background-color: white;padding-right: 0.2em;padding-left: 0.2em;}#sk-09be6d05-e7ea-471f-9323-16c73990a8f7 div.sk-item {z-index: 1;}#sk-09be6d05-e7ea-471f-9323-16c73990a8f7 div.sk-parallel {display: flex;align-items: stretch;justify-content: center;background-color: white;}#sk-09be6d05-e7ea-471f-9323-16c73990a8f7 div.sk-parallel::before {content: \"\";position: absolute;border-left: 1px solid gray;box-sizing: border-box;top: 2em;bottom: 0;left: 50%;}#sk-09be6d05-e7ea-471f-9323-16c73990a8f7 div.sk-parallel-item {display: flex;flex-direction: column;position: relative;background-color: white;}#sk-09be6d05-e7ea-471f-9323-16c73990a8f7 div.sk-parallel-item:first-child::after {align-self: flex-end;width: 50%;}#sk-09be6d05-e7ea-471f-9323-16c73990a8f7 div.sk-parallel-item:last-child::after {align-self: flex-start;width: 50%;}#sk-09be6d05-e7ea-471f-9323-16c73990a8f7 div.sk-parallel-item:only-child::after {width: 0;}#sk-09be6d05-e7ea-471f-9323-16c73990a8f7 div.sk-dashed-wrapped {border: 1px dashed gray;margin: 0 0.4em 0.5em 0.4em;box-sizing: border-box;padding-bottom: 0.4em;background-color: white;position: relative;}#sk-09be6d05-e7ea-471f-9323-16c73990a8f7 div.sk-label label {font-family: monospace;font-weight: bold;background-color: white;display: inline-block;line-height: 1.2em;}#sk-09be6d05-e7ea-471f-9323-16c73990a8f7 div.sk-label-container {position: relative;z-index: 2;text-align: center;}#sk-09be6d05-e7ea-471f-9323-16c73990a8f7 div.sk-container {/* jupyter's `normalize.less` sets `[hidden] { display: none; }` but bootstrap.min.css set `[hidden] { display: none !important; }` so we also need the `!important` here to be able to override the default hidden behavior on the sphinx rendered scikit-learn.org. See: https://github.com/scikit-learn/scikit-learn/issues/21755 */display: inline-block !important;position: relative;}#sk-09be6d05-e7ea-471f-9323-16c73990a8f7 div.sk-text-repr-fallback {display: none;}</style><div id=\"sk-09be6d05-e7ea-471f-9323-16c73990a8f7\" class=\"sk-top-container\"><div class=\"sk-text-repr-fallback\"><pre>Pipeline(steps=[(&#x27;transformer&#x27;,\n",
       "                 ColumnTransformer(remainder=&#x27;passthrough&#x27;,\n",
       "                                   transformers=[(&#x27;onehotencoder&#x27;,\n",
       "                                                  OneHotEncoder(drop=&#x27;if_binary&#x27;),\n",
       "                                                  [&#x27;dbl&#x27;, &#x27;category&#x27;,\n",
       "                                                   &#x27;complexity&#x27;, &#x27;scope&#x27;,\n",
       "                                                   &#x27;type&#x27;]),\n",
       "                                                 (&#x27;binaryencoder&#x27;,\n",
       "                                                  BinaryEncoder(),\n",
       "                                                  [&#x27;line&#x27;, &#x27;fit&#x27;, &#x27;viatech&#x27;,\n",
       "                                                   &#x27;ver&#x27;]),\n",
       "                                                 (&#x27;standardscaler&#x27;,\n",
       "                                                  StandardScaler(),\n",
       "                                                  [&#x27;layno&#x27;, &#x27;comp&#x27;])])),\n",
       "                (&#x27;model&#x27;, LinearRegression())])</pre><b>Please rerun this cell to show the HTML repr or trust the notebook.</b></div><div class=\"sk-container\" hidden><div class=\"sk-item sk-dashed-wrapped\"><div class=\"sk-label-container\"><div class=\"sk-label sk-toggleable\"><input class=\"sk-toggleable__control sk-hidden--visually\" id=\"af90bc9e-2db3-4769-be21-5b799bebef1b\" type=\"checkbox\" ><label for=\"af90bc9e-2db3-4769-be21-5b799bebef1b\" class=\"sk-toggleable__label sk-toggleable__label-arrow\">Pipeline</label><div class=\"sk-toggleable__content\"><pre>Pipeline(steps=[(&#x27;transformer&#x27;,\n",
       "                 ColumnTransformer(remainder=&#x27;passthrough&#x27;,\n",
       "                                   transformers=[(&#x27;onehotencoder&#x27;,\n",
       "                                                  OneHotEncoder(drop=&#x27;if_binary&#x27;),\n",
       "                                                  [&#x27;dbl&#x27;, &#x27;category&#x27;,\n",
       "                                                   &#x27;complexity&#x27;, &#x27;scope&#x27;,\n",
       "                                                   &#x27;type&#x27;]),\n",
       "                                                 (&#x27;binaryencoder&#x27;,\n",
       "                                                  BinaryEncoder(),\n",
       "                                                  [&#x27;line&#x27;, &#x27;fit&#x27;, &#x27;viatech&#x27;,\n",
       "                                                   &#x27;ver&#x27;]),\n",
       "                                                 (&#x27;standardscaler&#x27;,\n",
       "                                                  StandardScaler(),\n",
       "                                                  [&#x27;layno&#x27;, &#x27;comp&#x27;])])),\n",
       "                (&#x27;model&#x27;, LinearRegression())])</pre></div></div></div><div class=\"sk-serial\"><div class=\"sk-item sk-dashed-wrapped\"><div class=\"sk-label-container\"><div class=\"sk-label sk-toggleable\"><input class=\"sk-toggleable__control sk-hidden--visually\" id=\"f21b47fc-5bd8-4a3a-a1da-1c8e092df5c6\" type=\"checkbox\" ><label for=\"f21b47fc-5bd8-4a3a-a1da-1c8e092df5c6\" class=\"sk-toggleable__label sk-toggleable__label-arrow\">transformer: ColumnTransformer</label><div class=\"sk-toggleable__content\"><pre>ColumnTransformer(remainder=&#x27;passthrough&#x27;,\n",
       "                  transformers=[(&#x27;onehotencoder&#x27;,\n",
       "                                 OneHotEncoder(drop=&#x27;if_binary&#x27;),\n",
       "                                 [&#x27;dbl&#x27;, &#x27;category&#x27;, &#x27;complexity&#x27;, &#x27;scope&#x27;,\n",
       "                                  &#x27;type&#x27;]),\n",
       "                                (&#x27;binaryencoder&#x27;, BinaryEncoder(),\n",
       "                                 [&#x27;line&#x27;, &#x27;fit&#x27;, &#x27;viatech&#x27;, &#x27;ver&#x27;]),\n",
       "                                (&#x27;standardscaler&#x27;, StandardScaler(),\n",
       "                                 [&#x27;layno&#x27;, &#x27;comp&#x27;])])</pre></div></div></div><div class=\"sk-parallel\"><div class=\"sk-parallel-item\"><div class=\"sk-item\"><div class=\"sk-label-container\"><div class=\"sk-label sk-toggleable\"><input class=\"sk-toggleable__control sk-hidden--visually\" id=\"b82e0d84-243b-4bcf-8dee-ac625a8d3543\" type=\"checkbox\" ><label for=\"b82e0d84-243b-4bcf-8dee-ac625a8d3543\" class=\"sk-toggleable__label sk-toggleable__label-arrow\">onehotencoder</label><div class=\"sk-toggleable__content\"><pre>[&#x27;dbl&#x27;, &#x27;category&#x27;, &#x27;complexity&#x27;, &#x27;scope&#x27;, &#x27;type&#x27;]</pre></div></div></div><div class=\"sk-serial\"><div class=\"sk-item\"><div class=\"sk-estimator sk-toggleable\"><input class=\"sk-toggleable__control sk-hidden--visually\" id=\"3eaf2234-e57f-409c-9a1c-01c00db941b7\" type=\"checkbox\" ><label for=\"3eaf2234-e57f-409c-9a1c-01c00db941b7\" class=\"sk-toggleable__label sk-toggleable__label-arrow\">OneHotEncoder</label><div class=\"sk-toggleable__content\"><pre>OneHotEncoder(drop=&#x27;if_binary&#x27;)</pre></div></div></div></div></div></div><div class=\"sk-parallel-item\"><div class=\"sk-item\"><div class=\"sk-label-container\"><div class=\"sk-label sk-toggleable\"><input class=\"sk-toggleable__control sk-hidden--visually\" id=\"679cca78-10f8-485f-85da-72060286d8d8\" type=\"checkbox\" ><label for=\"679cca78-10f8-485f-85da-72060286d8d8\" class=\"sk-toggleable__label sk-toggleable__label-arrow\">binaryencoder</label><div class=\"sk-toggleable__content\"><pre>[&#x27;line&#x27;, &#x27;fit&#x27;, &#x27;viatech&#x27;, &#x27;ver&#x27;]</pre></div></div></div><div class=\"sk-serial\"><div class=\"sk-item\"><div class=\"sk-estimator sk-toggleable\"><input class=\"sk-toggleable__control sk-hidden--visually\" id=\"733a89f5-f108-47b1-b0d9-7ab249772b06\" type=\"checkbox\" ><label for=\"733a89f5-f108-47b1-b0d9-7ab249772b06\" class=\"sk-toggleable__label sk-toggleable__label-arrow\">BinaryEncoder</label><div class=\"sk-toggleable__content\"><pre>BinaryEncoder()</pre></div></div></div></div></div></div><div class=\"sk-parallel-item\"><div class=\"sk-item\"><div class=\"sk-label-container\"><div class=\"sk-label sk-toggleable\"><input class=\"sk-toggleable__control sk-hidden--visually\" id=\"374fb95c-7ce2-4ee9-8ec9-ae1f685f6b74\" type=\"checkbox\" ><label for=\"374fb95c-7ce2-4ee9-8ec9-ae1f685f6b74\" class=\"sk-toggleable__label sk-toggleable__label-arrow\">standardscaler</label><div class=\"sk-toggleable__content\"><pre>[&#x27;layno&#x27;, &#x27;comp&#x27;]</pre></div></div></div><div class=\"sk-serial\"><div class=\"sk-item\"><div class=\"sk-estimator sk-toggleable\"><input class=\"sk-toggleable__control sk-hidden--visually\" id=\"b28660ec-e510-4271-8208-dc19ab85843b\" type=\"checkbox\" ><label for=\"b28660ec-e510-4271-8208-dc19ab85843b\" class=\"sk-toggleable__label sk-toggleable__label-arrow\">StandardScaler</label><div class=\"sk-toggleable__content\"><pre>StandardScaler()</pre></div></div></div></div></div></div><div class=\"sk-parallel-item\"><div class=\"sk-item\"><div class=\"sk-label-container\"><div class=\"sk-label sk-toggleable\"><input class=\"sk-toggleable__control sk-hidden--visually\" id=\"6cbf341a-1e84-41fa-91b2-397788132804\" type=\"checkbox\" ><label for=\"6cbf341a-1e84-41fa-91b2-397788132804\" class=\"sk-toggleable__label sk-toggleable__label-arrow\">remainder</label><div class=\"sk-toggleable__content\"><pre>[]</pre></div></div></div><div class=\"sk-serial\"><div class=\"sk-item\"><div class=\"sk-estimator sk-toggleable\"><input class=\"sk-toggleable__control sk-hidden--visually\" id=\"abb5ca09-4416-4b14-b28f-524f44facaf9\" type=\"checkbox\" ><label for=\"abb5ca09-4416-4b14-b28f-524f44facaf9\" class=\"sk-toggleable__label sk-toggleable__label-arrow\">passthrough</label><div class=\"sk-toggleable__content\"><pre>passthrough</pre></div></div></div></div></div></div></div></div><div class=\"sk-item\"><div class=\"sk-estimator sk-toggleable\"><input class=\"sk-toggleable__control sk-hidden--visually\" id=\"0c5839eb-4acb-4266-82cd-6da137bb5335\" type=\"checkbox\" ><label for=\"0c5839eb-4acb-4266-82cd-6da137bb5335\" class=\"sk-toggleable__label sk-toggleable__label-arrow\">LinearRegression</label><div class=\"sk-toggleable__content\"><pre>LinearRegression()</pre></div></div></div></div></div></div></div>"
      ],
      "text/plain": [
       "Pipeline(steps=[('transformer',\n",
       "                 ColumnTransformer(remainder='passthrough',\n",
       "                                   transformers=[('onehotencoder',\n",
       "                                                  OneHotEncoder(drop='if_binary'),\n",
       "                                                  ['dbl', 'category',\n",
       "                                                   'complexity', 'scope',\n",
       "                                                   'type']),\n",
       "                                                 ('binaryencoder',\n",
       "                                                  BinaryEncoder(),\n",
       "                                                  ['line', 'fit', 'viatech',\n",
       "                                                   'ver']),\n",
       "                                                 ('standardscaler',\n",
       "                                                  StandardScaler(),\n",
       "                                                  ['layno', 'comp'])])),\n",
       "                ('model', LinearRegression())])"
      ]
     },
     "execution_count": 43,
     "metadata": {},
     "output_type": "execute_result"
    }
   ],
   "source": [
    "#create first pipeline just with LinearRegression\n",
    "pipe1 = Pipeline([('transformer', transformer),\n",
    "                    ('model', LinearRegression())])\n",
    "pipe1.fit(X_train, y_train)"
   ]
  },
  {
   "cell_type": "code",
   "execution_count": 44,
   "id": "4506b3ee",
   "metadata": {},
   "outputs": [
    {
     "name": "stdout",
     "output_type": "stream",
     "text": [
      "Pipe1 Train MAE: 17.70695301149741\n",
      "Pipe1 Test MAE: 18.862654765627767\n",
      "Pipe1 Accuracy Score: 0.2523957506219575\n"
     ]
    }
   ],
   "source": [
    "pred1_train = pipe1.predict(X_train)\n",
    "pred1_test = pipe1.predict(X_test)\n",
    "score1 = pipe1.score(X_test, y_test)\n",
    "print(f'Pipe1 Train MAE: {median_absolute_error(y_train, pred1_train)}')\n",
    "print(f'Pipe1 Test MAE: {median_absolute_error(y_test, pred1_test)}')\n",
    "print(f'Pipe1 Accuracy Score: {score1}')\n",
    "values = []\n",
    "values.append(['Linear', median_absolute_error(y_train, pred1_train),median_absolute_error(y_test, pred1_test),\n",
    "             score1])"
   ]
  },
  {
   "cell_type": "code",
   "execution_count": 45,
   "id": "f306fda0",
   "metadata": {},
   "outputs": [
    {
     "data": {
      "text/html": [
       "<style>#sk-594fa827-e544-43d5-aef1-fcb9820e7585 {color: black;background-color: white;}#sk-594fa827-e544-43d5-aef1-fcb9820e7585 pre{padding: 0;}#sk-594fa827-e544-43d5-aef1-fcb9820e7585 div.sk-toggleable {background-color: white;}#sk-594fa827-e544-43d5-aef1-fcb9820e7585 label.sk-toggleable__label {cursor: pointer;display: block;width: 100%;margin-bottom: 0;padding: 0.3em;box-sizing: border-box;text-align: center;}#sk-594fa827-e544-43d5-aef1-fcb9820e7585 label.sk-toggleable__label-arrow:before {content: \"▸\";float: left;margin-right: 0.25em;color: #696969;}#sk-594fa827-e544-43d5-aef1-fcb9820e7585 label.sk-toggleable__label-arrow:hover:before {color: black;}#sk-594fa827-e544-43d5-aef1-fcb9820e7585 div.sk-estimator:hover label.sk-toggleable__label-arrow:before {color: black;}#sk-594fa827-e544-43d5-aef1-fcb9820e7585 div.sk-toggleable__content {max-height: 0;max-width: 0;overflow: hidden;text-align: left;background-color: #f0f8ff;}#sk-594fa827-e544-43d5-aef1-fcb9820e7585 div.sk-toggleable__content pre {margin: 0.2em;color: black;border-radius: 0.25em;background-color: #f0f8ff;}#sk-594fa827-e544-43d5-aef1-fcb9820e7585 input.sk-toggleable__control:checked~div.sk-toggleable__content {max-height: 200px;max-width: 100%;overflow: auto;}#sk-594fa827-e544-43d5-aef1-fcb9820e7585 input.sk-toggleable__control:checked~label.sk-toggleable__label-arrow:before {content: \"▾\";}#sk-594fa827-e544-43d5-aef1-fcb9820e7585 div.sk-estimator input.sk-toggleable__control:checked~label.sk-toggleable__label {background-color: #d4ebff;}#sk-594fa827-e544-43d5-aef1-fcb9820e7585 div.sk-label input.sk-toggleable__control:checked~label.sk-toggleable__label {background-color: #d4ebff;}#sk-594fa827-e544-43d5-aef1-fcb9820e7585 input.sk-hidden--visually {border: 0;clip: rect(1px 1px 1px 1px);clip: rect(1px, 1px, 1px, 1px);height: 1px;margin: -1px;overflow: hidden;padding: 0;position: absolute;width: 1px;}#sk-594fa827-e544-43d5-aef1-fcb9820e7585 div.sk-estimator {font-family: monospace;background-color: #f0f8ff;border: 1px dotted black;border-radius: 0.25em;box-sizing: border-box;margin-bottom: 0.5em;}#sk-594fa827-e544-43d5-aef1-fcb9820e7585 div.sk-estimator:hover {background-color: #d4ebff;}#sk-594fa827-e544-43d5-aef1-fcb9820e7585 div.sk-parallel-item::after {content: \"\";width: 100%;border-bottom: 1px solid gray;flex-grow: 1;}#sk-594fa827-e544-43d5-aef1-fcb9820e7585 div.sk-label:hover label.sk-toggleable__label {background-color: #d4ebff;}#sk-594fa827-e544-43d5-aef1-fcb9820e7585 div.sk-serial::before {content: \"\";position: absolute;border-left: 1px solid gray;box-sizing: border-box;top: 2em;bottom: 0;left: 50%;}#sk-594fa827-e544-43d5-aef1-fcb9820e7585 div.sk-serial {display: flex;flex-direction: column;align-items: center;background-color: white;padding-right: 0.2em;padding-left: 0.2em;}#sk-594fa827-e544-43d5-aef1-fcb9820e7585 div.sk-item {z-index: 1;}#sk-594fa827-e544-43d5-aef1-fcb9820e7585 div.sk-parallel {display: flex;align-items: stretch;justify-content: center;background-color: white;}#sk-594fa827-e544-43d5-aef1-fcb9820e7585 div.sk-parallel::before {content: \"\";position: absolute;border-left: 1px solid gray;box-sizing: border-box;top: 2em;bottom: 0;left: 50%;}#sk-594fa827-e544-43d5-aef1-fcb9820e7585 div.sk-parallel-item {display: flex;flex-direction: column;position: relative;background-color: white;}#sk-594fa827-e544-43d5-aef1-fcb9820e7585 div.sk-parallel-item:first-child::after {align-self: flex-end;width: 50%;}#sk-594fa827-e544-43d5-aef1-fcb9820e7585 div.sk-parallel-item:last-child::after {align-self: flex-start;width: 50%;}#sk-594fa827-e544-43d5-aef1-fcb9820e7585 div.sk-parallel-item:only-child::after {width: 0;}#sk-594fa827-e544-43d5-aef1-fcb9820e7585 div.sk-dashed-wrapped {border: 1px dashed gray;margin: 0 0.4em 0.5em 0.4em;box-sizing: border-box;padding-bottom: 0.4em;background-color: white;position: relative;}#sk-594fa827-e544-43d5-aef1-fcb9820e7585 div.sk-label label {font-family: monospace;font-weight: bold;background-color: white;display: inline-block;line-height: 1.2em;}#sk-594fa827-e544-43d5-aef1-fcb9820e7585 div.sk-label-container {position: relative;z-index: 2;text-align: center;}#sk-594fa827-e544-43d5-aef1-fcb9820e7585 div.sk-container {/* jupyter's `normalize.less` sets `[hidden] { display: none; }` but bootstrap.min.css set `[hidden] { display: none !important; }` so we also need the `!important` here to be able to override the default hidden behavior on the sphinx rendered scikit-learn.org. See: https://github.com/scikit-learn/scikit-learn/issues/21755 */display: inline-block !important;position: relative;}#sk-594fa827-e544-43d5-aef1-fcb9820e7585 div.sk-text-repr-fallback {display: none;}</style><div id=\"sk-594fa827-e544-43d5-aef1-fcb9820e7585\" class=\"sk-top-container\"><div class=\"sk-text-repr-fallback\"><pre>Pipeline(steps=[(&#x27;transformer&#x27;,\n",
       "                 ColumnTransformer(remainder=&#x27;passthrough&#x27;,\n",
       "                                   transformers=[(&#x27;onehotencoder&#x27;,\n",
       "                                                  OneHotEncoder(drop=&#x27;if_binary&#x27;),\n",
       "                                                  [&#x27;dbl&#x27;, &#x27;category&#x27;,\n",
       "                                                   &#x27;complexity&#x27;, &#x27;scope&#x27;,\n",
       "                                                   &#x27;type&#x27;]),\n",
       "                                                 (&#x27;binaryencoder&#x27;,\n",
       "                                                  BinaryEncoder(),\n",
       "                                                  [&#x27;line&#x27;, &#x27;fit&#x27;, &#x27;viatech&#x27;,\n",
       "                                                   &#x27;ver&#x27;]),\n",
       "                                                 (&#x27;standardscaler&#x27;,\n",
       "                                                  StandardScaler(),\n",
       "                                                  [&#x27;layno&#x27;, &#x27;comp&#x27;])])),\n",
       "                (&#x27;model&#x27;, Ridge(random_state=10))])</pre><b>Please rerun this cell to show the HTML repr or trust the notebook.</b></div><div class=\"sk-container\" hidden><div class=\"sk-item sk-dashed-wrapped\"><div class=\"sk-label-container\"><div class=\"sk-label sk-toggleable\"><input class=\"sk-toggleable__control sk-hidden--visually\" id=\"557c1e1d-33ad-44ba-a686-a7d38ad7f995\" type=\"checkbox\" ><label for=\"557c1e1d-33ad-44ba-a686-a7d38ad7f995\" class=\"sk-toggleable__label sk-toggleable__label-arrow\">Pipeline</label><div class=\"sk-toggleable__content\"><pre>Pipeline(steps=[(&#x27;transformer&#x27;,\n",
       "                 ColumnTransformer(remainder=&#x27;passthrough&#x27;,\n",
       "                                   transformers=[(&#x27;onehotencoder&#x27;,\n",
       "                                                  OneHotEncoder(drop=&#x27;if_binary&#x27;),\n",
       "                                                  [&#x27;dbl&#x27;, &#x27;category&#x27;,\n",
       "                                                   &#x27;complexity&#x27;, &#x27;scope&#x27;,\n",
       "                                                   &#x27;type&#x27;]),\n",
       "                                                 (&#x27;binaryencoder&#x27;,\n",
       "                                                  BinaryEncoder(),\n",
       "                                                  [&#x27;line&#x27;, &#x27;fit&#x27;, &#x27;viatech&#x27;,\n",
       "                                                   &#x27;ver&#x27;]),\n",
       "                                                 (&#x27;standardscaler&#x27;,\n",
       "                                                  StandardScaler(),\n",
       "                                                  [&#x27;layno&#x27;, &#x27;comp&#x27;])])),\n",
       "                (&#x27;model&#x27;, Ridge(random_state=10))])</pre></div></div></div><div class=\"sk-serial\"><div class=\"sk-item sk-dashed-wrapped\"><div class=\"sk-label-container\"><div class=\"sk-label sk-toggleable\"><input class=\"sk-toggleable__control sk-hidden--visually\" id=\"f3b44a23-f30f-4f69-ad94-dcf84162dc3e\" type=\"checkbox\" ><label for=\"f3b44a23-f30f-4f69-ad94-dcf84162dc3e\" class=\"sk-toggleable__label sk-toggleable__label-arrow\">transformer: ColumnTransformer</label><div class=\"sk-toggleable__content\"><pre>ColumnTransformer(remainder=&#x27;passthrough&#x27;,\n",
       "                  transformers=[(&#x27;onehotencoder&#x27;,\n",
       "                                 OneHotEncoder(drop=&#x27;if_binary&#x27;),\n",
       "                                 [&#x27;dbl&#x27;, &#x27;category&#x27;, &#x27;complexity&#x27;, &#x27;scope&#x27;,\n",
       "                                  &#x27;type&#x27;]),\n",
       "                                (&#x27;binaryencoder&#x27;, BinaryEncoder(),\n",
       "                                 [&#x27;line&#x27;, &#x27;fit&#x27;, &#x27;viatech&#x27;, &#x27;ver&#x27;]),\n",
       "                                (&#x27;standardscaler&#x27;, StandardScaler(),\n",
       "                                 [&#x27;layno&#x27;, &#x27;comp&#x27;])])</pre></div></div></div><div class=\"sk-parallel\"><div class=\"sk-parallel-item\"><div class=\"sk-item\"><div class=\"sk-label-container\"><div class=\"sk-label sk-toggleable\"><input class=\"sk-toggleable__control sk-hidden--visually\" id=\"91858184-1bdc-4b54-8455-c1fbf31243ba\" type=\"checkbox\" ><label for=\"91858184-1bdc-4b54-8455-c1fbf31243ba\" class=\"sk-toggleable__label sk-toggleable__label-arrow\">onehotencoder</label><div class=\"sk-toggleable__content\"><pre>[&#x27;dbl&#x27;, &#x27;category&#x27;, &#x27;complexity&#x27;, &#x27;scope&#x27;, &#x27;type&#x27;]</pre></div></div></div><div class=\"sk-serial\"><div class=\"sk-item\"><div class=\"sk-estimator sk-toggleable\"><input class=\"sk-toggleable__control sk-hidden--visually\" id=\"40e2ecda-f429-42a0-b515-8e515a881f34\" type=\"checkbox\" ><label for=\"40e2ecda-f429-42a0-b515-8e515a881f34\" class=\"sk-toggleable__label sk-toggleable__label-arrow\">OneHotEncoder</label><div class=\"sk-toggleable__content\"><pre>OneHotEncoder(drop=&#x27;if_binary&#x27;)</pre></div></div></div></div></div></div><div class=\"sk-parallel-item\"><div class=\"sk-item\"><div class=\"sk-label-container\"><div class=\"sk-label sk-toggleable\"><input class=\"sk-toggleable__control sk-hidden--visually\" id=\"2d247d2a-fc49-4c7d-b7f4-b6fcfa51ba45\" type=\"checkbox\" ><label for=\"2d247d2a-fc49-4c7d-b7f4-b6fcfa51ba45\" class=\"sk-toggleable__label sk-toggleable__label-arrow\">binaryencoder</label><div class=\"sk-toggleable__content\"><pre>[&#x27;line&#x27;, &#x27;fit&#x27;, &#x27;viatech&#x27;, &#x27;ver&#x27;]</pre></div></div></div><div class=\"sk-serial\"><div class=\"sk-item\"><div class=\"sk-estimator sk-toggleable\"><input class=\"sk-toggleable__control sk-hidden--visually\" id=\"70e1c15d-b175-4a56-b011-fb8bfa00001b\" type=\"checkbox\" ><label for=\"70e1c15d-b175-4a56-b011-fb8bfa00001b\" class=\"sk-toggleable__label sk-toggleable__label-arrow\">BinaryEncoder</label><div class=\"sk-toggleable__content\"><pre>BinaryEncoder()</pre></div></div></div></div></div></div><div class=\"sk-parallel-item\"><div class=\"sk-item\"><div class=\"sk-label-container\"><div class=\"sk-label sk-toggleable\"><input class=\"sk-toggleable__control sk-hidden--visually\" id=\"e74e3195-380e-4250-9779-b49a6b649f3d\" type=\"checkbox\" ><label for=\"e74e3195-380e-4250-9779-b49a6b649f3d\" class=\"sk-toggleable__label sk-toggleable__label-arrow\">standardscaler</label><div class=\"sk-toggleable__content\"><pre>[&#x27;layno&#x27;, &#x27;comp&#x27;]</pre></div></div></div><div class=\"sk-serial\"><div class=\"sk-item\"><div class=\"sk-estimator sk-toggleable\"><input class=\"sk-toggleable__control sk-hidden--visually\" id=\"8736075a-e7a9-44b6-a4fe-3d776aee55bd\" type=\"checkbox\" ><label for=\"8736075a-e7a9-44b6-a4fe-3d776aee55bd\" class=\"sk-toggleable__label sk-toggleable__label-arrow\">StandardScaler</label><div class=\"sk-toggleable__content\"><pre>StandardScaler()</pre></div></div></div></div></div></div><div class=\"sk-parallel-item\"><div class=\"sk-item\"><div class=\"sk-label-container\"><div class=\"sk-label sk-toggleable\"><input class=\"sk-toggleable__control sk-hidden--visually\" id=\"a9ab7cd9-296d-4622-aec3-740d663c31b1\" type=\"checkbox\" ><label for=\"a9ab7cd9-296d-4622-aec3-740d663c31b1\" class=\"sk-toggleable__label sk-toggleable__label-arrow\">remainder</label><div class=\"sk-toggleable__content\"><pre>[]</pre></div></div></div><div class=\"sk-serial\"><div class=\"sk-item\"><div class=\"sk-estimator sk-toggleable\"><input class=\"sk-toggleable__control sk-hidden--visually\" id=\"ed86e307-91bc-4413-b7de-a1cbe67b1fad\" type=\"checkbox\" ><label for=\"ed86e307-91bc-4413-b7de-a1cbe67b1fad\" class=\"sk-toggleable__label sk-toggleable__label-arrow\">passthrough</label><div class=\"sk-toggleable__content\"><pre>passthrough</pre></div></div></div></div></div></div></div></div><div class=\"sk-item\"><div class=\"sk-estimator sk-toggleable\"><input class=\"sk-toggleable__control sk-hidden--visually\" id=\"7e635c06-4233-49de-bc2c-5d43ea67fbb1\" type=\"checkbox\" ><label for=\"7e635c06-4233-49de-bc2c-5d43ea67fbb1\" class=\"sk-toggleable__label sk-toggleable__label-arrow\">Ridge</label><div class=\"sk-toggleable__content\"><pre>Ridge(random_state=10)</pre></div></div></div></div></div></div></div>"
      ],
      "text/plain": [
       "Pipeline(steps=[('transformer',\n",
       "                 ColumnTransformer(remainder='passthrough',\n",
       "                                   transformers=[('onehotencoder',\n",
       "                                                  OneHotEncoder(drop='if_binary'),\n",
       "                                                  ['dbl', 'category',\n",
       "                                                   'complexity', 'scope',\n",
       "                                                   'type']),\n",
       "                                                 ('binaryencoder',\n",
       "                                                  BinaryEncoder(),\n",
       "                                                  ['line', 'fit', 'viatech',\n",
       "                                                   'ver']),\n",
       "                                                 ('standardscaler',\n",
       "                                                  StandardScaler(),\n",
       "                                                  ['layno', 'comp'])])),\n",
       "                ('model', Ridge(random_state=10))])"
      ]
     },
     "execution_count": 45,
     "metadata": {},
     "output_type": "execute_result"
    }
   ],
   "source": [
    "#pipe 2 with Ridge default\n",
    "pipe2 = Pipeline([('transformer', transformer),\n",
    "                    ('model', Ridge(random_state = 10))])\n",
    "pipe2.fit(X_train, y_train)"
   ]
  },
  {
   "cell_type": "code",
   "execution_count": 46,
   "id": "c74dba6b",
   "metadata": {},
   "outputs": [
    {
     "name": "stdout",
     "output_type": "stream",
     "text": [
      "Pipe2 Train MAE: 17.645737705264867\n",
      "Pipe2 Test MAE: 19.15504202353587\n",
      "Pipe2 Accuracy Score: 0.2564556392819003\n"
     ]
    }
   ],
   "source": [
    "pred2_train = pipe2.predict(X_train)\n",
    "pred2_test = pipe2.predict(X_test)\n",
    "score2 = pipe2.score(X_test, y_test)\n",
    "print(f'Pipe2 Train MAE: {median_absolute_error(y_train, pred2_train)}')\n",
    "print(f'Pipe2 Test MAE: {median_absolute_error(y_test, pred2_test)}')\n",
    "print(f'Pipe2 Accuracy Score: {score2}')\n",
    "values.append(['Ridge', median_absolute_error(y_train, pred2_train),median_absolute_error(y_test, pred2_test),\n",
    "             score2])"
   ]
  },
  {
   "cell_type": "code",
   "execution_count": 47,
   "id": "75b4dcd4",
   "metadata": {},
   "outputs": [
    {
     "data": {
      "text/html": [
       "<style>#sk-977416dc-220e-4b41-bfa2-948c0200e7f6 {color: black;background-color: white;}#sk-977416dc-220e-4b41-bfa2-948c0200e7f6 pre{padding: 0;}#sk-977416dc-220e-4b41-bfa2-948c0200e7f6 div.sk-toggleable {background-color: white;}#sk-977416dc-220e-4b41-bfa2-948c0200e7f6 label.sk-toggleable__label {cursor: pointer;display: block;width: 100%;margin-bottom: 0;padding: 0.3em;box-sizing: border-box;text-align: center;}#sk-977416dc-220e-4b41-bfa2-948c0200e7f6 label.sk-toggleable__label-arrow:before {content: \"▸\";float: left;margin-right: 0.25em;color: #696969;}#sk-977416dc-220e-4b41-bfa2-948c0200e7f6 label.sk-toggleable__label-arrow:hover:before {color: black;}#sk-977416dc-220e-4b41-bfa2-948c0200e7f6 div.sk-estimator:hover label.sk-toggleable__label-arrow:before {color: black;}#sk-977416dc-220e-4b41-bfa2-948c0200e7f6 div.sk-toggleable__content {max-height: 0;max-width: 0;overflow: hidden;text-align: left;background-color: #f0f8ff;}#sk-977416dc-220e-4b41-bfa2-948c0200e7f6 div.sk-toggleable__content pre {margin: 0.2em;color: black;border-radius: 0.25em;background-color: #f0f8ff;}#sk-977416dc-220e-4b41-bfa2-948c0200e7f6 input.sk-toggleable__control:checked~div.sk-toggleable__content {max-height: 200px;max-width: 100%;overflow: auto;}#sk-977416dc-220e-4b41-bfa2-948c0200e7f6 input.sk-toggleable__control:checked~label.sk-toggleable__label-arrow:before {content: \"▾\";}#sk-977416dc-220e-4b41-bfa2-948c0200e7f6 div.sk-estimator input.sk-toggleable__control:checked~label.sk-toggleable__label {background-color: #d4ebff;}#sk-977416dc-220e-4b41-bfa2-948c0200e7f6 div.sk-label input.sk-toggleable__control:checked~label.sk-toggleable__label {background-color: #d4ebff;}#sk-977416dc-220e-4b41-bfa2-948c0200e7f6 input.sk-hidden--visually {border: 0;clip: rect(1px 1px 1px 1px);clip: rect(1px, 1px, 1px, 1px);height: 1px;margin: -1px;overflow: hidden;padding: 0;position: absolute;width: 1px;}#sk-977416dc-220e-4b41-bfa2-948c0200e7f6 div.sk-estimator {font-family: monospace;background-color: #f0f8ff;border: 1px dotted black;border-radius: 0.25em;box-sizing: border-box;margin-bottom: 0.5em;}#sk-977416dc-220e-4b41-bfa2-948c0200e7f6 div.sk-estimator:hover {background-color: #d4ebff;}#sk-977416dc-220e-4b41-bfa2-948c0200e7f6 div.sk-parallel-item::after {content: \"\";width: 100%;border-bottom: 1px solid gray;flex-grow: 1;}#sk-977416dc-220e-4b41-bfa2-948c0200e7f6 div.sk-label:hover label.sk-toggleable__label {background-color: #d4ebff;}#sk-977416dc-220e-4b41-bfa2-948c0200e7f6 div.sk-serial::before {content: \"\";position: absolute;border-left: 1px solid gray;box-sizing: border-box;top: 2em;bottom: 0;left: 50%;}#sk-977416dc-220e-4b41-bfa2-948c0200e7f6 div.sk-serial {display: flex;flex-direction: column;align-items: center;background-color: white;padding-right: 0.2em;padding-left: 0.2em;}#sk-977416dc-220e-4b41-bfa2-948c0200e7f6 div.sk-item {z-index: 1;}#sk-977416dc-220e-4b41-bfa2-948c0200e7f6 div.sk-parallel {display: flex;align-items: stretch;justify-content: center;background-color: white;}#sk-977416dc-220e-4b41-bfa2-948c0200e7f6 div.sk-parallel::before {content: \"\";position: absolute;border-left: 1px solid gray;box-sizing: border-box;top: 2em;bottom: 0;left: 50%;}#sk-977416dc-220e-4b41-bfa2-948c0200e7f6 div.sk-parallel-item {display: flex;flex-direction: column;position: relative;background-color: white;}#sk-977416dc-220e-4b41-bfa2-948c0200e7f6 div.sk-parallel-item:first-child::after {align-self: flex-end;width: 50%;}#sk-977416dc-220e-4b41-bfa2-948c0200e7f6 div.sk-parallel-item:last-child::after {align-self: flex-start;width: 50%;}#sk-977416dc-220e-4b41-bfa2-948c0200e7f6 div.sk-parallel-item:only-child::after {width: 0;}#sk-977416dc-220e-4b41-bfa2-948c0200e7f6 div.sk-dashed-wrapped {border: 1px dashed gray;margin: 0 0.4em 0.5em 0.4em;box-sizing: border-box;padding-bottom: 0.4em;background-color: white;position: relative;}#sk-977416dc-220e-4b41-bfa2-948c0200e7f6 div.sk-label label {font-family: monospace;font-weight: bold;background-color: white;display: inline-block;line-height: 1.2em;}#sk-977416dc-220e-4b41-bfa2-948c0200e7f6 div.sk-label-container {position: relative;z-index: 2;text-align: center;}#sk-977416dc-220e-4b41-bfa2-948c0200e7f6 div.sk-container {/* jupyter's `normalize.less` sets `[hidden] { display: none; }` but bootstrap.min.css set `[hidden] { display: none !important; }` so we also need the `!important` here to be able to override the default hidden behavior on the sphinx rendered scikit-learn.org. See: https://github.com/scikit-learn/scikit-learn/issues/21755 */display: inline-block !important;position: relative;}#sk-977416dc-220e-4b41-bfa2-948c0200e7f6 div.sk-text-repr-fallback {display: none;}</style><div id=\"sk-977416dc-220e-4b41-bfa2-948c0200e7f6\" class=\"sk-top-container\"><div class=\"sk-text-repr-fallback\"><pre>Pipeline(steps=[(&#x27;transformer&#x27;,\n",
       "                 ColumnTransformer(remainder=&#x27;passthrough&#x27;,\n",
       "                                   transformers=[(&#x27;onehotencoder&#x27;,\n",
       "                                                  OneHotEncoder(drop=&#x27;if_binary&#x27;),\n",
       "                                                  [&#x27;dbl&#x27;, &#x27;category&#x27;,\n",
       "                                                   &#x27;complexity&#x27;, &#x27;scope&#x27;,\n",
       "                                                   &#x27;type&#x27;]),\n",
       "                                                 (&#x27;binaryencoder&#x27;,\n",
       "                                                  BinaryEncoder(),\n",
       "                                                  [&#x27;line&#x27;, &#x27;fit&#x27;, &#x27;viatech&#x27;,\n",
       "                                                   &#x27;ver&#x27;]),\n",
       "                                                 (&#x27;standardscaler&#x27;,\n",
       "                                                  StandardScaler(),\n",
       "                                                  [&#x27;layno&#x27;, &#x27;comp&#x27;])])),\n",
       "                (&#x27;model&#x27;, Lasso(random_state=10))])</pre><b>Please rerun this cell to show the HTML repr or trust the notebook.</b></div><div class=\"sk-container\" hidden><div class=\"sk-item sk-dashed-wrapped\"><div class=\"sk-label-container\"><div class=\"sk-label sk-toggleable\"><input class=\"sk-toggleable__control sk-hidden--visually\" id=\"64c8f127-eaac-43ef-8caf-3862320123fc\" type=\"checkbox\" ><label for=\"64c8f127-eaac-43ef-8caf-3862320123fc\" class=\"sk-toggleable__label sk-toggleable__label-arrow\">Pipeline</label><div class=\"sk-toggleable__content\"><pre>Pipeline(steps=[(&#x27;transformer&#x27;,\n",
       "                 ColumnTransformer(remainder=&#x27;passthrough&#x27;,\n",
       "                                   transformers=[(&#x27;onehotencoder&#x27;,\n",
       "                                                  OneHotEncoder(drop=&#x27;if_binary&#x27;),\n",
       "                                                  [&#x27;dbl&#x27;, &#x27;category&#x27;,\n",
       "                                                   &#x27;complexity&#x27;, &#x27;scope&#x27;,\n",
       "                                                   &#x27;type&#x27;]),\n",
       "                                                 (&#x27;binaryencoder&#x27;,\n",
       "                                                  BinaryEncoder(),\n",
       "                                                  [&#x27;line&#x27;, &#x27;fit&#x27;, &#x27;viatech&#x27;,\n",
       "                                                   &#x27;ver&#x27;]),\n",
       "                                                 (&#x27;standardscaler&#x27;,\n",
       "                                                  StandardScaler(),\n",
       "                                                  [&#x27;layno&#x27;, &#x27;comp&#x27;])])),\n",
       "                (&#x27;model&#x27;, Lasso(random_state=10))])</pre></div></div></div><div class=\"sk-serial\"><div class=\"sk-item sk-dashed-wrapped\"><div class=\"sk-label-container\"><div class=\"sk-label sk-toggleable\"><input class=\"sk-toggleable__control sk-hidden--visually\" id=\"1e9f03e9-932f-4722-86e5-eb9cf527954b\" type=\"checkbox\" ><label for=\"1e9f03e9-932f-4722-86e5-eb9cf527954b\" class=\"sk-toggleable__label sk-toggleable__label-arrow\">transformer: ColumnTransformer</label><div class=\"sk-toggleable__content\"><pre>ColumnTransformer(remainder=&#x27;passthrough&#x27;,\n",
       "                  transformers=[(&#x27;onehotencoder&#x27;,\n",
       "                                 OneHotEncoder(drop=&#x27;if_binary&#x27;),\n",
       "                                 [&#x27;dbl&#x27;, &#x27;category&#x27;, &#x27;complexity&#x27;, &#x27;scope&#x27;,\n",
       "                                  &#x27;type&#x27;]),\n",
       "                                (&#x27;binaryencoder&#x27;, BinaryEncoder(),\n",
       "                                 [&#x27;line&#x27;, &#x27;fit&#x27;, &#x27;viatech&#x27;, &#x27;ver&#x27;]),\n",
       "                                (&#x27;standardscaler&#x27;, StandardScaler(),\n",
       "                                 [&#x27;layno&#x27;, &#x27;comp&#x27;])])</pre></div></div></div><div class=\"sk-parallel\"><div class=\"sk-parallel-item\"><div class=\"sk-item\"><div class=\"sk-label-container\"><div class=\"sk-label sk-toggleable\"><input class=\"sk-toggleable__control sk-hidden--visually\" id=\"12d8b024-3c7a-4760-87a3-b9fc08c186fb\" type=\"checkbox\" ><label for=\"12d8b024-3c7a-4760-87a3-b9fc08c186fb\" class=\"sk-toggleable__label sk-toggleable__label-arrow\">onehotencoder</label><div class=\"sk-toggleable__content\"><pre>[&#x27;dbl&#x27;, &#x27;category&#x27;, &#x27;complexity&#x27;, &#x27;scope&#x27;, &#x27;type&#x27;]</pre></div></div></div><div class=\"sk-serial\"><div class=\"sk-item\"><div class=\"sk-estimator sk-toggleable\"><input class=\"sk-toggleable__control sk-hidden--visually\" id=\"8a77bc02-768d-494e-aad8-e36f1e50502e\" type=\"checkbox\" ><label for=\"8a77bc02-768d-494e-aad8-e36f1e50502e\" class=\"sk-toggleable__label sk-toggleable__label-arrow\">OneHotEncoder</label><div class=\"sk-toggleable__content\"><pre>OneHotEncoder(drop=&#x27;if_binary&#x27;)</pre></div></div></div></div></div></div><div class=\"sk-parallel-item\"><div class=\"sk-item\"><div class=\"sk-label-container\"><div class=\"sk-label sk-toggleable\"><input class=\"sk-toggleable__control sk-hidden--visually\" id=\"90a258a3-8fb4-4117-8fc3-f1dbf7a89499\" type=\"checkbox\" ><label for=\"90a258a3-8fb4-4117-8fc3-f1dbf7a89499\" class=\"sk-toggleable__label sk-toggleable__label-arrow\">binaryencoder</label><div class=\"sk-toggleable__content\"><pre>[&#x27;line&#x27;, &#x27;fit&#x27;, &#x27;viatech&#x27;, &#x27;ver&#x27;]</pre></div></div></div><div class=\"sk-serial\"><div class=\"sk-item\"><div class=\"sk-estimator sk-toggleable\"><input class=\"sk-toggleable__control sk-hidden--visually\" id=\"b213c18f-fae8-42b5-b65e-9a39786dc9e5\" type=\"checkbox\" ><label for=\"b213c18f-fae8-42b5-b65e-9a39786dc9e5\" class=\"sk-toggleable__label sk-toggleable__label-arrow\">BinaryEncoder</label><div class=\"sk-toggleable__content\"><pre>BinaryEncoder()</pre></div></div></div></div></div></div><div class=\"sk-parallel-item\"><div class=\"sk-item\"><div class=\"sk-label-container\"><div class=\"sk-label sk-toggleable\"><input class=\"sk-toggleable__control sk-hidden--visually\" id=\"756eba82-72aa-4448-a762-7a747d687c6c\" type=\"checkbox\" ><label for=\"756eba82-72aa-4448-a762-7a747d687c6c\" class=\"sk-toggleable__label sk-toggleable__label-arrow\">standardscaler</label><div class=\"sk-toggleable__content\"><pre>[&#x27;layno&#x27;, &#x27;comp&#x27;]</pre></div></div></div><div class=\"sk-serial\"><div class=\"sk-item\"><div class=\"sk-estimator sk-toggleable\"><input class=\"sk-toggleable__control sk-hidden--visually\" id=\"bd3677f2-bf07-485d-ad00-3897bcc10c61\" type=\"checkbox\" ><label for=\"bd3677f2-bf07-485d-ad00-3897bcc10c61\" class=\"sk-toggleable__label sk-toggleable__label-arrow\">StandardScaler</label><div class=\"sk-toggleable__content\"><pre>StandardScaler()</pre></div></div></div></div></div></div><div class=\"sk-parallel-item\"><div class=\"sk-item\"><div class=\"sk-label-container\"><div class=\"sk-label sk-toggleable\"><input class=\"sk-toggleable__control sk-hidden--visually\" id=\"573ace27-e27c-41d8-9b88-7d5dca9d7f20\" type=\"checkbox\" ><label for=\"573ace27-e27c-41d8-9b88-7d5dca9d7f20\" class=\"sk-toggleable__label sk-toggleable__label-arrow\">remainder</label><div class=\"sk-toggleable__content\"><pre>[]</pre></div></div></div><div class=\"sk-serial\"><div class=\"sk-item\"><div class=\"sk-estimator sk-toggleable\"><input class=\"sk-toggleable__control sk-hidden--visually\" id=\"e96accc2-7024-42e9-ada1-15103cd883a9\" type=\"checkbox\" ><label for=\"e96accc2-7024-42e9-ada1-15103cd883a9\" class=\"sk-toggleable__label sk-toggleable__label-arrow\">passthrough</label><div class=\"sk-toggleable__content\"><pre>passthrough</pre></div></div></div></div></div></div></div></div><div class=\"sk-item\"><div class=\"sk-estimator sk-toggleable\"><input class=\"sk-toggleable__control sk-hidden--visually\" id=\"6efad2b3-64b5-4eea-bc40-dc4371bd271d\" type=\"checkbox\" ><label for=\"6efad2b3-64b5-4eea-bc40-dc4371bd271d\" class=\"sk-toggleable__label sk-toggleable__label-arrow\">Lasso</label><div class=\"sk-toggleable__content\"><pre>Lasso(random_state=10)</pre></div></div></div></div></div></div></div>"
      ],
      "text/plain": [
       "Pipeline(steps=[('transformer',\n",
       "                 ColumnTransformer(remainder='passthrough',\n",
       "                                   transformers=[('onehotencoder',\n",
       "                                                  OneHotEncoder(drop='if_binary'),\n",
       "                                                  ['dbl', 'category',\n",
       "                                                   'complexity', 'scope',\n",
       "                                                   'type']),\n",
       "                                                 ('binaryencoder',\n",
       "                                                  BinaryEncoder(),\n",
       "                                                  ['line', 'fit', 'viatech',\n",
       "                                                   'ver']),\n",
       "                                                 ('standardscaler',\n",
       "                                                  StandardScaler(),\n",
       "                                                  ['layno', 'comp'])])),\n",
       "                ('model', Lasso(random_state=10))])"
      ]
     },
     "execution_count": 47,
     "metadata": {},
     "output_type": "execute_result"
    }
   ],
   "source": [
    "#pipe 3 with Lasso default\n",
    "pipe3 = Pipeline([('transformer', transformer),\n",
    "                    ('model', Lasso(random_state = 10))])\n",
    "pipe3.fit(X_train, y_train)"
   ]
  },
  {
   "cell_type": "code",
   "execution_count": 48,
   "id": "5ef4f4e7",
   "metadata": {},
   "outputs": [
    {
     "name": "stdout",
     "output_type": "stream",
     "text": [
      "Pipe3 Train MAE: 19.278724735235095\n",
      "Pipe3 Test MAE: 19.18529011239268\n",
      "Pipe3 Accuracy Score: 0.2486793896539723\n"
     ]
    }
   ],
   "source": [
    "pred3_train = pipe3.predict(X_train)\n",
    "pred3_test = pipe3.predict(X_test)\n",
    "score3 = pipe3.score(X_test, y_test)\n",
    "print(f'Pipe3 Train MAE: {median_absolute_error(y_train, pred3_train)}')\n",
    "print(f'Pipe3 Test MAE: {median_absolute_error(y_test, pred3_test)}')\n",
    "print(f'Pipe3 Accuracy Score: {score3}')\n",
    "values.append(['Lasso', median_absolute_error(y_train, pred3_train),median_absolute_error(y_test, pred3_test),\n",
    "             score3])"
   ]
  },
  {
   "cell_type": "code",
   "execution_count": 49,
   "id": "02e48f28",
   "metadata": {},
   "outputs": [
    {
     "data": {
      "text/html": [
       "<style>#sk-d9b79667-3a68-45f8-8b4a-5d0a34e79eea {color: black;background-color: white;}#sk-d9b79667-3a68-45f8-8b4a-5d0a34e79eea pre{padding: 0;}#sk-d9b79667-3a68-45f8-8b4a-5d0a34e79eea div.sk-toggleable {background-color: white;}#sk-d9b79667-3a68-45f8-8b4a-5d0a34e79eea label.sk-toggleable__label {cursor: pointer;display: block;width: 100%;margin-bottom: 0;padding: 0.3em;box-sizing: border-box;text-align: center;}#sk-d9b79667-3a68-45f8-8b4a-5d0a34e79eea label.sk-toggleable__label-arrow:before {content: \"▸\";float: left;margin-right: 0.25em;color: #696969;}#sk-d9b79667-3a68-45f8-8b4a-5d0a34e79eea label.sk-toggleable__label-arrow:hover:before {color: black;}#sk-d9b79667-3a68-45f8-8b4a-5d0a34e79eea div.sk-estimator:hover label.sk-toggleable__label-arrow:before {color: black;}#sk-d9b79667-3a68-45f8-8b4a-5d0a34e79eea div.sk-toggleable__content {max-height: 0;max-width: 0;overflow: hidden;text-align: left;background-color: #f0f8ff;}#sk-d9b79667-3a68-45f8-8b4a-5d0a34e79eea div.sk-toggleable__content pre {margin: 0.2em;color: black;border-radius: 0.25em;background-color: #f0f8ff;}#sk-d9b79667-3a68-45f8-8b4a-5d0a34e79eea input.sk-toggleable__control:checked~div.sk-toggleable__content {max-height: 200px;max-width: 100%;overflow: auto;}#sk-d9b79667-3a68-45f8-8b4a-5d0a34e79eea input.sk-toggleable__control:checked~label.sk-toggleable__label-arrow:before {content: \"▾\";}#sk-d9b79667-3a68-45f8-8b4a-5d0a34e79eea div.sk-estimator input.sk-toggleable__control:checked~label.sk-toggleable__label {background-color: #d4ebff;}#sk-d9b79667-3a68-45f8-8b4a-5d0a34e79eea div.sk-label input.sk-toggleable__control:checked~label.sk-toggleable__label {background-color: #d4ebff;}#sk-d9b79667-3a68-45f8-8b4a-5d0a34e79eea input.sk-hidden--visually {border: 0;clip: rect(1px 1px 1px 1px);clip: rect(1px, 1px, 1px, 1px);height: 1px;margin: -1px;overflow: hidden;padding: 0;position: absolute;width: 1px;}#sk-d9b79667-3a68-45f8-8b4a-5d0a34e79eea div.sk-estimator {font-family: monospace;background-color: #f0f8ff;border: 1px dotted black;border-radius: 0.25em;box-sizing: border-box;margin-bottom: 0.5em;}#sk-d9b79667-3a68-45f8-8b4a-5d0a34e79eea div.sk-estimator:hover {background-color: #d4ebff;}#sk-d9b79667-3a68-45f8-8b4a-5d0a34e79eea div.sk-parallel-item::after {content: \"\";width: 100%;border-bottom: 1px solid gray;flex-grow: 1;}#sk-d9b79667-3a68-45f8-8b4a-5d0a34e79eea div.sk-label:hover label.sk-toggleable__label {background-color: #d4ebff;}#sk-d9b79667-3a68-45f8-8b4a-5d0a34e79eea div.sk-serial::before {content: \"\";position: absolute;border-left: 1px solid gray;box-sizing: border-box;top: 2em;bottom: 0;left: 50%;}#sk-d9b79667-3a68-45f8-8b4a-5d0a34e79eea div.sk-serial {display: flex;flex-direction: column;align-items: center;background-color: white;padding-right: 0.2em;padding-left: 0.2em;}#sk-d9b79667-3a68-45f8-8b4a-5d0a34e79eea div.sk-item {z-index: 1;}#sk-d9b79667-3a68-45f8-8b4a-5d0a34e79eea div.sk-parallel {display: flex;align-items: stretch;justify-content: center;background-color: white;}#sk-d9b79667-3a68-45f8-8b4a-5d0a34e79eea div.sk-parallel::before {content: \"\";position: absolute;border-left: 1px solid gray;box-sizing: border-box;top: 2em;bottom: 0;left: 50%;}#sk-d9b79667-3a68-45f8-8b4a-5d0a34e79eea div.sk-parallel-item {display: flex;flex-direction: column;position: relative;background-color: white;}#sk-d9b79667-3a68-45f8-8b4a-5d0a34e79eea div.sk-parallel-item:first-child::after {align-self: flex-end;width: 50%;}#sk-d9b79667-3a68-45f8-8b4a-5d0a34e79eea div.sk-parallel-item:last-child::after {align-self: flex-start;width: 50%;}#sk-d9b79667-3a68-45f8-8b4a-5d0a34e79eea div.sk-parallel-item:only-child::after {width: 0;}#sk-d9b79667-3a68-45f8-8b4a-5d0a34e79eea div.sk-dashed-wrapped {border: 1px dashed gray;margin: 0 0.4em 0.5em 0.4em;box-sizing: border-box;padding-bottom: 0.4em;background-color: white;position: relative;}#sk-d9b79667-3a68-45f8-8b4a-5d0a34e79eea div.sk-label label {font-family: monospace;font-weight: bold;background-color: white;display: inline-block;line-height: 1.2em;}#sk-d9b79667-3a68-45f8-8b4a-5d0a34e79eea div.sk-label-container {position: relative;z-index: 2;text-align: center;}#sk-d9b79667-3a68-45f8-8b4a-5d0a34e79eea div.sk-container {/* jupyter's `normalize.less` sets `[hidden] { display: none; }` but bootstrap.min.css set `[hidden] { display: none !important; }` so we also need the `!important` here to be able to override the default hidden behavior on the sphinx rendered scikit-learn.org. See: https://github.com/scikit-learn/scikit-learn/issues/21755 */display: inline-block !important;position: relative;}#sk-d9b79667-3a68-45f8-8b4a-5d0a34e79eea div.sk-text-repr-fallback {display: none;}</style><div id=\"sk-d9b79667-3a68-45f8-8b4a-5d0a34e79eea\" class=\"sk-top-container\"><div class=\"sk-text-repr-fallback\"><pre>Pipeline(steps=[(&#x27;transformer&#x27;,\n",
       "                 ColumnTransformer(remainder=&#x27;passthrough&#x27;,\n",
       "                                   transformers=[(&#x27;onehotencoder&#x27;,\n",
       "                                                  OneHotEncoder(drop=&#x27;if_binary&#x27;),\n",
       "                                                  [&#x27;dbl&#x27;, &#x27;category&#x27;,\n",
       "                                                   &#x27;complexity&#x27;, &#x27;scope&#x27;,\n",
       "                                                   &#x27;type&#x27;]),\n",
       "                                                 (&#x27;binaryencoder&#x27;,\n",
       "                                                  BinaryEncoder(),\n",
       "                                                  [&#x27;line&#x27;, &#x27;fit&#x27;, &#x27;viatech&#x27;,\n",
       "                                                   &#x27;ver&#x27;]),\n",
       "                                                 (&#x27;standardscaler&#x27;,\n",
       "                                                  StandardScaler(),\n",
       "                                                  [&#x27;layno&#x27;, &#x27;comp&#x27;])])),\n",
       "                (&#x27;model&#x27;,\n",
       "                 TransformedTargetRegressor(func=&lt;ufunc &#x27;log&#x27;&gt;,\n",
       "                                            inverse_func=&lt;ufunc &#x27;exp&#x27;&gt;,\n",
       "                                            regressor=Ridge()))])</pre><b>Please rerun this cell to show the HTML repr or trust the notebook.</b></div><div class=\"sk-container\" hidden><div class=\"sk-item sk-dashed-wrapped\"><div class=\"sk-label-container\"><div class=\"sk-label sk-toggleable\"><input class=\"sk-toggleable__control sk-hidden--visually\" id=\"82582536-ce63-4e79-9a3c-6074b99f6dd2\" type=\"checkbox\" ><label for=\"82582536-ce63-4e79-9a3c-6074b99f6dd2\" class=\"sk-toggleable__label sk-toggleable__label-arrow\">Pipeline</label><div class=\"sk-toggleable__content\"><pre>Pipeline(steps=[(&#x27;transformer&#x27;,\n",
       "                 ColumnTransformer(remainder=&#x27;passthrough&#x27;,\n",
       "                                   transformers=[(&#x27;onehotencoder&#x27;,\n",
       "                                                  OneHotEncoder(drop=&#x27;if_binary&#x27;),\n",
       "                                                  [&#x27;dbl&#x27;, &#x27;category&#x27;,\n",
       "                                                   &#x27;complexity&#x27;, &#x27;scope&#x27;,\n",
       "                                                   &#x27;type&#x27;]),\n",
       "                                                 (&#x27;binaryencoder&#x27;,\n",
       "                                                  BinaryEncoder(),\n",
       "                                                  [&#x27;line&#x27;, &#x27;fit&#x27;, &#x27;viatech&#x27;,\n",
       "                                                   &#x27;ver&#x27;]),\n",
       "                                                 (&#x27;standardscaler&#x27;,\n",
       "                                                  StandardScaler(),\n",
       "                                                  [&#x27;layno&#x27;, &#x27;comp&#x27;])])),\n",
       "                (&#x27;model&#x27;,\n",
       "                 TransformedTargetRegressor(func=&lt;ufunc &#x27;log&#x27;&gt;,\n",
       "                                            inverse_func=&lt;ufunc &#x27;exp&#x27;&gt;,\n",
       "                                            regressor=Ridge()))])</pre></div></div></div><div class=\"sk-serial\"><div class=\"sk-item sk-dashed-wrapped\"><div class=\"sk-label-container\"><div class=\"sk-label sk-toggleable\"><input class=\"sk-toggleable__control sk-hidden--visually\" id=\"36e7d1b0-e838-4075-a988-33cc5724ea60\" type=\"checkbox\" ><label for=\"36e7d1b0-e838-4075-a988-33cc5724ea60\" class=\"sk-toggleable__label sk-toggleable__label-arrow\">transformer: ColumnTransformer</label><div class=\"sk-toggleable__content\"><pre>ColumnTransformer(remainder=&#x27;passthrough&#x27;,\n",
       "                  transformers=[(&#x27;onehotencoder&#x27;,\n",
       "                                 OneHotEncoder(drop=&#x27;if_binary&#x27;),\n",
       "                                 [&#x27;dbl&#x27;, &#x27;category&#x27;, &#x27;complexity&#x27;, &#x27;scope&#x27;,\n",
       "                                  &#x27;type&#x27;]),\n",
       "                                (&#x27;binaryencoder&#x27;, BinaryEncoder(),\n",
       "                                 [&#x27;line&#x27;, &#x27;fit&#x27;, &#x27;viatech&#x27;, &#x27;ver&#x27;]),\n",
       "                                (&#x27;standardscaler&#x27;, StandardScaler(),\n",
       "                                 [&#x27;layno&#x27;, &#x27;comp&#x27;])])</pre></div></div></div><div class=\"sk-parallel\"><div class=\"sk-parallel-item\"><div class=\"sk-item\"><div class=\"sk-label-container\"><div class=\"sk-label sk-toggleable\"><input class=\"sk-toggleable__control sk-hidden--visually\" id=\"095b25cc-e7d3-47b5-9e52-ad0c75bfc097\" type=\"checkbox\" ><label for=\"095b25cc-e7d3-47b5-9e52-ad0c75bfc097\" class=\"sk-toggleable__label sk-toggleable__label-arrow\">onehotencoder</label><div class=\"sk-toggleable__content\"><pre>[&#x27;dbl&#x27;, &#x27;category&#x27;, &#x27;complexity&#x27;, &#x27;scope&#x27;, &#x27;type&#x27;]</pre></div></div></div><div class=\"sk-serial\"><div class=\"sk-item\"><div class=\"sk-estimator sk-toggleable\"><input class=\"sk-toggleable__control sk-hidden--visually\" id=\"75597c5b-7bad-420c-b2bb-49061a87fcd1\" type=\"checkbox\" ><label for=\"75597c5b-7bad-420c-b2bb-49061a87fcd1\" class=\"sk-toggleable__label sk-toggleable__label-arrow\">OneHotEncoder</label><div class=\"sk-toggleable__content\"><pre>OneHotEncoder(drop=&#x27;if_binary&#x27;)</pre></div></div></div></div></div></div><div class=\"sk-parallel-item\"><div class=\"sk-item\"><div class=\"sk-label-container\"><div class=\"sk-label sk-toggleable\"><input class=\"sk-toggleable__control sk-hidden--visually\" id=\"7d44a4e2-f774-442d-837e-1b317899b304\" type=\"checkbox\" ><label for=\"7d44a4e2-f774-442d-837e-1b317899b304\" class=\"sk-toggleable__label sk-toggleable__label-arrow\">binaryencoder</label><div class=\"sk-toggleable__content\"><pre>[&#x27;line&#x27;, &#x27;fit&#x27;, &#x27;viatech&#x27;, &#x27;ver&#x27;]</pre></div></div></div><div class=\"sk-serial\"><div class=\"sk-item\"><div class=\"sk-estimator sk-toggleable\"><input class=\"sk-toggleable__control sk-hidden--visually\" id=\"6134a4e1-6325-49f1-b144-f3c543478bf8\" type=\"checkbox\" ><label for=\"6134a4e1-6325-49f1-b144-f3c543478bf8\" class=\"sk-toggleable__label sk-toggleable__label-arrow\">BinaryEncoder</label><div class=\"sk-toggleable__content\"><pre>BinaryEncoder()</pre></div></div></div></div></div></div><div class=\"sk-parallel-item\"><div class=\"sk-item\"><div class=\"sk-label-container\"><div class=\"sk-label sk-toggleable\"><input class=\"sk-toggleable__control sk-hidden--visually\" id=\"9b7497a3-cfa3-40c7-9426-64d1481c75c6\" type=\"checkbox\" ><label for=\"9b7497a3-cfa3-40c7-9426-64d1481c75c6\" class=\"sk-toggleable__label sk-toggleable__label-arrow\">standardscaler</label><div class=\"sk-toggleable__content\"><pre>[&#x27;layno&#x27;, &#x27;comp&#x27;]</pre></div></div></div><div class=\"sk-serial\"><div class=\"sk-item\"><div class=\"sk-estimator sk-toggleable\"><input class=\"sk-toggleable__control sk-hidden--visually\" id=\"768bf576-235c-4891-94f6-0f0a86fa0f8b\" type=\"checkbox\" ><label for=\"768bf576-235c-4891-94f6-0f0a86fa0f8b\" class=\"sk-toggleable__label sk-toggleable__label-arrow\">StandardScaler</label><div class=\"sk-toggleable__content\"><pre>StandardScaler()</pre></div></div></div></div></div></div><div class=\"sk-parallel-item\"><div class=\"sk-item\"><div class=\"sk-label-container\"><div class=\"sk-label sk-toggleable\"><input class=\"sk-toggleable__control sk-hidden--visually\" id=\"cffaa3fa-4b5c-4bf9-8c53-0d1775faafa0\" type=\"checkbox\" ><label for=\"cffaa3fa-4b5c-4bf9-8c53-0d1775faafa0\" class=\"sk-toggleable__label sk-toggleable__label-arrow\">remainder</label><div class=\"sk-toggleable__content\"><pre>[]</pre></div></div></div><div class=\"sk-serial\"><div class=\"sk-item\"><div class=\"sk-estimator sk-toggleable\"><input class=\"sk-toggleable__control sk-hidden--visually\" id=\"c432d64e-133b-4f77-917f-3e2bf762dba7\" type=\"checkbox\" ><label for=\"c432d64e-133b-4f77-917f-3e2bf762dba7\" class=\"sk-toggleable__label sk-toggleable__label-arrow\">passthrough</label><div class=\"sk-toggleable__content\"><pre>passthrough</pre></div></div></div></div></div></div></div></div><div class=\"sk-item sk-dashed-wrapped\"><div class=\"sk-label-container\"><div class=\"sk-label sk-toggleable\"><input class=\"sk-toggleable__control sk-hidden--visually\" id=\"f8e0900b-774c-454d-9f86-bfb20458a0bb\" type=\"checkbox\" ><label for=\"f8e0900b-774c-454d-9f86-bfb20458a0bb\" class=\"sk-toggleable__label sk-toggleable__label-arrow\">model: TransformedTargetRegressor</label><div class=\"sk-toggleable__content\"><pre>TransformedTargetRegressor(func=&lt;ufunc &#x27;log&#x27;&gt;, inverse_func=&lt;ufunc &#x27;exp&#x27;&gt;,\n",
       "                           regressor=Ridge())</pre></div></div></div><div class=\"sk-parallel\"><div class=\"sk-parallel-item\"><div class=\"sk-item\"><div class=\"sk-serial\"><div class=\"sk-item\"><div class=\"sk-estimator sk-toggleable\"><input class=\"sk-toggleable__control sk-hidden--visually\" id=\"a316a66f-524f-4c81-b553-1635c22e1a16\" type=\"checkbox\" ><label for=\"a316a66f-524f-4c81-b553-1635c22e1a16\" class=\"sk-toggleable__label sk-toggleable__label-arrow\">Ridge</label><div class=\"sk-toggleable__content\"><pre>Ridge()</pre></div></div></div></div></div></div></div></div></div></div></div></div>"
      ],
      "text/plain": [
       "Pipeline(steps=[('transformer',\n",
       "                 ColumnTransformer(remainder='passthrough',\n",
       "                                   transformers=[('onehotencoder',\n",
       "                                                  OneHotEncoder(drop='if_binary'),\n",
       "                                                  ['dbl', 'category',\n",
       "                                                   'complexity', 'scope',\n",
       "                                                   'type']),\n",
       "                                                 ('binaryencoder',\n",
       "                                                  BinaryEncoder(),\n",
       "                                                  ['line', 'fit', 'viatech',\n",
       "                                                   'ver']),\n",
       "                                                 ('standardscaler',\n",
       "                                                  StandardScaler(),\n",
       "                                                  ['layno', 'comp'])])),\n",
       "                ('model',\n",
       "                 TransformedTargetRegressor(func=<ufunc 'log'>,\n",
       "                                            inverse_func=<ufunc 'exp'>,\n",
       "                                            regressor=Ridge()))])"
      ]
     },
     "execution_count": 49,
     "metadata": {},
     "output_type": "execute_result"
    }
   ],
   "source": [
    "#pipe 4 with TransformedTargetRegressor with Ridge regressor\n",
    "pipe4 = Pipeline([('transformer', transformer),\n",
    "                    ('model', TransformedTargetRegressor(regressor=Ridge(), func=np.log, inverse_func=np.exp))])\n",
    "pipe4.fit(X_train, y_train)"
   ]
  },
  {
   "cell_type": "code",
   "execution_count": 50,
   "id": "6db3134b",
   "metadata": {},
   "outputs": [
    {
     "name": "stdout",
     "output_type": "stream",
     "text": [
      "Pipe4 Train MAE: 13.322096406953278\n",
      "Pipe4 Test MAE: 14.748381701533422\n",
      "Pipe4 Accuracy Score: 0.26151136388209206\n"
     ]
    }
   ],
   "source": [
    "pred4_train = pipe4.predict(X_train)\n",
    "pred4_test = pipe4.predict(X_test)\n",
    "score4 = pipe4.score(X_test, y_test)\n",
    "print(f'Pipe4 Train MAE: {median_absolute_error(y_train, pred4_train)}')\n",
    "print(f'Pipe4 Test MAE: {median_absolute_error(y_test, pred4_test)}')\n",
    "print(f'Pipe4 Accuracy Score: {score4}')\n",
    "values.append(['TTR_Ridge', median_absolute_error(y_train, pred4_train),median_absolute_error(y_test, pred4_test),\n",
    "             score4])"
   ]
  },
  {
   "cell_type": "code",
   "execution_count": 51,
   "id": "1180e075",
   "metadata": {},
   "outputs": [
    {
     "data": {
      "text/html": [
       "<style>#sk-ae1ef583-ea0d-4e43-8ed4-b2d1f9f0f3bb {color: black;background-color: white;}#sk-ae1ef583-ea0d-4e43-8ed4-b2d1f9f0f3bb pre{padding: 0;}#sk-ae1ef583-ea0d-4e43-8ed4-b2d1f9f0f3bb div.sk-toggleable {background-color: white;}#sk-ae1ef583-ea0d-4e43-8ed4-b2d1f9f0f3bb label.sk-toggleable__label {cursor: pointer;display: block;width: 100%;margin-bottom: 0;padding: 0.3em;box-sizing: border-box;text-align: center;}#sk-ae1ef583-ea0d-4e43-8ed4-b2d1f9f0f3bb label.sk-toggleable__label-arrow:before {content: \"▸\";float: left;margin-right: 0.25em;color: #696969;}#sk-ae1ef583-ea0d-4e43-8ed4-b2d1f9f0f3bb label.sk-toggleable__label-arrow:hover:before {color: black;}#sk-ae1ef583-ea0d-4e43-8ed4-b2d1f9f0f3bb div.sk-estimator:hover label.sk-toggleable__label-arrow:before {color: black;}#sk-ae1ef583-ea0d-4e43-8ed4-b2d1f9f0f3bb div.sk-toggleable__content {max-height: 0;max-width: 0;overflow: hidden;text-align: left;background-color: #f0f8ff;}#sk-ae1ef583-ea0d-4e43-8ed4-b2d1f9f0f3bb div.sk-toggleable__content pre {margin: 0.2em;color: black;border-radius: 0.25em;background-color: #f0f8ff;}#sk-ae1ef583-ea0d-4e43-8ed4-b2d1f9f0f3bb input.sk-toggleable__control:checked~div.sk-toggleable__content {max-height: 200px;max-width: 100%;overflow: auto;}#sk-ae1ef583-ea0d-4e43-8ed4-b2d1f9f0f3bb input.sk-toggleable__control:checked~label.sk-toggleable__label-arrow:before {content: \"▾\";}#sk-ae1ef583-ea0d-4e43-8ed4-b2d1f9f0f3bb div.sk-estimator input.sk-toggleable__control:checked~label.sk-toggleable__label {background-color: #d4ebff;}#sk-ae1ef583-ea0d-4e43-8ed4-b2d1f9f0f3bb div.sk-label input.sk-toggleable__control:checked~label.sk-toggleable__label {background-color: #d4ebff;}#sk-ae1ef583-ea0d-4e43-8ed4-b2d1f9f0f3bb input.sk-hidden--visually {border: 0;clip: rect(1px 1px 1px 1px);clip: rect(1px, 1px, 1px, 1px);height: 1px;margin: -1px;overflow: hidden;padding: 0;position: absolute;width: 1px;}#sk-ae1ef583-ea0d-4e43-8ed4-b2d1f9f0f3bb div.sk-estimator {font-family: monospace;background-color: #f0f8ff;border: 1px dotted black;border-radius: 0.25em;box-sizing: border-box;margin-bottom: 0.5em;}#sk-ae1ef583-ea0d-4e43-8ed4-b2d1f9f0f3bb div.sk-estimator:hover {background-color: #d4ebff;}#sk-ae1ef583-ea0d-4e43-8ed4-b2d1f9f0f3bb div.sk-parallel-item::after {content: \"\";width: 100%;border-bottom: 1px solid gray;flex-grow: 1;}#sk-ae1ef583-ea0d-4e43-8ed4-b2d1f9f0f3bb div.sk-label:hover label.sk-toggleable__label {background-color: #d4ebff;}#sk-ae1ef583-ea0d-4e43-8ed4-b2d1f9f0f3bb div.sk-serial::before {content: \"\";position: absolute;border-left: 1px solid gray;box-sizing: border-box;top: 2em;bottom: 0;left: 50%;}#sk-ae1ef583-ea0d-4e43-8ed4-b2d1f9f0f3bb div.sk-serial {display: flex;flex-direction: column;align-items: center;background-color: white;padding-right: 0.2em;padding-left: 0.2em;}#sk-ae1ef583-ea0d-4e43-8ed4-b2d1f9f0f3bb div.sk-item {z-index: 1;}#sk-ae1ef583-ea0d-4e43-8ed4-b2d1f9f0f3bb div.sk-parallel {display: flex;align-items: stretch;justify-content: center;background-color: white;}#sk-ae1ef583-ea0d-4e43-8ed4-b2d1f9f0f3bb div.sk-parallel::before {content: \"\";position: absolute;border-left: 1px solid gray;box-sizing: border-box;top: 2em;bottom: 0;left: 50%;}#sk-ae1ef583-ea0d-4e43-8ed4-b2d1f9f0f3bb div.sk-parallel-item {display: flex;flex-direction: column;position: relative;background-color: white;}#sk-ae1ef583-ea0d-4e43-8ed4-b2d1f9f0f3bb div.sk-parallel-item:first-child::after {align-self: flex-end;width: 50%;}#sk-ae1ef583-ea0d-4e43-8ed4-b2d1f9f0f3bb div.sk-parallel-item:last-child::after {align-self: flex-start;width: 50%;}#sk-ae1ef583-ea0d-4e43-8ed4-b2d1f9f0f3bb div.sk-parallel-item:only-child::after {width: 0;}#sk-ae1ef583-ea0d-4e43-8ed4-b2d1f9f0f3bb div.sk-dashed-wrapped {border: 1px dashed gray;margin: 0 0.4em 0.5em 0.4em;box-sizing: border-box;padding-bottom: 0.4em;background-color: white;position: relative;}#sk-ae1ef583-ea0d-4e43-8ed4-b2d1f9f0f3bb div.sk-label label {font-family: monospace;font-weight: bold;background-color: white;display: inline-block;line-height: 1.2em;}#sk-ae1ef583-ea0d-4e43-8ed4-b2d1f9f0f3bb div.sk-label-container {position: relative;z-index: 2;text-align: center;}#sk-ae1ef583-ea0d-4e43-8ed4-b2d1f9f0f3bb div.sk-container {/* jupyter's `normalize.less` sets `[hidden] { display: none; }` but bootstrap.min.css set `[hidden] { display: none !important; }` so we also need the `!important` here to be able to override the default hidden behavior on the sphinx rendered scikit-learn.org. See: https://github.com/scikit-learn/scikit-learn/issues/21755 */display: inline-block !important;position: relative;}#sk-ae1ef583-ea0d-4e43-8ed4-b2d1f9f0f3bb div.sk-text-repr-fallback {display: none;}</style><div id=\"sk-ae1ef583-ea0d-4e43-8ed4-b2d1f9f0f3bb\" class=\"sk-top-container\"><div class=\"sk-text-repr-fallback\"><pre>Pipeline(steps=[(&#x27;transformer&#x27;,\n",
       "                 ColumnTransformer(remainder=&#x27;passthrough&#x27;,\n",
       "                                   transformers=[(&#x27;onehotencoder&#x27;,\n",
       "                                                  OneHotEncoder(drop=&#x27;if_binary&#x27;),\n",
       "                                                  [&#x27;dbl&#x27;, &#x27;category&#x27;,\n",
       "                                                   &#x27;complexity&#x27;, &#x27;scope&#x27;,\n",
       "                                                   &#x27;type&#x27;]),\n",
       "                                                 (&#x27;binaryencoder&#x27;,\n",
       "                                                  BinaryEncoder(),\n",
       "                                                  [&#x27;line&#x27;, &#x27;fit&#x27;, &#x27;viatech&#x27;,\n",
       "                                                   &#x27;ver&#x27;]),\n",
       "                                                 (&#x27;standardscaler&#x27;,\n",
       "                                                  StandardScaler(),\n",
       "                                                  [&#x27;layno&#x27;, &#x27;comp&#x27;])])),\n",
       "                (&#x27;model&#x27;,\n",
       "                 TransformedTargetRegressor(func=&lt;ufunc &#x27;log&#x27;&gt;,\n",
       "                                            inverse_func=&lt;ufunc &#x27;exp&#x27;&gt;,\n",
       "                                            regressor=RandomForestRegressor(n_estimators=5,\n",
       "                                                                            random_state=41)))])</pre><b>Please rerun this cell to show the HTML repr or trust the notebook.</b></div><div class=\"sk-container\" hidden><div class=\"sk-item sk-dashed-wrapped\"><div class=\"sk-label-container\"><div class=\"sk-label sk-toggleable\"><input class=\"sk-toggleable__control sk-hidden--visually\" id=\"10b4383f-eba9-4837-8752-934c19385106\" type=\"checkbox\" ><label for=\"10b4383f-eba9-4837-8752-934c19385106\" class=\"sk-toggleable__label sk-toggleable__label-arrow\">Pipeline</label><div class=\"sk-toggleable__content\"><pre>Pipeline(steps=[(&#x27;transformer&#x27;,\n",
       "                 ColumnTransformer(remainder=&#x27;passthrough&#x27;,\n",
       "                                   transformers=[(&#x27;onehotencoder&#x27;,\n",
       "                                                  OneHotEncoder(drop=&#x27;if_binary&#x27;),\n",
       "                                                  [&#x27;dbl&#x27;, &#x27;category&#x27;,\n",
       "                                                   &#x27;complexity&#x27;, &#x27;scope&#x27;,\n",
       "                                                   &#x27;type&#x27;]),\n",
       "                                                 (&#x27;binaryencoder&#x27;,\n",
       "                                                  BinaryEncoder(),\n",
       "                                                  [&#x27;line&#x27;, &#x27;fit&#x27;, &#x27;viatech&#x27;,\n",
       "                                                   &#x27;ver&#x27;]),\n",
       "                                                 (&#x27;standardscaler&#x27;,\n",
       "                                                  StandardScaler(),\n",
       "                                                  [&#x27;layno&#x27;, &#x27;comp&#x27;])])),\n",
       "                (&#x27;model&#x27;,\n",
       "                 TransformedTargetRegressor(func=&lt;ufunc &#x27;log&#x27;&gt;,\n",
       "                                            inverse_func=&lt;ufunc &#x27;exp&#x27;&gt;,\n",
       "                                            regressor=RandomForestRegressor(n_estimators=5,\n",
       "                                                                            random_state=41)))])</pre></div></div></div><div class=\"sk-serial\"><div class=\"sk-item sk-dashed-wrapped\"><div class=\"sk-label-container\"><div class=\"sk-label sk-toggleable\"><input class=\"sk-toggleable__control sk-hidden--visually\" id=\"d05a5677-f429-40d6-a92a-00bb0aff1f80\" type=\"checkbox\" ><label for=\"d05a5677-f429-40d6-a92a-00bb0aff1f80\" class=\"sk-toggleable__label sk-toggleable__label-arrow\">transformer: ColumnTransformer</label><div class=\"sk-toggleable__content\"><pre>ColumnTransformer(remainder=&#x27;passthrough&#x27;,\n",
       "                  transformers=[(&#x27;onehotencoder&#x27;,\n",
       "                                 OneHotEncoder(drop=&#x27;if_binary&#x27;),\n",
       "                                 [&#x27;dbl&#x27;, &#x27;category&#x27;, &#x27;complexity&#x27;, &#x27;scope&#x27;,\n",
       "                                  &#x27;type&#x27;]),\n",
       "                                (&#x27;binaryencoder&#x27;, BinaryEncoder(),\n",
       "                                 [&#x27;line&#x27;, &#x27;fit&#x27;, &#x27;viatech&#x27;, &#x27;ver&#x27;]),\n",
       "                                (&#x27;standardscaler&#x27;, StandardScaler(),\n",
       "                                 [&#x27;layno&#x27;, &#x27;comp&#x27;])])</pre></div></div></div><div class=\"sk-parallel\"><div class=\"sk-parallel-item\"><div class=\"sk-item\"><div class=\"sk-label-container\"><div class=\"sk-label sk-toggleable\"><input class=\"sk-toggleable__control sk-hidden--visually\" id=\"4509192f-6b5f-4e68-a01d-ece4d7145a85\" type=\"checkbox\" ><label for=\"4509192f-6b5f-4e68-a01d-ece4d7145a85\" class=\"sk-toggleable__label sk-toggleable__label-arrow\">onehotencoder</label><div class=\"sk-toggleable__content\"><pre>[&#x27;dbl&#x27;, &#x27;category&#x27;, &#x27;complexity&#x27;, &#x27;scope&#x27;, &#x27;type&#x27;]</pre></div></div></div><div class=\"sk-serial\"><div class=\"sk-item\"><div class=\"sk-estimator sk-toggleable\"><input class=\"sk-toggleable__control sk-hidden--visually\" id=\"44e7e3d4-45bf-4f40-addd-de1d720ba0d8\" type=\"checkbox\" ><label for=\"44e7e3d4-45bf-4f40-addd-de1d720ba0d8\" class=\"sk-toggleable__label sk-toggleable__label-arrow\">OneHotEncoder</label><div class=\"sk-toggleable__content\"><pre>OneHotEncoder(drop=&#x27;if_binary&#x27;)</pre></div></div></div></div></div></div><div class=\"sk-parallel-item\"><div class=\"sk-item\"><div class=\"sk-label-container\"><div class=\"sk-label sk-toggleable\"><input class=\"sk-toggleable__control sk-hidden--visually\" id=\"f57c144e-01d8-4865-afe5-c10ad4f1ad12\" type=\"checkbox\" ><label for=\"f57c144e-01d8-4865-afe5-c10ad4f1ad12\" class=\"sk-toggleable__label sk-toggleable__label-arrow\">binaryencoder</label><div class=\"sk-toggleable__content\"><pre>[&#x27;line&#x27;, &#x27;fit&#x27;, &#x27;viatech&#x27;, &#x27;ver&#x27;]</pre></div></div></div><div class=\"sk-serial\"><div class=\"sk-item\"><div class=\"sk-estimator sk-toggleable\"><input class=\"sk-toggleable__control sk-hidden--visually\" id=\"14bc728d-bd71-41e3-9e99-32d07cd4bfde\" type=\"checkbox\" ><label for=\"14bc728d-bd71-41e3-9e99-32d07cd4bfde\" class=\"sk-toggleable__label sk-toggleable__label-arrow\">BinaryEncoder</label><div class=\"sk-toggleable__content\"><pre>BinaryEncoder()</pre></div></div></div></div></div></div><div class=\"sk-parallel-item\"><div class=\"sk-item\"><div class=\"sk-label-container\"><div class=\"sk-label sk-toggleable\"><input class=\"sk-toggleable__control sk-hidden--visually\" id=\"6397374e-73d1-4108-934c-fc7d5a1e499b\" type=\"checkbox\" ><label for=\"6397374e-73d1-4108-934c-fc7d5a1e499b\" class=\"sk-toggleable__label sk-toggleable__label-arrow\">standardscaler</label><div class=\"sk-toggleable__content\"><pre>[&#x27;layno&#x27;, &#x27;comp&#x27;]</pre></div></div></div><div class=\"sk-serial\"><div class=\"sk-item\"><div class=\"sk-estimator sk-toggleable\"><input class=\"sk-toggleable__control sk-hidden--visually\" id=\"3bda8f70-6931-4d3f-ab59-c601c3d2c0b8\" type=\"checkbox\" ><label for=\"3bda8f70-6931-4d3f-ab59-c601c3d2c0b8\" class=\"sk-toggleable__label sk-toggleable__label-arrow\">StandardScaler</label><div class=\"sk-toggleable__content\"><pre>StandardScaler()</pre></div></div></div></div></div></div><div class=\"sk-parallel-item\"><div class=\"sk-item\"><div class=\"sk-label-container\"><div class=\"sk-label sk-toggleable\"><input class=\"sk-toggleable__control sk-hidden--visually\" id=\"617d6c19-25a3-4501-81f7-d049895c0f74\" type=\"checkbox\" ><label for=\"617d6c19-25a3-4501-81f7-d049895c0f74\" class=\"sk-toggleable__label sk-toggleable__label-arrow\">remainder</label><div class=\"sk-toggleable__content\"><pre>[]</pre></div></div></div><div class=\"sk-serial\"><div class=\"sk-item\"><div class=\"sk-estimator sk-toggleable\"><input class=\"sk-toggleable__control sk-hidden--visually\" id=\"818fec74-2cdc-4616-afef-ccd80c2b7f54\" type=\"checkbox\" ><label for=\"818fec74-2cdc-4616-afef-ccd80c2b7f54\" class=\"sk-toggleable__label sk-toggleable__label-arrow\">passthrough</label><div class=\"sk-toggleable__content\"><pre>passthrough</pre></div></div></div></div></div></div></div></div><div class=\"sk-item sk-dashed-wrapped\"><div class=\"sk-label-container\"><div class=\"sk-label sk-toggleable\"><input class=\"sk-toggleable__control sk-hidden--visually\" id=\"751dec05-bb42-45e7-8c15-79380a27b548\" type=\"checkbox\" ><label for=\"751dec05-bb42-45e7-8c15-79380a27b548\" class=\"sk-toggleable__label sk-toggleable__label-arrow\">model: TransformedTargetRegressor</label><div class=\"sk-toggleable__content\"><pre>TransformedTargetRegressor(func=&lt;ufunc &#x27;log&#x27;&gt;, inverse_func=&lt;ufunc &#x27;exp&#x27;&gt;,\n",
       "                           regressor=RandomForestRegressor(n_estimators=5,\n",
       "                                                           random_state=41))</pre></div></div></div><div class=\"sk-parallel\"><div class=\"sk-parallel-item\"><div class=\"sk-item\"><div class=\"sk-serial\"><div class=\"sk-item\"><div class=\"sk-estimator sk-toggleable\"><input class=\"sk-toggleable__control sk-hidden--visually\" id=\"f116e8d2-200d-48ba-afd4-bfea49d0e264\" type=\"checkbox\" ><label for=\"f116e8d2-200d-48ba-afd4-bfea49d0e264\" class=\"sk-toggleable__label sk-toggleable__label-arrow\">RandomForestRegressor</label><div class=\"sk-toggleable__content\"><pre>RandomForestRegressor(n_estimators=5, random_state=41)</pre></div></div></div></div></div></div></div></div></div></div></div></div>"
      ],
      "text/plain": [
       "Pipeline(steps=[('transformer',\n",
       "                 ColumnTransformer(remainder='passthrough',\n",
       "                                   transformers=[('onehotencoder',\n",
       "                                                  OneHotEncoder(drop='if_binary'),\n",
       "                                                  ['dbl', 'category',\n",
       "                                                   'complexity', 'scope',\n",
       "                                                   'type']),\n",
       "                                                 ('binaryencoder',\n",
       "                                                  BinaryEncoder(),\n",
       "                                                  ['line', 'fit', 'viatech',\n",
       "                                                   'ver']),\n",
       "                                                 ('standardscaler',\n",
       "                                                  StandardScaler(),\n",
       "                                                  ['layno', 'comp'])])),\n",
       "                ('model',\n",
       "                 TransformedTargetRegressor(func=<ufunc 'log'>,\n",
       "                                            inverse_func=<ufunc 'exp'>,\n",
       "                                            regressor=RandomForestRegressor(n_estimators=5,\n",
       "                                                                            random_state=41)))])"
      ]
     },
     "execution_count": 51,
     "metadata": {},
     "output_type": "execute_result"
    }
   ],
   "source": [
    "#pipe 5 with TransformedTargetRegressor with RFR as regressor\n",
    "pipe5 = Pipeline([('transformer', transformer),\n",
    "            ('model', TransformedTargetRegressor(regressor = RandomForestRegressor(n_estimators = 5, \n",
    "                                        random_state = 41), func=np.log, inverse_func=np.exp))])\n",
    "pipe5.fit(X_train, y_train)"
   ]
  },
  {
   "cell_type": "code",
   "execution_count": 52,
   "id": "7355321d",
   "metadata": {},
   "outputs": [
    {
     "name": "stdout",
     "output_type": "stream",
     "text": [
      "Pipe5 Train MAE: 5.11438532494801\n",
      "Pipe5 Test MAE: 13.567752004052949\n",
      "Pipe5 Accuracy Score: 0.42262863867752565\n"
     ]
    }
   ],
   "source": [
    "pred5_train = pipe5.predict(X_train)\n",
    "pred5_test = pipe5.predict(X_test)\n",
    "score5 = pipe5.score(X_test, y_test)\n",
    "print(f'Pipe5 Train MAE: {median_absolute_error(y_train, pred5_train)}')\n",
    "print(f'Pipe5 Test MAE: {median_absolute_error(y_test, pred5_test)}')\n",
    "print(f'Pipe5 Accuracy Score: {score5}')\n",
    "values.append(['TTR_RFR', median_absolute_error(y_train, pred5_train),median_absolute_error(y_test, pred5_test),\n",
    "             score5])"
   ]
  },
  {
   "cell_type": "code",
   "execution_count": 53,
   "id": "77044f7b",
   "metadata": {},
   "outputs": [
    {
     "data": {
      "text/html": [
       "<style>#sk-7edbe3fc-842c-4075-80d1-9cf1bc136b7a {color: black;background-color: white;}#sk-7edbe3fc-842c-4075-80d1-9cf1bc136b7a pre{padding: 0;}#sk-7edbe3fc-842c-4075-80d1-9cf1bc136b7a div.sk-toggleable {background-color: white;}#sk-7edbe3fc-842c-4075-80d1-9cf1bc136b7a label.sk-toggleable__label {cursor: pointer;display: block;width: 100%;margin-bottom: 0;padding: 0.3em;box-sizing: border-box;text-align: center;}#sk-7edbe3fc-842c-4075-80d1-9cf1bc136b7a label.sk-toggleable__label-arrow:before {content: \"▸\";float: left;margin-right: 0.25em;color: #696969;}#sk-7edbe3fc-842c-4075-80d1-9cf1bc136b7a label.sk-toggleable__label-arrow:hover:before {color: black;}#sk-7edbe3fc-842c-4075-80d1-9cf1bc136b7a div.sk-estimator:hover label.sk-toggleable__label-arrow:before {color: black;}#sk-7edbe3fc-842c-4075-80d1-9cf1bc136b7a div.sk-toggleable__content {max-height: 0;max-width: 0;overflow: hidden;text-align: left;background-color: #f0f8ff;}#sk-7edbe3fc-842c-4075-80d1-9cf1bc136b7a div.sk-toggleable__content pre {margin: 0.2em;color: black;border-radius: 0.25em;background-color: #f0f8ff;}#sk-7edbe3fc-842c-4075-80d1-9cf1bc136b7a input.sk-toggleable__control:checked~div.sk-toggleable__content {max-height: 200px;max-width: 100%;overflow: auto;}#sk-7edbe3fc-842c-4075-80d1-9cf1bc136b7a input.sk-toggleable__control:checked~label.sk-toggleable__label-arrow:before {content: \"▾\";}#sk-7edbe3fc-842c-4075-80d1-9cf1bc136b7a div.sk-estimator input.sk-toggleable__control:checked~label.sk-toggleable__label {background-color: #d4ebff;}#sk-7edbe3fc-842c-4075-80d1-9cf1bc136b7a div.sk-label input.sk-toggleable__control:checked~label.sk-toggleable__label {background-color: #d4ebff;}#sk-7edbe3fc-842c-4075-80d1-9cf1bc136b7a input.sk-hidden--visually {border: 0;clip: rect(1px 1px 1px 1px);clip: rect(1px, 1px, 1px, 1px);height: 1px;margin: -1px;overflow: hidden;padding: 0;position: absolute;width: 1px;}#sk-7edbe3fc-842c-4075-80d1-9cf1bc136b7a div.sk-estimator {font-family: monospace;background-color: #f0f8ff;border: 1px dotted black;border-radius: 0.25em;box-sizing: border-box;margin-bottom: 0.5em;}#sk-7edbe3fc-842c-4075-80d1-9cf1bc136b7a div.sk-estimator:hover {background-color: #d4ebff;}#sk-7edbe3fc-842c-4075-80d1-9cf1bc136b7a div.sk-parallel-item::after {content: \"\";width: 100%;border-bottom: 1px solid gray;flex-grow: 1;}#sk-7edbe3fc-842c-4075-80d1-9cf1bc136b7a div.sk-label:hover label.sk-toggleable__label {background-color: #d4ebff;}#sk-7edbe3fc-842c-4075-80d1-9cf1bc136b7a div.sk-serial::before {content: \"\";position: absolute;border-left: 1px solid gray;box-sizing: border-box;top: 2em;bottom: 0;left: 50%;}#sk-7edbe3fc-842c-4075-80d1-9cf1bc136b7a div.sk-serial {display: flex;flex-direction: column;align-items: center;background-color: white;padding-right: 0.2em;padding-left: 0.2em;}#sk-7edbe3fc-842c-4075-80d1-9cf1bc136b7a div.sk-item {z-index: 1;}#sk-7edbe3fc-842c-4075-80d1-9cf1bc136b7a div.sk-parallel {display: flex;align-items: stretch;justify-content: center;background-color: white;}#sk-7edbe3fc-842c-4075-80d1-9cf1bc136b7a div.sk-parallel::before {content: \"\";position: absolute;border-left: 1px solid gray;box-sizing: border-box;top: 2em;bottom: 0;left: 50%;}#sk-7edbe3fc-842c-4075-80d1-9cf1bc136b7a div.sk-parallel-item {display: flex;flex-direction: column;position: relative;background-color: white;}#sk-7edbe3fc-842c-4075-80d1-9cf1bc136b7a div.sk-parallel-item:first-child::after {align-self: flex-end;width: 50%;}#sk-7edbe3fc-842c-4075-80d1-9cf1bc136b7a div.sk-parallel-item:last-child::after {align-self: flex-start;width: 50%;}#sk-7edbe3fc-842c-4075-80d1-9cf1bc136b7a div.sk-parallel-item:only-child::after {width: 0;}#sk-7edbe3fc-842c-4075-80d1-9cf1bc136b7a div.sk-dashed-wrapped {border: 1px dashed gray;margin: 0 0.4em 0.5em 0.4em;box-sizing: border-box;padding-bottom: 0.4em;background-color: white;position: relative;}#sk-7edbe3fc-842c-4075-80d1-9cf1bc136b7a div.sk-label label {font-family: monospace;font-weight: bold;background-color: white;display: inline-block;line-height: 1.2em;}#sk-7edbe3fc-842c-4075-80d1-9cf1bc136b7a div.sk-label-container {position: relative;z-index: 2;text-align: center;}#sk-7edbe3fc-842c-4075-80d1-9cf1bc136b7a div.sk-container {/* jupyter's `normalize.less` sets `[hidden] { display: none; }` but bootstrap.min.css set `[hidden] { display: none !important; }` so we also need the `!important` here to be able to override the default hidden behavior on the sphinx rendered scikit-learn.org. See: https://github.com/scikit-learn/scikit-learn/issues/21755 */display: inline-block !important;position: relative;}#sk-7edbe3fc-842c-4075-80d1-9cf1bc136b7a div.sk-text-repr-fallback {display: none;}</style><div id=\"sk-7edbe3fc-842c-4075-80d1-9cf1bc136b7a\" class=\"sk-top-container\"><div class=\"sk-text-repr-fallback\"><pre>Pipeline(steps=[(&#x27;transformer&#x27;,\n",
       "                 ColumnTransformer(remainder=&#x27;passthrough&#x27;,\n",
       "                                   transformers=[(&#x27;onehotencoder&#x27;,\n",
       "                                                  OneHotEncoder(drop=&#x27;if_binary&#x27;),\n",
       "                                                  [&#x27;dbl&#x27;, &#x27;category&#x27;,\n",
       "                                                   &#x27;complexity&#x27;, &#x27;scope&#x27;,\n",
       "                                                   &#x27;type&#x27;]),\n",
       "                                                 (&#x27;binaryencoder&#x27;,\n",
       "                                                  BinaryEncoder(),\n",
       "                                                  [&#x27;line&#x27;, &#x27;fit&#x27;, &#x27;viatech&#x27;,\n",
       "                                                   &#x27;ver&#x27;]),\n",
       "                                                 (&#x27;standardscaler&#x27;,\n",
       "                                                  StandardScaler(),\n",
       "                                                  [&#x27;layno&#x27;, &#x27;comp&#x27;])])),\n",
       "                (&#x27;model&#x27;,\n",
       "                 TransformedTargetRegressor(regressor=Lasso(random_state=22)))])</pre><b>Please rerun this cell to show the HTML repr or trust the notebook.</b></div><div class=\"sk-container\" hidden><div class=\"sk-item sk-dashed-wrapped\"><div class=\"sk-label-container\"><div class=\"sk-label sk-toggleable\"><input class=\"sk-toggleable__control sk-hidden--visually\" id=\"a1825401-b9b4-47f6-bd96-bd896a01e4de\" type=\"checkbox\" ><label for=\"a1825401-b9b4-47f6-bd96-bd896a01e4de\" class=\"sk-toggleable__label sk-toggleable__label-arrow\">Pipeline</label><div class=\"sk-toggleable__content\"><pre>Pipeline(steps=[(&#x27;transformer&#x27;,\n",
       "                 ColumnTransformer(remainder=&#x27;passthrough&#x27;,\n",
       "                                   transformers=[(&#x27;onehotencoder&#x27;,\n",
       "                                                  OneHotEncoder(drop=&#x27;if_binary&#x27;),\n",
       "                                                  [&#x27;dbl&#x27;, &#x27;category&#x27;,\n",
       "                                                   &#x27;complexity&#x27;, &#x27;scope&#x27;,\n",
       "                                                   &#x27;type&#x27;]),\n",
       "                                                 (&#x27;binaryencoder&#x27;,\n",
       "                                                  BinaryEncoder(),\n",
       "                                                  [&#x27;line&#x27;, &#x27;fit&#x27;, &#x27;viatech&#x27;,\n",
       "                                                   &#x27;ver&#x27;]),\n",
       "                                                 (&#x27;standardscaler&#x27;,\n",
       "                                                  StandardScaler(),\n",
       "                                                  [&#x27;layno&#x27;, &#x27;comp&#x27;])])),\n",
       "                (&#x27;model&#x27;,\n",
       "                 TransformedTargetRegressor(regressor=Lasso(random_state=22)))])</pre></div></div></div><div class=\"sk-serial\"><div class=\"sk-item sk-dashed-wrapped\"><div class=\"sk-label-container\"><div class=\"sk-label sk-toggleable\"><input class=\"sk-toggleable__control sk-hidden--visually\" id=\"e521b689-de46-40d4-bb38-906600beb63e\" type=\"checkbox\" ><label for=\"e521b689-de46-40d4-bb38-906600beb63e\" class=\"sk-toggleable__label sk-toggleable__label-arrow\">transformer: ColumnTransformer</label><div class=\"sk-toggleable__content\"><pre>ColumnTransformer(remainder=&#x27;passthrough&#x27;,\n",
       "                  transformers=[(&#x27;onehotencoder&#x27;,\n",
       "                                 OneHotEncoder(drop=&#x27;if_binary&#x27;),\n",
       "                                 [&#x27;dbl&#x27;, &#x27;category&#x27;, &#x27;complexity&#x27;, &#x27;scope&#x27;,\n",
       "                                  &#x27;type&#x27;]),\n",
       "                                (&#x27;binaryencoder&#x27;, BinaryEncoder(),\n",
       "                                 [&#x27;line&#x27;, &#x27;fit&#x27;, &#x27;viatech&#x27;, &#x27;ver&#x27;]),\n",
       "                                (&#x27;standardscaler&#x27;, StandardScaler(),\n",
       "                                 [&#x27;layno&#x27;, &#x27;comp&#x27;])])</pre></div></div></div><div class=\"sk-parallel\"><div class=\"sk-parallel-item\"><div class=\"sk-item\"><div class=\"sk-label-container\"><div class=\"sk-label sk-toggleable\"><input class=\"sk-toggleable__control sk-hidden--visually\" id=\"868ee584-9372-47b1-a317-4ec7189a43e3\" type=\"checkbox\" ><label for=\"868ee584-9372-47b1-a317-4ec7189a43e3\" class=\"sk-toggleable__label sk-toggleable__label-arrow\">onehotencoder</label><div class=\"sk-toggleable__content\"><pre>[&#x27;dbl&#x27;, &#x27;category&#x27;, &#x27;complexity&#x27;, &#x27;scope&#x27;, &#x27;type&#x27;]</pre></div></div></div><div class=\"sk-serial\"><div class=\"sk-item\"><div class=\"sk-estimator sk-toggleable\"><input class=\"sk-toggleable__control sk-hidden--visually\" id=\"60a3b26a-c16a-4a66-bb2f-36a5d09701ed\" type=\"checkbox\" ><label for=\"60a3b26a-c16a-4a66-bb2f-36a5d09701ed\" class=\"sk-toggleable__label sk-toggleable__label-arrow\">OneHotEncoder</label><div class=\"sk-toggleable__content\"><pre>OneHotEncoder(drop=&#x27;if_binary&#x27;)</pre></div></div></div></div></div></div><div class=\"sk-parallel-item\"><div class=\"sk-item\"><div class=\"sk-label-container\"><div class=\"sk-label sk-toggleable\"><input class=\"sk-toggleable__control sk-hidden--visually\" id=\"bcd72641-9171-4e92-b245-a10d91c144d4\" type=\"checkbox\" ><label for=\"bcd72641-9171-4e92-b245-a10d91c144d4\" class=\"sk-toggleable__label sk-toggleable__label-arrow\">binaryencoder</label><div class=\"sk-toggleable__content\"><pre>[&#x27;line&#x27;, &#x27;fit&#x27;, &#x27;viatech&#x27;, &#x27;ver&#x27;]</pre></div></div></div><div class=\"sk-serial\"><div class=\"sk-item\"><div class=\"sk-estimator sk-toggleable\"><input class=\"sk-toggleable__control sk-hidden--visually\" id=\"4f5b2c69-fd57-4307-af71-580dc7d55861\" type=\"checkbox\" ><label for=\"4f5b2c69-fd57-4307-af71-580dc7d55861\" class=\"sk-toggleable__label sk-toggleable__label-arrow\">BinaryEncoder</label><div class=\"sk-toggleable__content\"><pre>BinaryEncoder()</pre></div></div></div></div></div></div><div class=\"sk-parallel-item\"><div class=\"sk-item\"><div class=\"sk-label-container\"><div class=\"sk-label sk-toggleable\"><input class=\"sk-toggleable__control sk-hidden--visually\" id=\"b1c91fda-5d7b-4676-bece-903aa69e7687\" type=\"checkbox\" ><label for=\"b1c91fda-5d7b-4676-bece-903aa69e7687\" class=\"sk-toggleable__label sk-toggleable__label-arrow\">standardscaler</label><div class=\"sk-toggleable__content\"><pre>[&#x27;layno&#x27;, &#x27;comp&#x27;]</pre></div></div></div><div class=\"sk-serial\"><div class=\"sk-item\"><div class=\"sk-estimator sk-toggleable\"><input class=\"sk-toggleable__control sk-hidden--visually\" id=\"7ffaf68f-e86a-4213-93db-2751bc13e92d\" type=\"checkbox\" ><label for=\"7ffaf68f-e86a-4213-93db-2751bc13e92d\" class=\"sk-toggleable__label sk-toggleable__label-arrow\">StandardScaler</label><div class=\"sk-toggleable__content\"><pre>StandardScaler()</pre></div></div></div></div></div></div><div class=\"sk-parallel-item\"><div class=\"sk-item\"><div class=\"sk-label-container\"><div class=\"sk-label sk-toggleable\"><input class=\"sk-toggleable__control sk-hidden--visually\" id=\"95e700d3-2923-41d4-b2f7-d14989cdd9c2\" type=\"checkbox\" ><label for=\"95e700d3-2923-41d4-b2f7-d14989cdd9c2\" class=\"sk-toggleable__label sk-toggleable__label-arrow\">remainder</label><div class=\"sk-toggleable__content\"><pre>[]</pre></div></div></div><div class=\"sk-serial\"><div class=\"sk-item\"><div class=\"sk-estimator sk-toggleable\"><input class=\"sk-toggleable__control sk-hidden--visually\" id=\"51904a45-32d5-49e0-b7b9-c1f026d02d1d\" type=\"checkbox\" ><label for=\"51904a45-32d5-49e0-b7b9-c1f026d02d1d\" class=\"sk-toggleable__label sk-toggleable__label-arrow\">passthrough</label><div class=\"sk-toggleable__content\"><pre>passthrough</pre></div></div></div></div></div></div></div></div><div class=\"sk-item sk-dashed-wrapped\"><div class=\"sk-label-container\"><div class=\"sk-label sk-toggleable\"><input class=\"sk-toggleable__control sk-hidden--visually\" id=\"cd35eaae-c859-4509-a76b-affc063f2e45\" type=\"checkbox\" ><label for=\"cd35eaae-c859-4509-a76b-affc063f2e45\" class=\"sk-toggleable__label sk-toggleable__label-arrow\">model: TransformedTargetRegressor</label><div class=\"sk-toggleable__content\"><pre>TransformedTargetRegressor(regressor=Lasso(random_state=22))</pre></div></div></div><div class=\"sk-parallel\"><div class=\"sk-parallel-item\"><div class=\"sk-item\"><div class=\"sk-serial\"><div class=\"sk-item\"><div class=\"sk-estimator sk-toggleable\"><input class=\"sk-toggleable__control sk-hidden--visually\" id=\"3a68cb6e-e388-4c62-aaac-f483ac212963\" type=\"checkbox\" ><label for=\"3a68cb6e-e388-4c62-aaac-f483ac212963\" class=\"sk-toggleable__label sk-toggleable__label-arrow\">Lasso</label><div class=\"sk-toggleable__content\"><pre>Lasso(random_state=22)</pre></div></div></div></div></div></div></div></div></div></div></div></div>"
      ],
      "text/plain": [
       "Pipeline(steps=[('transformer',\n",
       "                 ColumnTransformer(remainder='passthrough',\n",
       "                                   transformers=[('onehotencoder',\n",
       "                                                  OneHotEncoder(drop='if_binary'),\n",
       "                                                  ['dbl', 'category',\n",
       "                                                   'complexity', 'scope',\n",
       "                                                   'type']),\n",
       "                                                 ('binaryencoder',\n",
       "                                                  BinaryEncoder(),\n",
       "                                                  ['line', 'fit', 'viatech',\n",
       "                                                   'ver']),\n",
       "                                                 ('standardscaler',\n",
       "                                                  StandardScaler(),\n",
       "                                                  ['layno', 'comp'])])),\n",
       "                ('model',\n",
       "                 TransformedTargetRegressor(regressor=Lasso(random_state=22)))])"
      ]
     },
     "execution_count": 53,
     "metadata": {},
     "output_type": "execute_result"
    }
   ],
   "source": [
    "#pipe 6 with TransformedTargetRegressor and Lasso as regressor\n",
    "pipe6 = Pipeline([('transformer', transformer),\n",
    "            ('model', TransformedTargetRegressor(regressor = Lasso(random_state = 22)))])\n",
    "pipe6.fit(X_train, y_train)"
   ]
  },
  {
   "cell_type": "code",
   "execution_count": 54,
   "id": "452693ec",
   "metadata": {},
   "outputs": [
    {
     "name": "stdout",
     "output_type": "stream",
     "text": [
      "Pipe6 Train MAE: 19.278724735235095\n",
      "Pipe6 Test MAE: 19.18529011239268\n",
      "Pipe6 Accuracy Score: 0.2486793896539723\n"
     ]
    }
   ],
   "source": [
    "pred6_train = pipe6.predict(X_train)\n",
    "pred6_test = pipe6.predict(X_test)\n",
    "score6 = pipe6.score(X_test, y_test)\n",
    "print(f'Pipe6 Train MAE: {median_absolute_error(y_train, pred6_train)}')\n",
    "print(f'Pipe6 Test MAE: {median_absolute_error(y_test, pred6_test)}')\n",
    "print(f'Pipe6 Accuracy Score: {score6}')\n",
    "values.append(['TTR_Lasso', median_absolute_error(y_train, pred6_train),median_absolute_error(y_test, pred6_test),\n",
    "             score6])"
   ]
  },
  {
   "cell_type": "code",
   "execution_count": 55,
   "id": "a4560864",
   "metadata": {},
   "outputs": [
    {
     "name": "stdout",
     "output_type": "stream",
     "text": [
      "\u001b[1m  Comparison Table for models\n"
     ]
    },
    {
     "data": {
      "text/html": [
       "<div>\n",
       "<style scoped>\n",
       "    .dataframe tbody tr th:only-of-type {\n",
       "        vertical-align: middle;\n",
       "    }\n",
       "\n",
       "    .dataframe tbody tr th {\n",
       "        vertical-align: top;\n",
       "    }\n",
       "\n",
       "    .dataframe thead th {\n",
       "        text-align: right;\n",
       "    }\n",
       "</style>\n",
       "<table border=\"1\" class=\"dataframe\">\n",
       "  <thead>\n",
       "    <tr style=\"text-align: right;\">\n",
       "      <th></th>\n",
       "      <th>Train MAE</th>\n",
       "      <th>Test MAE</th>\n",
       "      <th>Score</th>\n",
       "    </tr>\n",
       "    <tr>\n",
       "      <th>Model</th>\n",
       "      <th></th>\n",
       "      <th></th>\n",
       "      <th></th>\n",
       "    </tr>\n",
       "  </thead>\n",
       "  <tbody>\n",
       "    <tr>\n",
       "      <th>Linear</th>\n",
       "      <td>17.706953</td>\n",
       "      <td>18.862655</td>\n",
       "      <td>0.252396</td>\n",
       "    </tr>\n",
       "    <tr>\n",
       "      <th>Ridge</th>\n",
       "      <td>17.645738</td>\n",
       "      <td>19.155042</td>\n",
       "      <td>0.256456</td>\n",
       "    </tr>\n",
       "    <tr>\n",
       "      <th>Lasso</th>\n",
       "      <td>19.278725</td>\n",
       "      <td>19.185290</td>\n",
       "      <td>0.248679</td>\n",
       "    </tr>\n",
       "    <tr>\n",
       "      <th>TTR_Ridge</th>\n",
       "      <td>13.322096</td>\n",
       "      <td>14.748382</td>\n",
       "      <td>0.261511</td>\n",
       "    </tr>\n",
       "    <tr>\n",
       "      <th>TTR_RFR</th>\n",
       "      <td>5.114385</td>\n",
       "      <td>13.567752</td>\n",
       "      <td>0.422629</td>\n",
       "    </tr>\n",
       "    <tr>\n",
       "      <th>TTR_Lasso</th>\n",
       "      <td>19.278725</td>\n",
       "      <td>19.185290</td>\n",
       "      <td>0.248679</td>\n",
       "    </tr>\n",
       "  </tbody>\n",
       "</table>\n",
       "</div>"
      ],
      "text/plain": [
       "           Train MAE   Test MAE     Score\n",
       "Model                                    \n",
       "Linear     17.706953  18.862655  0.252396\n",
       "Ridge      17.645738  19.155042  0.256456\n",
       "Lasso      19.278725  19.185290  0.248679\n",
       "TTR_Ridge  13.322096  14.748382  0.261511\n",
       "TTR_RFR     5.114385  13.567752  0.422629\n",
       "TTR_Lasso  19.278725  19.185290  0.248679"
      ]
     },
     "execution_count": 55,
     "metadata": {},
     "output_type": "execute_result"
    }
   ],
   "source": [
    "#visualize all the results in one table\n",
    "table1 = pd.DataFrame(values, columns = ['Model', 'Train MAE', 'Test MAE', 'Score'])\n",
    "table1 = table1.set_index('Model')\n",
    "print('\\033[1m  Comparison Table for models')\n",
    "table1"
   ]
  },
  {
   "cell_type": "code",
   "execution_count": 56,
   "id": "46f4afe2",
   "metadata": {},
   "outputs": [
    {
     "name": "stdout",
     "output_type": "stream",
     "text": [
      "r2\n",
      "    scope             0.525              +/- 0.159\n",
      "    ver               0.318              +/- 0.083\n",
      "    line              0.299              +/- 0.104\n",
      "    complexity          0.226              +/- 0.068\n",
      "    dbl               0.074              +/- 0.023\n",
      "neg_mean_absolute_percentage_error\n",
      "    line              0.230              +/- 0.103\n",
      "    ver               0.221              +/- 0.079\n",
      "    scope             0.207              +/- 0.099\n",
      "    type              0.175              +/- 0.053\n",
      "neg_mean_squared_error\n",
      "    scope             554.789              +/- 168.359\n",
      "    ver               336.556              +/- 87.656\n",
      "    line              316.411              +/- 109.592\n",
      "    complexity          238.384              +/- 72.192\n",
      "    dbl               78.217              +/- 24.270\n"
     ]
    }
   ],
   "source": [
    ">>> scoring = ['r2', 'neg_mean_absolute_percentage_error', 'neg_mean_squared_error']\n",
    ">>> r_multi = permutation_importance(pipe5, X_test, y_test,\n",
    "...                            n_repeats=30,\n",
    "...                            random_state=0, scoring = scoring)\n",
    "...\n",
    ">>> for metric in r_multi:\n",
    "...     print(f\"{metric}\")\n",
    "...     r = r_multi[metric]\n",
    "...     for i in r.importances_mean.argsort()[::-1]:\n",
    "...         if r.importances_mean[i] - 2 * r.importances_std[i] > 0:\n",
    "...             print(f\"    {X_test.columns[i]:<8}\"\n",
    "...                   f\"          {r.importances_mean[i]:.3f}\"\n",
    "...                   f\"              +/- {r.importances_std[i]:.3f}\")"
   ]
  },
  {
   "cell_type": "code",
   "execution_count": 57,
   "id": "bec5b450",
   "metadata": {},
   "outputs": [
    {
     "data": {
      "text/html": [
       "<style>#sk-9025c5f3-8adb-49ce-97cc-037b816d58ec {color: black;background-color: white;}#sk-9025c5f3-8adb-49ce-97cc-037b816d58ec pre{padding: 0;}#sk-9025c5f3-8adb-49ce-97cc-037b816d58ec div.sk-toggleable {background-color: white;}#sk-9025c5f3-8adb-49ce-97cc-037b816d58ec label.sk-toggleable__label {cursor: pointer;display: block;width: 100%;margin-bottom: 0;padding: 0.3em;box-sizing: border-box;text-align: center;}#sk-9025c5f3-8adb-49ce-97cc-037b816d58ec label.sk-toggleable__label-arrow:before {content: \"▸\";float: left;margin-right: 0.25em;color: #696969;}#sk-9025c5f3-8adb-49ce-97cc-037b816d58ec label.sk-toggleable__label-arrow:hover:before {color: black;}#sk-9025c5f3-8adb-49ce-97cc-037b816d58ec div.sk-estimator:hover label.sk-toggleable__label-arrow:before {color: black;}#sk-9025c5f3-8adb-49ce-97cc-037b816d58ec div.sk-toggleable__content {max-height: 0;max-width: 0;overflow: hidden;text-align: left;background-color: #f0f8ff;}#sk-9025c5f3-8adb-49ce-97cc-037b816d58ec div.sk-toggleable__content pre {margin: 0.2em;color: black;border-radius: 0.25em;background-color: #f0f8ff;}#sk-9025c5f3-8adb-49ce-97cc-037b816d58ec input.sk-toggleable__control:checked~div.sk-toggleable__content {max-height: 200px;max-width: 100%;overflow: auto;}#sk-9025c5f3-8adb-49ce-97cc-037b816d58ec input.sk-toggleable__control:checked~label.sk-toggleable__label-arrow:before {content: \"▾\";}#sk-9025c5f3-8adb-49ce-97cc-037b816d58ec div.sk-estimator input.sk-toggleable__control:checked~label.sk-toggleable__label {background-color: #d4ebff;}#sk-9025c5f3-8adb-49ce-97cc-037b816d58ec div.sk-label input.sk-toggleable__control:checked~label.sk-toggleable__label {background-color: #d4ebff;}#sk-9025c5f3-8adb-49ce-97cc-037b816d58ec input.sk-hidden--visually {border: 0;clip: rect(1px 1px 1px 1px);clip: rect(1px, 1px, 1px, 1px);height: 1px;margin: -1px;overflow: hidden;padding: 0;position: absolute;width: 1px;}#sk-9025c5f3-8adb-49ce-97cc-037b816d58ec div.sk-estimator {font-family: monospace;background-color: #f0f8ff;border: 1px dotted black;border-radius: 0.25em;box-sizing: border-box;margin-bottom: 0.5em;}#sk-9025c5f3-8adb-49ce-97cc-037b816d58ec div.sk-estimator:hover {background-color: #d4ebff;}#sk-9025c5f3-8adb-49ce-97cc-037b816d58ec div.sk-parallel-item::after {content: \"\";width: 100%;border-bottom: 1px solid gray;flex-grow: 1;}#sk-9025c5f3-8adb-49ce-97cc-037b816d58ec div.sk-label:hover label.sk-toggleable__label {background-color: #d4ebff;}#sk-9025c5f3-8adb-49ce-97cc-037b816d58ec div.sk-serial::before {content: \"\";position: absolute;border-left: 1px solid gray;box-sizing: border-box;top: 2em;bottom: 0;left: 50%;}#sk-9025c5f3-8adb-49ce-97cc-037b816d58ec div.sk-serial {display: flex;flex-direction: column;align-items: center;background-color: white;padding-right: 0.2em;padding-left: 0.2em;}#sk-9025c5f3-8adb-49ce-97cc-037b816d58ec div.sk-item {z-index: 1;}#sk-9025c5f3-8adb-49ce-97cc-037b816d58ec div.sk-parallel {display: flex;align-items: stretch;justify-content: center;background-color: white;}#sk-9025c5f3-8adb-49ce-97cc-037b816d58ec div.sk-parallel::before {content: \"\";position: absolute;border-left: 1px solid gray;box-sizing: border-box;top: 2em;bottom: 0;left: 50%;}#sk-9025c5f3-8adb-49ce-97cc-037b816d58ec div.sk-parallel-item {display: flex;flex-direction: column;position: relative;background-color: white;}#sk-9025c5f3-8adb-49ce-97cc-037b816d58ec div.sk-parallel-item:first-child::after {align-self: flex-end;width: 50%;}#sk-9025c5f3-8adb-49ce-97cc-037b816d58ec div.sk-parallel-item:last-child::after {align-self: flex-start;width: 50%;}#sk-9025c5f3-8adb-49ce-97cc-037b816d58ec div.sk-parallel-item:only-child::after {width: 0;}#sk-9025c5f3-8adb-49ce-97cc-037b816d58ec div.sk-dashed-wrapped {border: 1px dashed gray;margin: 0 0.4em 0.5em 0.4em;box-sizing: border-box;padding-bottom: 0.4em;background-color: white;position: relative;}#sk-9025c5f3-8adb-49ce-97cc-037b816d58ec div.sk-label label {font-family: monospace;font-weight: bold;background-color: white;display: inline-block;line-height: 1.2em;}#sk-9025c5f3-8adb-49ce-97cc-037b816d58ec div.sk-label-container {position: relative;z-index: 2;text-align: center;}#sk-9025c5f3-8adb-49ce-97cc-037b816d58ec div.sk-container {/* jupyter's `normalize.less` sets `[hidden] { display: none; }` but bootstrap.min.css set `[hidden] { display: none !important; }` so we also need the `!important` here to be able to override the default hidden behavior on the sphinx rendered scikit-learn.org. See: https://github.com/scikit-learn/scikit-learn/issues/21755 */display: inline-block !important;position: relative;}#sk-9025c5f3-8adb-49ce-97cc-037b816d58ec div.sk-text-repr-fallback {display: none;}</style><div id=\"sk-9025c5f3-8adb-49ce-97cc-037b816d58ec\" class=\"sk-top-container\"><div class=\"sk-text-repr-fallback\"><pre>GridSearchCV(estimator=Pipeline(steps=[(&#x27;transformer&#x27;,\n",
       "                                        ColumnTransformer(remainder=&#x27;passthrough&#x27;,\n",
       "                                                          transformers=[(&#x27;onehotencoder&#x27;,\n",
       "                                                                         OneHotEncoder(drop=&#x27;if_binary&#x27;),\n",
       "                                                                         [&#x27;dbl&#x27;,\n",
       "                                                                          &#x27;category&#x27;,\n",
       "                                                                          &#x27;complexity&#x27;,\n",
       "                                                                          &#x27;scope&#x27;,\n",
       "                                                                          &#x27;type&#x27;]),\n",
       "                                                                        (&#x27;binaryencoder&#x27;,\n",
       "                                                                         BinaryEncoder(),\n",
       "                                                                         [&#x27;line&#x27;,\n",
       "                                                                          &#x27;fit&#x27;,\n",
       "                                                                          &#x27;viatech&#x27;,\n",
       "                                                                          &#x27;ver&#x27;]),\n",
       "                                                                        (&#x27;standardscaler&#x27;,\n",
       "                                                                         StandardScaler(),\n",
       "                                                                         [&#x27;layno&#x27;,\n",
       "                                                                          &#x27;comp&#x27;])])),\n",
       "                                       (&#x27;model&#x27;,\n",
       "                                        TransformedTargetRegressor(func=&lt;ufunc &#x27;log&#x27;&gt;,\n",
       "                                                                   inverse_func=&lt;ufunc &#x27;exp&#x27;&gt;,\n",
       "                                                                   regressor=RandomForestRegressor()))]),\n",
       "             param_grid={&#x27;model__regressor__n_estimators&#x27;: range(1, 20),\n",
       "                         &#x27;model__regressor__random_state&#x27;: range(1, 42)},\n",
       "             scoring=&#x27;r2&#x27;)</pre><b>Please rerun this cell to show the HTML repr or trust the notebook.</b></div><div class=\"sk-container\" hidden><div class=\"sk-item sk-dashed-wrapped\"><div class=\"sk-label-container\"><div class=\"sk-label sk-toggleable\"><input class=\"sk-toggleable__control sk-hidden--visually\" id=\"3834e5f7-1c1e-439b-9b5e-1d3307d02768\" type=\"checkbox\" ><label for=\"3834e5f7-1c1e-439b-9b5e-1d3307d02768\" class=\"sk-toggleable__label sk-toggleable__label-arrow\">GridSearchCV</label><div class=\"sk-toggleable__content\"><pre>GridSearchCV(estimator=Pipeline(steps=[(&#x27;transformer&#x27;,\n",
       "                                        ColumnTransformer(remainder=&#x27;passthrough&#x27;,\n",
       "                                                          transformers=[(&#x27;onehotencoder&#x27;,\n",
       "                                                                         OneHotEncoder(drop=&#x27;if_binary&#x27;),\n",
       "                                                                         [&#x27;dbl&#x27;,\n",
       "                                                                          &#x27;category&#x27;,\n",
       "                                                                          &#x27;complexity&#x27;,\n",
       "                                                                          &#x27;scope&#x27;,\n",
       "                                                                          &#x27;type&#x27;]),\n",
       "                                                                        (&#x27;binaryencoder&#x27;,\n",
       "                                                                         BinaryEncoder(),\n",
       "                                                                         [&#x27;line&#x27;,\n",
       "                                                                          &#x27;fit&#x27;,\n",
       "                                                                          &#x27;viatech&#x27;,\n",
       "                                                                          &#x27;ver&#x27;]),\n",
       "                                                                        (&#x27;standardscaler&#x27;,\n",
       "                                                                         StandardScaler(),\n",
       "                                                                         [&#x27;layno&#x27;,\n",
       "                                                                          &#x27;comp&#x27;])])),\n",
       "                                       (&#x27;model&#x27;,\n",
       "                                        TransformedTargetRegressor(func=&lt;ufunc &#x27;log&#x27;&gt;,\n",
       "                                                                   inverse_func=&lt;ufunc &#x27;exp&#x27;&gt;,\n",
       "                                                                   regressor=RandomForestRegressor()))]),\n",
       "             param_grid={&#x27;model__regressor__n_estimators&#x27;: range(1, 20),\n",
       "                         &#x27;model__regressor__random_state&#x27;: range(1, 42)},\n",
       "             scoring=&#x27;r2&#x27;)</pre></div></div></div><div class=\"sk-parallel\"><div class=\"sk-parallel-item\"><div class=\"sk-item\"><div class=\"sk-serial\"><div class=\"sk-item\"><div class=\"sk-serial\"><div class=\"sk-item sk-dashed-wrapped\"><div class=\"sk-label-container\"><div class=\"sk-label sk-toggleable\"><input class=\"sk-toggleable__control sk-hidden--visually\" id=\"f1529030-56f2-4582-8f73-4ef9e98c6246\" type=\"checkbox\" ><label for=\"f1529030-56f2-4582-8f73-4ef9e98c6246\" class=\"sk-toggleable__label sk-toggleable__label-arrow\">transformer: ColumnTransformer</label><div class=\"sk-toggleable__content\"><pre>ColumnTransformer(remainder=&#x27;passthrough&#x27;,\n",
       "                  transformers=[(&#x27;onehotencoder&#x27;,\n",
       "                                 OneHotEncoder(drop=&#x27;if_binary&#x27;),\n",
       "                                 [&#x27;dbl&#x27;, &#x27;category&#x27;, &#x27;complexity&#x27;, &#x27;scope&#x27;,\n",
       "                                  &#x27;type&#x27;]),\n",
       "                                (&#x27;binaryencoder&#x27;, BinaryEncoder(),\n",
       "                                 [&#x27;line&#x27;, &#x27;fit&#x27;, &#x27;viatech&#x27;, &#x27;ver&#x27;]),\n",
       "                                (&#x27;standardscaler&#x27;, StandardScaler(),\n",
       "                                 [&#x27;layno&#x27;, &#x27;comp&#x27;])])</pre></div></div></div><div class=\"sk-parallel\"><div class=\"sk-parallel-item\"><div class=\"sk-item\"><div class=\"sk-label-container\"><div class=\"sk-label sk-toggleable\"><input class=\"sk-toggleable__control sk-hidden--visually\" id=\"112f47af-bedf-46fc-b144-a0ee3892737e\" type=\"checkbox\" ><label for=\"112f47af-bedf-46fc-b144-a0ee3892737e\" class=\"sk-toggleable__label sk-toggleable__label-arrow\">onehotencoder</label><div class=\"sk-toggleable__content\"><pre>[&#x27;dbl&#x27;, &#x27;category&#x27;, &#x27;complexity&#x27;, &#x27;scope&#x27;, &#x27;type&#x27;]</pre></div></div></div><div class=\"sk-serial\"><div class=\"sk-item\"><div class=\"sk-estimator sk-toggleable\"><input class=\"sk-toggleable__control sk-hidden--visually\" id=\"31401b55-1f06-415d-ab07-317bf0d85002\" type=\"checkbox\" ><label for=\"31401b55-1f06-415d-ab07-317bf0d85002\" class=\"sk-toggleable__label sk-toggleable__label-arrow\">OneHotEncoder</label><div class=\"sk-toggleable__content\"><pre>OneHotEncoder(drop=&#x27;if_binary&#x27;)</pre></div></div></div></div></div></div><div class=\"sk-parallel-item\"><div class=\"sk-item\"><div class=\"sk-label-container\"><div class=\"sk-label sk-toggleable\"><input class=\"sk-toggleable__control sk-hidden--visually\" id=\"7137a22f-abb7-4e90-ba4a-f1e518bf1a4c\" type=\"checkbox\" ><label for=\"7137a22f-abb7-4e90-ba4a-f1e518bf1a4c\" class=\"sk-toggleable__label sk-toggleable__label-arrow\">binaryencoder</label><div class=\"sk-toggleable__content\"><pre>[&#x27;line&#x27;, &#x27;fit&#x27;, &#x27;viatech&#x27;, &#x27;ver&#x27;]</pre></div></div></div><div class=\"sk-serial\"><div class=\"sk-item\"><div class=\"sk-estimator sk-toggleable\"><input class=\"sk-toggleable__control sk-hidden--visually\" id=\"bb438706-b4ab-4122-8116-f9e2cc14cfa8\" type=\"checkbox\" ><label for=\"bb438706-b4ab-4122-8116-f9e2cc14cfa8\" class=\"sk-toggleable__label sk-toggleable__label-arrow\">BinaryEncoder</label><div class=\"sk-toggleable__content\"><pre>BinaryEncoder()</pre></div></div></div></div></div></div><div class=\"sk-parallel-item\"><div class=\"sk-item\"><div class=\"sk-label-container\"><div class=\"sk-label sk-toggleable\"><input class=\"sk-toggleable__control sk-hidden--visually\" id=\"22c92876-0112-45d9-aefd-055d2623187c\" type=\"checkbox\" ><label for=\"22c92876-0112-45d9-aefd-055d2623187c\" class=\"sk-toggleable__label sk-toggleable__label-arrow\">standardscaler</label><div class=\"sk-toggleable__content\"><pre>[&#x27;layno&#x27;, &#x27;comp&#x27;]</pre></div></div></div><div class=\"sk-serial\"><div class=\"sk-item\"><div class=\"sk-estimator sk-toggleable\"><input class=\"sk-toggleable__control sk-hidden--visually\" id=\"d2f97e64-d850-4c14-bcbd-407293f42c66\" type=\"checkbox\" ><label for=\"d2f97e64-d850-4c14-bcbd-407293f42c66\" class=\"sk-toggleable__label sk-toggleable__label-arrow\">StandardScaler</label><div class=\"sk-toggleable__content\"><pre>StandardScaler()</pre></div></div></div></div></div></div><div class=\"sk-parallel-item\"><div class=\"sk-item\"><div class=\"sk-label-container\"><div class=\"sk-label sk-toggleable\"><input class=\"sk-toggleable__control sk-hidden--visually\" id=\"6382edcd-6978-44fe-9e62-2a2627960248\" type=\"checkbox\" ><label for=\"6382edcd-6978-44fe-9e62-2a2627960248\" class=\"sk-toggleable__label sk-toggleable__label-arrow\">remainder</label><div class=\"sk-toggleable__content\"><pre>[]</pre></div></div></div><div class=\"sk-serial\"><div class=\"sk-item\"><div class=\"sk-estimator sk-toggleable\"><input class=\"sk-toggleable__control sk-hidden--visually\" id=\"a9c88308-271e-429c-a67e-5b5b6d7c2696\" type=\"checkbox\" ><label for=\"a9c88308-271e-429c-a67e-5b5b6d7c2696\" class=\"sk-toggleable__label sk-toggleable__label-arrow\">passthrough</label><div class=\"sk-toggleable__content\"><pre>passthrough</pre></div></div></div></div></div></div></div></div><div class=\"sk-item sk-dashed-wrapped\"><div class=\"sk-label-container\"><div class=\"sk-label sk-toggleable\"><input class=\"sk-toggleable__control sk-hidden--visually\" id=\"2f6295ba-a9cc-4fe1-a0f2-f18478c13d3b\" type=\"checkbox\" ><label for=\"2f6295ba-a9cc-4fe1-a0f2-f18478c13d3b\" class=\"sk-toggleable__label sk-toggleable__label-arrow\">model: TransformedTargetRegressor</label><div class=\"sk-toggleable__content\"><pre>TransformedTargetRegressor(func=&lt;ufunc &#x27;log&#x27;&gt;, inverse_func=&lt;ufunc &#x27;exp&#x27;&gt;,\n",
       "                           regressor=RandomForestRegressor())</pre></div></div></div><div class=\"sk-parallel\"><div class=\"sk-parallel-item\"><div class=\"sk-item\"><div class=\"sk-serial\"><div class=\"sk-item\"><div class=\"sk-estimator sk-toggleable\"><input class=\"sk-toggleable__control sk-hidden--visually\" id=\"ffb3a0c7-aad6-4f6c-91c8-de7c882f7be9\" type=\"checkbox\" ><label for=\"ffb3a0c7-aad6-4f6c-91c8-de7c882f7be9\" class=\"sk-toggleable__label sk-toggleable__label-arrow\">RandomForestRegressor</label><div class=\"sk-toggleable__content\"><pre>RandomForestRegressor()</pre></div></div></div></div></div></div></div></div></div></div></div></div></div></div></div></div></div>"
      ],
      "text/plain": [
       "GridSearchCV(estimator=Pipeline(steps=[('transformer',\n",
       "                                        ColumnTransformer(remainder='passthrough',\n",
       "                                                          transformers=[('onehotencoder',\n",
       "                                                                         OneHotEncoder(drop='if_binary'),\n",
       "                                                                         ['dbl',\n",
       "                                                                          'category',\n",
       "                                                                          'complexity',\n",
       "                                                                          'scope',\n",
       "                                                                          'type']),\n",
       "                                                                        ('binaryencoder',\n",
       "                                                                         BinaryEncoder(),\n",
       "                                                                         ['line',\n",
       "                                                                          'fit',\n",
       "                                                                          'viatech',\n",
       "                                                                          'ver']),\n",
       "                                                                        ('standardscaler',\n",
       "                                                                         StandardScaler(),\n",
       "                                                                         ['layno',\n",
       "                                                                          'comp'])])),\n",
       "                                       ('model',\n",
       "                                        TransformedTargetRegressor(func=<ufunc 'log'>,\n",
       "                                                                   inverse_func=<ufunc 'exp'>,\n",
       "                                                                   regressor=RandomForestRegressor()))]),\n",
       "             param_grid={'model__regressor__n_estimators': range(1, 20),\n",
       "                         'model__regressor__random_state': range(1, 42)},\n",
       "             scoring='r2')"
      ]
     },
     "execution_count": 57,
     "metadata": {},
     "output_type": "execute_result"
    }
   ],
   "source": [
    "#grid for pipe 5\n",
    "param5 = {'model__regressor__n_estimators': range(1, 20, 1),\n",
    "         'model__regressor__random_state': range(1, 42, 1)}\n",
    "pipe5a = Pipeline([('transformer', transformer),\n",
    "            ('model', TransformedTargetRegressor(regressor = RandomForestRegressor(), \n",
    "                                                 func=np.log, inverse_func=np.exp))])\n",
    "pipe5a.fit(X_train, y_train)\n",
    "grid5 = GridSearchCV(pipe5a, param5, scoring = 'r2')\n",
    "grid5.fit(X_train, y_train)"
   ]
  },
  {
   "cell_type": "code",
   "execution_count": 58,
   "id": "d8f939ae",
   "metadata": {},
   "outputs": [
    {
     "name": "stdout",
     "output_type": "stream",
     "text": [
      "Grid2 Train MAE: 5.33\n",
      "Grid2 Test MAE: 13.3\n",
      "Best parameter: {'model__regressor__n_estimators': 13, 'model__regressor__random_state': 18}\n",
      "Best score: 0.2952879178237541\n"
     ]
    }
   ],
   "source": [
    "pred_train_grid5 = grid5.predict(X_train)\n",
    "pred_test_grid5 = grid5.predict(X_test)\n",
    "grid5_train_mae = median_absolute_error(y_train, pred_train_grid5)\n",
    "grid5_test_mae = median_absolute_error(y_test, pred_test_grid5)\n",
    "print(f'Grid2 Train MAE: {round(grid5_train_mae, 2)}')\n",
    "print(f'Grid2 Test MAE: {round(grid5_test_mae, 2)}')\n",
    "print(f'Best parameter: {grid5.best_params_}')\n",
    "print(f'Best score: {grid5.best_score_}')\n",
    "values.append(['Grid_TTR-RFR', grid5_train_mae, grid5_test_mae,grid5.best_score_])"
   ]
  },
  {
   "cell_type": "code",
   "execution_count": 59,
   "id": "6e0b4852",
   "metadata": {},
   "outputs": [
    {
     "data": {
      "image/png": "[encoded data removed]",
      "text/plain": [
       "<Figure size 432x288 with 1 Axes>"
      ]
     },
     "metadata": {
      "needs_background": "light"
     },
     "output_type": "display_data"
    }
   ],
   "source": [
    "plt.plot(y_test, pred_test_grid5, 'ro')\n",
    "plt.xlabel('Actual values')\n",
    "plt.ylabel('Predicted values')\n",
    "plt.plot(np.unique(y_test), np.poly1d(np.polyfit(y_test, pred_test_grid5, 1))(np.unique(y_test)))\n",
    "plt.show()"
   ]
  },
  {
   "cell_type": "code",
   "execution_count": 60,
   "id": "a3a18ab0",
   "metadata": {},
   "outputs": [],
   "source": [
    "#GridSearchCV parameters\n",
    "param1 = {'model__regressor__alpha': np.logspace(0, 10, 10)}\n",
    "param2 = {'model__alpha': np.logspace(0, 10, 10)}"
   ]
  },
  {
   "cell_type": "code",
   "execution_count": 61,
   "id": "eb408622",
   "metadata": {},
   "outputs": [
    {
     "data": {
      "text/html": [
       "<style>#sk-50335c95-7bea-4526-b921-666d831b504f {color: black;background-color: white;}#sk-50335c95-7bea-4526-b921-666d831b504f pre{padding: 0;}#sk-50335c95-7bea-4526-b921-666d831b504f div.sk-toggleable {background-color: white;}#sk-50335c95-7bea-4526-b921-666d831b504f label.sk-toggleable__label {cursor: pointer;display: block;width: 100%;margin-bottom: 0;padding: 0.3em;box-sizing: border-box;text-align: center;}#sk-50335c95-7bea-4526-b921-666d831b504f label.sk-toggleable__label-arrow:before {content: \"▸\";float: left;margin-right: 0.25em;color: #696969;}#sk-50335c95-7bea-4526-b921-666d831b504f label.sk-toggleable__label-arrow:hover:before {color: black;}#sk-50335c95-7bea-4526-b921-666d831b504f div.sk-estimator:hover label.sk-toggleable__label-arrow:before {color: black;}#sk-50335c95-7bea-4526-b921-666d831b504f div.sk-toggleable__content {max-height: 0;max-width: 0;overflow: hidden;text-align: left;background-color: #f0f8ff;}#sk-50335c95-7bea-4526-b921-666d831b504f div.sk-toggleable__content pre {margin: 0.2em;color: black;border-radius: 0.25em;background-color: #f0f8ff;}#sk-50335c95-7bea-4526-b921-666d831b504f input.sk-toggleable__control:checked~div.sk-toggleable__content {max-height: 200px;max-width: 100%;overflow: auto;}#sk-50335c95-7bea-4526-b921-666d831b504f input.sk-toggleable__control:checked~label.sk-toggleable__label-arrow:before {content: \"▾\";}#sk-50335c95-7bea-4526-b921-666d831b504f div.sk-estimator input.sk-toggleable__control:checked~label.sk-toggleable__label {background-color: #d4ebff;}#sk-50335c95-7bea-4526-b921-666d831b504f div.sk-label input.sk-toggleable__control:checked~label.sk-toggleable__label {background-color: #d4ebff;}#sk-50335c95-7bea-4526-b921-666d831b504f input.sk-hidden--visually {border: 0;clip: rect(1px 1px 1px 1px);clip: rect(1px, 1px, 1px, 1px);height: 1px;margin: -1px;overflow: hidden;padding: 0;position: absolute;width: 1px;}#sk-50335c95-7bea-4526-b921-666d831b504f div.sk-estimator {font-family: monospace;background-color: #f0f8ff;border: 1px dotted black;border-radius: 0.25em;box-sizing: border-box;margin-bottom: 0.5em;}#sk-50335c95-7bea-4526-b921-666d831b504f div.sk-estimator:hover {background-color: #d4ebff;}#sk-50335c95-7bea-4526-b921-666d831b504f div.sk-parallel-item::after {content: \"\";width: 100%;border-bottom: 1px solid gray;flex-grow: 1;}#sk-50335c95-7bea-4526-b921-666d831b504f div.sk-label:hover label.sk-toggleable__label {background-color: #d4ebff;}#sk-50335c95-7bea-4526-b921-666d831b504f div.sk-serial::before {content: \"\";position: absolute;border-left: 1px solid gray;box-sizing: border-box;top: 2em;bottom: 0;left: 50%;}#sk-50335c95-7bea-4526-b921-666d831b504f div.sk-serial {display: flex;flex-direction: column;align-items: center;background-color: white;padding-right: 0.2em;padding-left: 0.2em;}#sk-50335c95-7bea-4526-b921-666d831b504f div.sk-item {z-index: 1;}#sk-50335c95-7bea-4526-b921-666d831b504f div.sk-parallel {display: flex;align-items: stretch;justify-content: center;background-color: white;}#sk-50335c95-7bea-4526-b921-666d831b504f div.sk-parallel::before {content: \"\";position: absolute;border-left: 1px solid gray;box-sizing: border-box;top: 2em;bottom: 0;left: 50%;}#sk-50335c95-7bea-4526-b921-666d831b504f div.sk-parallel-item {display: flex;flex-direction: column;position: relative;background-color: white;}#sk-50335c95-7bea-4526-b921-666d831b504f div.sk-parallel-item:first-child::after {align-self: flex-end;width: 50%;}#sk-50335c95-7bea-4526-b921-666d831b504f div.sk-parallel-item:last-child::after {align-self: flex-start;width: 50%;}#sk-50335c95-7bea-4526-b921-666d831b504f div.sk-parallel-item:only-child::after {width: 0;}#sk-50335c95-7bea-4526-b921-666d831b504f div.sk-dashed-wrapped {border: 1px dashed gray;margin: 0 0.4em 0.5em 0.4em;box-sizing: border-box;padding-bottom: 0.4em;background-color: white;position: relative;}#sk-50335c95-7bea-4526-b921-666d831b504f div.sk-label label {font-family: monospace;font-weight: bold;background-color: white;display: inline-block;line-height: 1.2em;}#sk-50335c95-7bea-4526-b921-666d831b504f div.sk-label-container {position: relative;z-index: 2;text-align: center;}#sk-50335c95-7bea-4526-b921-666d831b504f div.sk-container {/* jupyter's `normalize.less` sets `[hidden] { display: none; }` but bootstrap.min.css set `[hidden] { display: none !important; }` so we also need the `!important` here to be able to override the default hidden behavior on the sphinx rendered scikit-learn.org. See: https://github.com/scikit-learn/scikit-learn/issues/21755 */display: inline-block !important;position: relative;}#sk-50335c95-7bea-4526-b921-666d831b504f div.sk-text-repr-fallback {display: none;}</style><div id=\"sk-50335c95-7bea-4526-b921-666d831b504f\" class=\"sk-top-container\"><div class=\"sk-text-repr-fallback\"><pre>GridSearchCV(estimator=Pipeline(steps=[(&#x27;transformer&#x27;,\n",
       "                                        ColumnTransformer(remainder=&#x27;passthrough&#x27;,\n",
       "                                                          transformers=[(&#x27;onehotencoder&#x27;,\n",
       "                                                                         OneHotEncoder(drop=&#x27;if_binary&#x27;),\n",
       "                                                                         [&#x27;dbl&#x27;,\n",
       "                                                                          &#x27;category&#x27;,\n",
       "                                                                          &#x27;complexity&#x27;,\n",
       "                                                                          &#x27;scope&#x27;,\n",
       "                                                                          &#x27;type&#x27;]),\n",
       "                                                                        (&#x27;binaryencoder&#x27;,\n",
       "                                                                         BinaryEncoder(),\n",
       "                                                                         [&#x27;line&#x27;,\n",
       "                                                                          &#x27;fit&#x27;,\n",
       "                                                                          &#x27;viatech&#x27;,\n",
       "                                                                          &#x27;ver&#x27;]),\n",
       "                                                                        (&#x27;standardscaler&#x27;,\n",
       "                                                                         StandardScaler(),\n",
       "                                                                         [&#x27;layno&#x27;,\n",
       "                                                                          &#x27;comp&#x27;])])),\n",
       "                                       (&#x27;model&#x27;, Ridge(random_state=10))]),\n",
       "             param_grid={&#x27;model__alpha&#x27;: array([1.00000000e+00, 1.29154967e+01, 1.66810054e+02, 2.15443469e+03,\n",
       "       2.78255940e+04, 3.59381366e+05, 4.64158883e+06, 5.99484250e+07,\n",
       "       7.74263683e+08, 1.00000000e+10]),\n",
       "                         &#x27;model__random_state&#x27;: range(1, 42)})</pre><b>Please rerun this cell to show the HTML repr or trust the notebook.</b></div><div class=\"sk-container\" hidden><div class=\"sk-item sk-dashed-wrapped\"><div class=\"sk-label-container\"><div class=\"sk-label sk-toggleable\"><input class=\"sk-toggleable__control sk-hidden--visually\" id=\"c851fd24-52f1-43fd-b6bf-745b53d0ee8e\" type=\"checkbox\" ><label for=\"c851fd24-52f1-43fd-b6bf-745b53d0ee8e\" class=\"sk-toggleable__label sk-toggleable__label-arrow\">GridSearchCV</label><div class=\"sk-toggleable__content\"><pre>GridSearchCV(estimator=Pipeline(steps=[(&#x27;transformer&#x27;,\n",
       "                                        ColumnTransformer(remainder=&#x27;passthrough&#x27;,\n",
       "                                                          transformers=[(&#x27;onehotencoder&#x27;,\n",
       "                                                                         OneHotEncoder(drop=&#x27;if_binary&#x27;),\n",
       "                                                                         [&#x27;dbl&#x27;,\n",
       "                                                                          &#x27;category&#x27;,\n",
       "                                                                          &#x27;complexity&#x27;,\n",
       "                                                                          &#x27;scope&#x27;,\n",
       "                                                                          &#x27;type&#x27;]),\n",
       "                                                                        (&#x27;binaryencoder&#x27;,\n",
       "                                                                         BinaryEncoder(),\n",
       "                                                                         [&#x27;line&#x27;,\n",
       "                                                                          &#x27;fit&#x27;,\n",
       "                                                                          &#x27;viatech&#x27;,\n",
       "                                                                          &#x27;ver&#x27;]),\n",
       "                                                                        (&#x27;standardscaler&#x27;,\n",
       "                                                                         StandardScaler(),\n",
       "                                                                         [&#x27;layno&#x27;,\n",
       "                                                                          &#x27;comp&#x27;])])),\n",
       "                                       (&#x27;model&#x27;, Ridge(random_state=10))]),\n",
       "             param_grid={&#x27;model__alpha&#x27;: array([1.00000000e+00, 1.29154967e+01, 1.66810054e+02, 2.15443469e+03,\n",
       "       2.78255940e+04, 3.59381366e+05, 4.64158883e+06, 5.99484250e+07,\n",
       "       7.74263683e+08, 1.00000000e+10]),\n",
       "                         &#x27;model__random_state&#x27;: range(1, 42)})</pre></div></div></div><div class=\"sk-parallel\"><div class=\"sk-parallel-item\"><div class=\"sk-item\"><div class=\"sk-serial\"><div class=\"sk-item\"><div class=\"sk-serial\"><div class=\"sk-item sk-dashed-wrapped\"><div class=\"sk-label-container\"><div class=\"sk-label sk-toggleable\"><input class=\"sk-toggleable__control sk-hidden--visually\" id=\"20eae386-4e83-4098-9522-05c490335f74\" type=\"checkbox\" ><label for=\"20eae386-4e83-4098-9522-05c490335f74\" class=\"sk-toggleable__label sk-toggleable__label-arrow\">transformer: ColumnTransformer</label><div class=\"sk-toggleable__content\"><pre>ColumnTransformer(remainder=&#x27;passthrough&#x27;,\n",
       "                  transformers=[(&#x27;onehotencoder&#x27;,\n",
       "                                 OneHotEncoder(drop=&#x27;if_binary&#x27;),\n",
       "                                 [&#x27;dbl&#x27;, &#x27;category&#x27;, &#x27;complexity&#x27;, &#x27;scope&#x27;,\n",
       "                                  &#x27;type&#x27;]),\n",
       "                                (&#x27;binaryencoder&#x27;, BinaryEncoder(),\n",
       "                                 [&#x27;line&#x27;, &#x27;fit&#x27;, &#x27;viatech&#x27;, &#x27;ver&#x27;]),\n",
       "                                (&#x27;standardscaler&#x27;, StandardScaler(),\n",
       "                                 [&#x27;layno&#x27;, &#x27;comp&#x27;])])</pre></div></div></div><div class=\"sk-parallel\"><div class=\"sk-parallel-item\"><div class=\"sk-item\"><div class=\"sk-label-container\"><div class=\"sk-label sk-toggleable\"><input class=\"sk-toggleable__control sk-hidden--visually\" id=\"26b97954-1202-4f3b-90ab-dff0f0f1493b\" type=\"checkbox\" ><label for=\"26b97954-1202-4f3b-90ab-dff0f0f1493b\" class=\"sk-toggleable__label sk-toggleable__label-arrow\">onehotencoder</label><div class=\"sk-toggleable__content\"><pre>[&#x27;dbl&#x27;, &#x27;category&#x27;, &#x27;complexity&#x27;, &#x27;scope&#x27;, &#x27;type&#x27;]</pre></div></div></div><div class=\"sk-serial\"><div class=\"sk-item\"><div class=\"sk-estimator sk-toggleable\"><input class=\"sk-toggleable__control sk-hidden--visually\" id=\"eea59a4d-0fb6-4b77-8204-cbd3ecc1f7ab\" type=\"checkbox\" ><label for=\"eea59a4d-0fb6-4b77-8204-cbd3ecc1f7ab\" class=\"sk-toggleable__label sk-toggleable__label-arrow\">OneHotEncoder</label><div class=\"sk-toggleable__content\"><pre>OneHotEncoder(drop=&#x27;if_binary&#x27;)</pre></div></div></div></div></div></div><div class=\"sk-parallel-item\"><div class=\"sk-item\"><div class=\"sk-label-container\"><div class=\"sk-label sk-toggleable\"><input class=\"sk-toggleable__control sk-hidden--visually\" id=\"e394e817-278c-430c-9779-e3426ef9384e\" type=\"checkbox\" ><label for=\"e394e817-278c-430c-9779-e3426ef9384e\" class=\"sk-toggleable__label sk-toggleable__label-arrow\">binaryencoder</label><div class=\"sk-toggleable__content\"><pre>[&#x27;line&#x27;, &#x27;fit&#x27;, &#x27;viatech&#x27;, &#x27;ver&#x27;]</pre></div></div></div><div class=\"sk-serial\"><div class=\"sk-item\"><div class=\"sk-estimator sk-toggleable\"><input class=\"sk-toggleable__control sk-hidden--visually\" id=\"93bc4c11-46d6-45c3-8bb2-882de77981af\" type=\"checkbox\" ><label for=\"93bc4c11-46d6-45c3-8bb2-882de77981af\" class=\"sk-toggleable__label sk-toggleable__label-arrow\">BinaryEncoder</label><div class=\"sk-toggleable__content\"><pre>BinaryEncoder()</pre></div></div></div></div></div></div><div class=\"sk-parallel-item\"><div class=\"sk-item\"><div class=\"sk-label-container\"><div class=\"sk-label sk-toggleable\"><input class=\"sk-toggleable__control sk-hidden--visually\" id=\"f5e991cd-534d-4b5b-8c51-4db462a441b8\" type=\"checkbox\" ><label for=\"f5e991cd-534d-4b5b-8c51-4db462a441b8\" class=\"sk-toggleable__label sk-toggleable__label-arrow\">standardscaler</label><div class=\"sk-toggleable__content\"><pre>[&#x27;layno&#x27;, &#x27;comp&#x27;]</pre></div></div></div><div class=\"sk-serial\"><div class=\"sk-item\"><div class=\"sk-estimator sk-toggleable\"><input class=\"sk-toggleable__control sk-hidden--visually\" id=\"14850ab6-35d6-4df8-882b-8cda03f6e1dc\" type=\"checkbox\" ><label for=\"14850ab6-35d6-4df8-882b-8cda03f6e1dc\" class=\"sk-toggleable__label sk-toggleable__label-arrow\">StandardScaler</label><div class=\"sk-toggleable__content\"><pre>StandardScaler()</pre></div></div></div></div></div></div><div class=\"sk-parallel-item\"><div class=\"sk-item\"><div class=\"sk-label-container\"><div class=\"sk-label sk-toggleable\"><input class=\"sk-toggleable__control sk-hidden--visually\" id=\"b4f6c18e-909a-4619-8917-804b95efdd53\" type=\"checkbox\" ><label for=\"b4f6c18e-909a-4619-8917-804b95efdd53\" class=\"sk-toggleable__label sk-toggleable__label-arrow\">remainder</label><div class=\"sk-toggleable__content\"><pre>[]</pre></div></div></div><div class=\"sk-serial\"><div class=\"sk-item\"><div class=\"sk-estimator sk-toggleable\"><input class=\"sk-toggleable__control sk-hidden--visually\" id=\"ba1ba687-9f00-4839-a167-1ae5ef4fb202\" type=\"checkbox\" ><label for=\"ba1ba687-9f00-4839-a167-1ae5ef4fb202\" class=\"sk-toggleable__label sk-toggleable__label-arrow\">passthrough</label><div class=\"sk-toggleable__content\"><pre>passthrough</pre></div></div></div></div></div></div></div></div><div class=\"sk-item\"><div class=\"sk-estimator sk-toggleable\"><input class=\"sk-toggleable__control sk-hidden--visually\" id=\"d3863e5f-3a5c-43f9-8b17-ffbd1b19bbb0\" type=\"checkbox\" ><label for=\"d3863e5f-3a5c-43f9-8b17-ffbd1b19bbb0\" class=\"sk-toggleable__label sk-toggleable__label-arrow\">Ridge</label><div class=\"sk-toggleable__content\"><pre>Ridge(random_state=10)</pre></div></div></div></div></div></div></div></div></div></div></div></div>"
      ],
      "text/plain": [
       "GridSearchCV(estimator=Pipeline(steps=[('transformer',\n",
       "                                        ColumnTransformer(remainder='passthrough',\n",
       "                                                          transformers=[('onehotencoder',\n",
       "                                                                         OneHotEncoder(drop='if_binary'),\n",
       "                                                                         ['dbl',\n",
       "                                                                          'category',\n",
       "                                                                          'complexity',\n",
       "                                                                          'scope',\n",
       "                                                                          'type']),\n",
       "                                                                        ('binaryencoder',\n",
       "                                                                         BinaryEncoder(),\n",
       "                                                                         ['line',\n",
       "                                                                          'fit',\n",
       "                                                                          'viatech',\n",
       "                                                                          'ver']),\n",
       "                                                                        ('standardscaler',\n",
       "                                                                         StandardScaler(),\n",
       "                                                                         ['layno',\n",
       "                                                                          'comp'])])),\n",
       "                                       ('model', Ridge(random_state=10))]),\n",
       "             param_grid={'model__alpha': array([1.00000000e+00, 1.29154967e+01, 1.66810054e+02, 2.15443469e+03,\n",
       "       2.78255940e+04, 3.59381366e+05, 4.64158883e+06, 5.99484250e+07,\n",
       "       7.74263683e+08, 1.00000000e+10]),\n",
       "                         'model__random_state': range(1, 42)})"
      ]
     },
     "execution_count": 61,
     "metadata": {},
     "output_type": "execute_result"
    }
   ],
   "source": [
    "#grid for pipe2\n",
    "param2 = {'model__alpha': np.logspace(0, 10, 10), 'model__random_state': range(1, 42, 1)}\n",
    "grid2 = GridSearchCV(pipe2, param2)\n",
    "grid2.fit(X_train, y_train)"
   ]
  },
  {
   "cell_type": "code",
   "execution_count": 62,
   "id": "35bbef86",
   "metadata": {},
   "outputs": [
    {
     "name": "stdout",
     "output_type": "stream",
     "text": [
      "Grid2 Train MAE: 17.65\n",
      "Grid2 Test MAE: 17.77\n",
      "Best parameter: {'model__alpha': 12.91549665014884, 'model__random_state': 1}\n",
      "Best score: 0.20576592914848052\n"
     ]
    }
   ],
   "source": [
    "pred_train_grid2 = grid2.predict(X_train)\n",
    "pred_test_grid2 = grid2.predict(X_test)\n",
    "grid2_train_mae = median_absolute_error(y_train, pred_train_grid2)\n",
    "grid2_test_mae = median_absolute_error(y_test, pred_test_grid2)\n",
    "print(f'Grid2 Train MAE: {round(grid2_train_mae, 2)}')\n",
    "print(f'Grid2 Test MAE: {round(grid2_test_mae, 2)}')\n",
    "print(f'Best parameter: {grid2.best_params_}')\n",
    "print(f'Best score: {grid2.best_score_}')\n",
    "values.append(['Grid_Ridge', grid2_train_mae, grid2_test_mae,grid2.best_score_])"
   ]
  },
  {
   "cell_type": "code",
   "execution_count": 63,
   "id": "fb57e6e3",
   "metadata": {},
   "outputs": [
    {
     "data": {
      "text/html": [
       "<style>#sk-1c481698-0b05-4d41-a07d-abc04f620cac {color: black;background-color: white;}#sk-1c481698-0b05-4d41-a07d-abc04f620cac pre{padding: 0;}#sk-1c481698-0b05-4d41-a07d-abc04f620cac div.sk-toggleable {background-color: white;}#sk-1c481698-0b05-4d41-a07d-abc04f620cac label.sk-toggleable__label {cursor: pointer;display: block;width: 100%;margin-bottom: 0;padding: 0.3em;box-sizing: border-box;text-align: center;}#sk-1c481698-0b05-4d41-a07d-abc04f620cac label.sk-toggleable__label-arrow:before {content: \"▸\";float: left;margin-right: 0.25em;color: #696969;}#sk-1c481698-0b05-4d41-a07d-abc04f620cac label.sk-toggleable__label-arrow:hover:before {color: black;}#sk-1c481698-0b05-4d41-a07d-abc04f620cac div.sk-estimator:hover label.sk-toggleable__label-arrow:before {color: black;}#sk-1c481698-0b05-4d41-a07d-abc04f620cac div.sk-toggleable__content {max-height: 0;max-width: 0;overflow: hidden;text-align: left;background-color: #f0f8ff;}#sk-1c481698-0b05-4d41-a07d-abc04f620cac div.sk-toggleable__content pre {margin: 0.2em;color: black;border-radius: 0.25em;background-color: #f0f8ff;}#sk-1c481698-0b05-4d41-a07d-abc04f620cac input.sk-toggleable__control:checked~div.sk-toggleable__content {max-height: 200px;max-width: 100%;overflow: auto;}#sk-1c481698-0b05-4d41-a07d-abc04f620cac input.sk-toggleable__control:checked~label.sk-toggleable__label-arrow:before {content: \"▾\";}#sk-1c481698-0b05-4d41-a07d-abc04f620cac div.sk-estimator input.sk-toggleable__control:checked~label.sk-toggleable__label {background-color: #d4ebff;}#sk-1c481698-0b05-4d41-a07d-abc04f620cac div.sk-label input.sk-toggleable__control:checked~label.sk-toggleable__label {background-color: #d4ebff;}#sk-1c481698-0b05-4d41-a07d-abc04f620cac input.sk-hidden--visually {border: 0;clip: rect(1px 1px 1px 1px);clip: rect(1px, 1px, 1px, 1px);height: 1px;margin: -1px;overflow: hidden;padding: 0;position: absolute;width: 1px;}#sk-1c481698-0b05-4d41-a07d-abc04f620cac div.sk-estimator {font-family: monospace;background-color: #f0f8ff;border: 1px dotted black;border-radius: 0.25em;box-sizing: border-box;margin-bottom: 0.5em;}#sk-1c481698-0b05-4d41-a07d-abc04f620cac div.sk-estimator:hover {background-color: #d4ebff;}#sk-1c481698-0b05-4d41-a07d-abc04f620cac div.sk-parallel-item::after {content: \"\";width: 100%;border-bottom: 1px solid gray;flex-grow: 1;}#sk-1c481698-0b05-4d41-a07d-abc04f620cac div.sk-label:hover label.sk-toggleable__label {background-color: #d4ebff;}#sk-1c481698-0b05-4d41-a07d-abc04f620cac div.sk-serial::before {content: \"\";position: absolute;border-left: 1px solid gray;box-sizing: border-box;top: 2em;bottom: 0;left: 50%;}#sk-1c481698-0b05-4d41-a07d-abc04f620cac div.sk-serial {display: flex;flex-direction: column;align-items: center;background-color: white;padding-right: 0.2em;padding-left: 0.2em;}#sk-1c481698-0b05-4d41-a07d-abc04f620cac div.sk-item {z-index: 1;}#sk-1c481698-0b05-4d41-a07d-abc04f620cac div.sk-parallel {display: flex;align-items: stretch;justify-content: center;background-color: white;}#sk-1c481698-0b05-4d41-a07d-abc04f620cac div.sk-parallel::before {content: \"\";position: absolute;border-left: 1px solid gray;box-sizing: border-box;top: 2em;bottom: 0;left: 50%;}#sk-1c481698-0b05-4d41-a07d-abc04f620cac div.sk-parallel-item {display: flex;flex-direction: column;position: relative;background-color: white;}#sk-1c481698-0b05-4d41-a07d-abc04f620cac div.sk-parallel-item:first-child::after {align-self: flex-end;width: 50%;}#sk-1c481698-0b05-4d41-a07d-abc04f620cac div.sk-parallel-item:last-child::after {align-self: flex-start;width: 50%;}#sk-1c481698-0b05-4d41-a07d-abc04f620cac div.sk-parallel-item:only-child::after {width: 0;}#sk-1c481698-0b05-4d41-a07d-abc04f620cac div.sk-dashed-wrapped {border: 1px dashed gray;margin: 0 0.4em 0.5em 0.4em;box-sizing: border-box;padding-bottom: 0.4em;background-color: white;position: relative;}#sk-1c481698-0b05-4d41-a07d-abc04f620cac div.sk-label label {font-family: monospace;font-weight: bold;background-color: white;display: inline-block;line-height: 1.2em;}#sk-1c481698-0b05-4d41-a07d-abc04f620cac div.sk-label-container {position: relative;z-index: 2;text-align: center;}#sk-1c481698-0b05-4d41-a07d-abc04f620cac div.sk-container {/* jupyter's `normalize.less` sets `[hidden] { display: none; }` but bootstrap.min.css set `[hidden] { display: none !important; }` so we also need the `!important` here to be able to override the default hidden behavior on the sphinx rendered scikit-learn.org. See: https://github.com/scikit-learn/scikit-learn/issues/21755 */display: inline-block !important;position: relative;}#sk-1c481698-0b05-4d41-a07d-abc04f620cac div.sk-text-repr-fallback {display: none;}</style><div id=\"sk-1c481698-0b05-4d41-a07d-abc04f620cac\" class=\"sk-top-container\"><div class=\"sk-text-repr-fallback\"><pre>GridSearchCV(estimator=Pipeline(steps=[(&#x27;transformer&#x27;,\n",
       "                                        ColumnTransformer(remainder=&#x27;passthrough&#x27;,\n",
       "                                                          transformers=[(&#x27;onehotencoder&#x27;,\n",
       "                                                                         OneHotEncoder(drop=&#x27;if_binary&#x27;),\n",
       "                                                                         [&#x27;dbl&#x27;,\n",
       "                                                                          &#x27;category&#x27;,\n",
       "                                                                          &#x27;complexity&#x27;,\n",
       "                                                                          &#x27;scope&#x27;,\n",
       "                                                                          &#x27;type&#x27;]),\n",
       "                                                                        (&#x27;binaryencoder&#x27;,\n",
       "                                                                         BinaryEncoder(),\n",
       "                                                                         [&#x27;line&#x27;,\n",
       "                                                                          &#x27;fit&#x27;,\n",
       "                                                                          &#x27;viatech&#x27;,\n",
       "                                                                          &#x27;ver&#x27;]),\n",
       "                                                                        (&#x27;standardscaler&#x27;,\n",
       "                                                                         StandardScaler(),\n",
       "                                                                         [&#x27;layno&#x27;,\n",
       "                                                                          &#x27;comp&#x27;])])),\n",
       "                                       (&#x27;model&#x27;, Lasso(random_state=10))]),\n",
       "             param_grid={&#x27;model__alpha&#x27;: array([1.00000000e+00, 1.29154967e+01, 1.66810054e+02, 2.15443469e+03,\n",
       "       2.78255940e+04, 3.59381366e+05, 4.64158883e+06, 5.99484250e+07,\n",
       "       7.74263683e+08, 1.00000000e+10]),\n",
       "                         &#x27;model__random_state&#x27;: range(1, 42)})</pre><b>Please rerun this cell to show the HTML repr or trust the notebook.</b></div><div class=\"sk-container\" hidden><div class=\"sk-item sk-dashed-wrapped\"><div class=\"sk-label-container\"><div class=\"sk-label sk-toggleable\"><input class=\"sk-toggleable__control sk-hidden--visually\" id=\"d3003496-84ff-4cb5-a8a6-85a6dd5c0c08\" type=\"checkbox\" ><label for=\"d3003496-84ff-4cb5-a8a6-85a6dd5c0c08\" class=\"sk-toggleable__label sk-toggleable__label-arrow\">GridSearchCV</label><div class=\"sk-toggleable__content\"><pre>GridSearchCV(estimator=Pipeline(steps=[(&#x27;transformer&#x27;,\n",
       "                                        ColumnTransformer(remainder=&#x27;passthrough&#x27;,\n",
       "                                                          transformers=[(&#x27;onehotencoder&#x27;,\n",
       "                                                                         OneHotEncoder(drop=&#x27;if_binary&#x27;),\n",
       "                                                                         [&#x27;dbl&#x27;,\n",
       "                                                                          &#x27;category&#x27;,\n",
       "                                                                          &#x27;complexity&#x27;,\n",
       "                                                                          &#x27;scope&#x27;,\n",
       "                                                                          &#x27;type&#x27;]),\n",
       "                                                                        (&#x27;binaryencoder&#x27;,\n",
       "                                                                         BinaryEncoder(),\n",
       "                                                                         [&#x27;line&#x27;,\n",
       "                                                                          &#x27;fit&#x27;,\n",
       "                                                                          &#x27;viatech&#x27;,\n",
       "                                                                          &#x27;ver&#x27;]),\n",
       "                                                                        (&#x27;standardscaler&#x27;,\n",
       "                                                                         StandardScaler(),\n",
       "                                                                         [&#x27;layno&#x27;,\n",
       "                                                                          &#x27;comp&#x27;])])),\n",
       "                                       (&#x27;model&#x27;, Lasso(random_state=10))]),\n",
       "             param_grid={&#x27;model__alpha&#x27;: array([1.00000000e+00, 1.29154967e+01, 1.66810054e+02, 2.15443469e+03,\n",
       "       2.78255940e+04, 3.59381366e+05, 4.64158883e+06, 5.99484250e+07,\n",
       "       7.74263683e+08, 1.00000000e+10]),\n",
       "                         &#x27;model__random_state&#x27;: range(1, 42)})</pre></div></div></div><div class=\"sk-parallel\"><div class=\"sk-parallel-item\"><div class=\"sk-item\"><div class=\"sk-serial\"><div class=\"sk-item\"><div class=\"sk-serial\"><div class=\"sk-item sk-dashed-wrapped\"><div class=\"sk-label-container\"><div class=\"sk-label sk-toggleable\"><input class=\"sk-toggleable__control sk-hidden--visually\" id=\"58f4ef32-84fd-4c99-bcd4-2c2ea3fe1394\" type=\"checkbox\" ><label for=\"58f4ef32-84fd-4c99-bcd4-2c2ea3fe1394\" class=\"sk-toggleable__label sk-toggleable__label-arrow\">transformer: ColumnTransformer</label><div class=\"sk-toggleable__content\"><pre>ColumnTransformer(remainder=&#x27;passthrough&#x27;,\n",
       "                  transformers=[(&#x27;onehotencoder&#x27;,\n",
       "                                 OneHotEncoder(drop=&#x27;if_binary&#x27;),\n",
       "                                 [&#x27;dbl&#x27;, &#x27;category&#x27;, &#x27;complexity&#x27;, &#x27;scope&#x27;,\n",
       "                                  &#x27;type&#x27;]),\n",
       "                                (&#x27;binaryencoder&#x27;, BinaryEncoder(),\n",
       "                                 [&#x27;line&#x27;, &#x27;fit&#x27;, &#x27;viatech&#x27;, &#x27;ver&#x27;]),\n",
       "                                (&#x27;standardscaler&#x27;, StandardScaler(),\n",
       "                                 [&#x27;layno&#x27;, &#x27;comp&#x27;])])</pre></div></div></div><div class=\"sk-parallel\"><div class=\"sk-parallel-item\"><div class=\"sk-item\"><div class=\"sk-label-container\"><div class=\"sk-label sk-toggleable\"><input class=\"sk-toggleable__control sk-hidden--visually\" id=\"3a23e643-8522-45b1-8777-c315fc94d604\" type=\"checkbox\" ><label for=\"3a23e643-8522-45b1-8777-c315fc94d604\" class=\"sk-toggleable__label sk-toggleable__label-arrow\">onehotencoder</label><div class=\"sk-toggleable__content\"><pre>[&#x27;dbl&#x27;, &#x27;category&#x27;, &#x27;complexity&#x27;, &#x27;scope&#x27;, &#x27;type&#x27;]</pre></div></div></div><div class=\"sk-serial\"><div class=\"sk-item\"><div class=\"sk-estimator sk-toggleable\"><input class=\"sk-toggleable__control sk-hidden--visually\" id=\"377140f3-1157-4274-9d66-1d2cec9fb99a\" type=\"checkbox\" ><label for=\"377140f3-1157-4274-9d66-1d2cec9fb99a\" class=\"sk-toggleable__label sk-toggleable__label-arrow\">OneHotEncoder</label><div class=\"sk-toggleable__content\"><pre>OneHotEncoder(drop=&#x27;if_binary&#x27;)</pre></div></div></div></div></div></div><div class=\"sk-parallel-item\"><div class=\"sk-item\"><div class=\"sk-label-container\"><div class=\"sk-label sk-toggleable\"><input class=\"sk-toggleable__control sk-hidden--visually\" id=\"2d4607a8-e02f-470f-9410-1c65656b7861\" type=\"checkbox\" ><label for=\"2d4607a8-e02f-470f-9410-1c65656b7861\" class=\"sk-toggleable__label sk-toggleable__label-arrow\">binaryencoder</label><div class=\"sk-toggleable__content\"><pre>[&#x27;line&#x27;, &#x27;fit&#x27;, &#x27;viatech&#x27;, &#x27;ver&#x27;]</pre></div></div></div><div class=\"sk-serial\"><div class=\"sk-item\"><div class=\"sk-estimator sk-toggleable\"><input class=\"sk-toggleable__control sk-hidden--visually\" id=\"4a5ba183-2d92-4ce4-b753-35ff4db57755\" type=\"checkbox\" ><label for=\"4a5ba183-2d92-4ce4-b753-35ff4db57755\" class=\"sk-toggleable__label sk-toggleable__label-arrow\">BinaryEncoder</label><div class=\"sk-toggleable__content\"><pre>BinaryEncoder()</pre></div></div></div></div></div></div><div class=\"sk-parallel-item\"><div class=\"sk-item\"><div class=\"sk-label-container\"><div class=\"sk-label sk-toggleable\"><input class=\"sk-toggleable__control sk-hidden--visually\" id=\"ac45d5fd-8d80-49eb-b95e-2ffc31029972\" type=\"checkbox\" ><label for=\"ac45d5fd-8d80-49eb-b95e-2ffc31029972\" class=\"sk-toggleable__label sk-toggleable__label-arrow\">standardscaler</label><div class=\"sk-toggleable__content\"><pre>[&#x27;layno&#x27;, &#x27;comp&#x27;]</pre></div></div></div><div class=\"sk-serial\"><div class=\"sk-item\"><div class=\"sk-estimator sk-toggleable\"><input class=\"sk-toggleable__control sk-hidden--visually\" id=\"4239fe61-1104-43b2-9f5b-52543bd20569\" type=\"checkbox\" ><label for=\"4239fe61-1104-43b2-9f5b-52543bd20569\" class=\"sk-toggleable__label sk-toggleable__label-arrow\">StandardScaler</label><div class=\"sk-toggleable__content\"><pre>StandardScaler()</pre></div></div></div></div></div></div><div class=\"sk-parallel-item\"><div class=\"sk-item\"><div class=\"sk-label-container\"><div class=\"sk-label sk-toggleable\"><input class=\"sk-toggleable__control sk-hidden--visually\" id=\"744a42e8-b6ee-4136-b1b8-fbac94391a02\" type=\"checkbox\" ><label for=\"744a42e8-b6ee-4136-b1b8-fbac94391a02\" class=\"sk-toggleable__label sk-toggleable__label-arrow\">remainder</label><div class=\"sk-toggleable__content\"><pre>[]</pre></div></div></div><div class=\"sk-serial\"><div class=\"sk-item\"><div class=\"sk-estimator sk-toggleable\"><input class=\"sk-toggleable__control sk-hidden--visually\" id=\"07ce87bc-6e1a-42f5-8214-847ddca9108a\" type=\"checkbox\" ><label for=\"07ce87bc-6e1a-42f5-8214-847ddca9108a\" class=\"sk-toggleable__label sk-toggleable__label-arrow\">passthrough</label><div class=\"sk-toggleable__content\"><pre>passthrough</pre></div></div></div></div></div></div></div></div><div class=\"sk-item\"><div class=\"sk-estimator sk-toggleable\"><input class=\"sk-toggleable__control sk-hidden--visually\" id=\"06417d70-65ee-4f7b-9b7a-0509fb4461fe\" type=\"checkbox\" ><label for=\"06417d70-65ee-4f7b-9b7a-0509fb4461fe\" class=\"sk-toggleable__label sk-toggleable__label-arrow\">Lasso</label><div class=\"sk-toggleable__content\"><pre>Lasso(random_state=10)</pre></div></div></div></div></div></div></div></div></div></div></div></div>"
      ],
      "text/plain": [
       "GridSearchCV(estimator=Pipeline(steps=[('transformer',\n",
       "                                        ColumnTransformer(remainder='passthrough',\n",
       "                                                          transformers=[('onehotencoder',\n",
       "                                                                         OneHotEncoder(drop='if_binary'),\n",
       "                                                                         ['dbl',\n",
       "                                                                          'category',\n",
       "                                                                          'complexity',\n",
       "                                                                          'scope',\n",
       "                                                                          'type']),\n",
       "                                                                        ('binaryencoder',\n",
       "                                                                         BinaryEncoder(),\n",
       "                                                                         ['line',\n",
       "                                                                          'fit',\n",
       "                                                                          'viatech',\n",
       "                                                                          'ver']),\n",
       "                                                                        ('standardscaler',\n",
       "                                                                         StandardScaler(),\n",
       "                                                                         ['layno',\n",
       "                                                                          'comp'])])),\n",
       "                                       ('model', Lasso(random_state=10))]),\n",
       "             param_grid={'model__alpha': array([1.00000000e+00, 1.29154967e+01, 1.66810054e+02, 2.15443469e+03,\n",
       "       2.78255940e+04, 3.59381366e+05, 4.64158883e+06, 5.99484250e+07,\n",
       "       7.74263683e+08, 1.00000000e+10]),\n",
       "                         'model__random_state': range(1, 42)})"
      ]
     },
     "execution_count": 63,
     "metadata": {},
     "output_type": "execute_result"
    }
   ],
   "source": [
    "#grid for pipe3\n",
    "param3 = {'model__alpha': np.logspace(0, 10, 10), 'model__random_state': range(1, 42, 1)}\n",
    "grid3 = GridSearchCV(pipe3, param3)\n",
    "grid3.fit(X_train, y_train)"
   ]
  },
  {
   "cell_type": "code",
   "execution_count": 64,
   "id": "8f39e295",
   "metadata": {},
   "outputs": [
    {
     "name": "stdout",
     "output_type": "stream",
     "text": [
      "Grid3 Train MAE: 19.28\n",
      "Grid3 Test MAE: 19.19\n",
      "Best parameter: {'model__alpha': 1.0, 'model__random_state': 1}\n",
      "Best score: 0.1896144869352531\n"
     ]
    }
   ],
   "source": [
    "pred_train_grid3 = grid3.predict(X_train)\n",
    "pred_test_grid3 = grid3.predict(X_test)\n",
    "grid3_train_mae = median_absolute_error(y_train, pred_train_grid3)\n",
    "grid3_test_mae = median_absolute_error(y_test, pred_test_grid3)\n",
    "print(f'Grid3 Train MAE: {round(grid3_train_mae, 2)}')\n",
    "print(f'Grid3 Test MAE: {round(grid3_test_mae, 2)}')\n",
    "print(f'Best parameter: {grid3.best_params_}')\n",
    "print(f'Best score: {grid3.best_score_}')\n",
    "values.append(['Grid_Lasso', grid3_train_mae, grid3_test_mae,grid3.best_score_])"
   ]
  },
  {
   "cell_type": "code",
   "execution_count": 65,
   "id": "d3ebdca3",
   "metadata": {},
   "outputs": [
    {
     "data": {
      "text/html": [
       "<style>#sk-bd7bf550-2088-4deb-943a-86cce8420f33 {color: black;background-color: white;}#sk-bd7bf550-2088-4deb-943a-86cce8420f33 pre{padding: 0;}#sk-bd7bf550-2088-4deb-943a-86cce8420f33 div.sk-toggleable {background-color: white;}#sk-bd7bf550-2088-4deb-943a-86cce8420f33 label.sk-toggleable__label {cursor: pointer;display: block;width: 100%;margin-bottom: 0;padding: 0.3em;box-sizing: border-box;text-align: center;}#sk-bd7bf550-2088-4deb-943a-86cce8420f33 label.sk-toggleable__label-arrow:before {content: \"▸\";float: left;margin-right: 0.25em;color: #696969;}#sk-bd7bf550-2088-4deb-943a-86cce8420f33 label.sk-toggleable__label-arrow:hover:before {color: black;}#sk-bd7bf550-2088-4deb-943a-86cce8420f33 div.sk-estimator:hover label.sk-toggleable__label-arrow:before {color: black;}#sk-bd7bf550-2088-4deb-943a-86cce8420f33 div.sk-toggleable__content {max-height: 0;max-width: 0;overflow: hidden;text-align: left;background-color: #f0f8ff;}#sk-bd7bf550-2088-4deb-943a-86cce8420f33 div.sk-toggleable__content pre {margin: 0.2em;color: black;border-radius: 0.25em;background-color: #f0f8ff;}#sk-bd7bf550-2088-4deb-943a-86cce8420f33 input.sk-toggleable__control:checked~div.sk-toggleable__content {max-height: 200px;max-width: 100%;overflow: auto;}#sk-bd7bf550-2088-4deb-943a-86cce8420f33 input.sk-toggleable__control:checked~label.sk-toggleable__label-arrow:before {content: \"▾\";}#sk-bd7bf550-2088-4deb-943a-86cce8420f33 div.sk-estimator input.sk-toggleable__control:checked~label.sk-toggleable__label {background-color: #d4ebff;}#sk-bd7bf550-2088-4deb-943a-86cce8420f33 div.sk-label input.sk-toggleable__control:checked~label.sk-toggleable__label {background-color: #d4ebff;}#sk-bd7bf550-2088-4deb-943a-86cce8420f33 input.sk-hidden--visually {border: 0;clip: rect(1px 1px 1px 1px);clip: rect(1px, 1px, 1px, 1px);height: 1px;margin: -1px;overflow: hidden;padding: 0;position: absolute;width: 1px;}#sk-bd7bf550-2088-4deb-943a-86cce8420f33 div.sk-estimator {font-family: monospace;background-color: #f0f8ff;border: 1px dotted black;border-radius: 0.25em;box-sizing: border-box;margin-bottom: 0.5em;}#sk-bd7bf550-2088-4deb-943a-86cce8420f33 div.sk-estimator:hover {background-color: #d4ebff;}#sk-bd7bf550-2088-4deb-943a-86cce8420f33 div.sk-parallel-item::after {content: \"\";width: 100%;border-bottom: 1px solid gray;flex-grow: 1;}#sk-bd7bf550-2088-4deb-943a-86cce8420f33 div.sk-label:hover label.sk-toggleable__label {background-color: #d4ebff;}#sk-bd7bf550-2088-4deb-943a-86cce8420f33 div.sk-serial::before {content: \"\";position: absolute;border-left: 1px solid gray;box-sizing: border-box;top: 2em;bottom: 0;left: 50%;}#sk-bd7bf550-2088-4deb-943a-86cce8420f33 div.sk-serial {display: flex;flex-direction: column;align-items: center;background-color: white;padding-right: 0.2em;padding-left: 0.2em;}#sk-bd7bf550-2088-4deb-943a-86cce8420f33 div.sk-item {z-index: 1;}#sk-bd7bf550-2088-4deb-943a-86cce8420f33 div.sk-parallel {display: flex;align-items: stretch;justify-content: center;background-color: white;}#sk-bd7bf550-2088-4deb-943a-86cce8420f33 div.sk-parallel::before {content: \"\";position: absolute;border-left: 1px solid gray;box-sizing: border-box;top: 2em;bottom: 0;left: 50%;}#sk-bd7bf550-2088-4deb-943a-86cce8420f33 div.sk-parallel-item {display: flex;flex-direction: column;position: relative;background-color: white;}#sk-bd7bf550-2088-4deb-943a-86cce8420f33 div.sk-parallel-item:first-child::after {align-self: flex-end;width: 50%;}#sk-bd7bf550-2088-4deb-943a-86cce8420f33 div.sk-parallel-item:last-child::after {align-self: flex-start;width: 50%;}#sk-bd7bf550-2088-4deb-943a-86cce8420f33 div.sk-parallel-item:only-child::after {width: 0;}#sk-bd7bf550-2088-4deb-943a-86cce8420f33 div.sk-dashed-wrapped {border: 1px dashed gray;margin: 0 0.4em 0.5em 0.4em;box-sizing: border-box;padding-bottom: 0.4em;background-color: white;position: relative;}#sk-bd7bf550-2088-4deb-943a-86cce8420f33 div.sk-label label {font-family: monospace;font-weight: bold;background-color: white;display: inline-block;line-height: 1.2em;}#sk-bd7bf550-2088-4deb-943a-86cce8420f33 div.sk-label-container {position: relative;z-index: 2;text-align: center;}#sk-bd7bf550-2088-4deb-943a-86cce8420f33 div.sk-container {/* jupyter's `normalize.less` sets `[hidden] { display: none; }` but bootstrap.min.css set `[hidden] { display: none !important; }` so we also need the `!important` here to be able to override the default hidden behavior on the sphinx rendered scikit-learn.org. See: https://github.com/scikit-learn/scikit-learn/issues/21755 */display: inline-block !important;position: relative;}#sk-bd7bf550-2088-4deb-943a-86cce8420f33 div.sk-text-repr-fallback {display: none;}</style><div id=\"sk-bd7bf550-2088-4deb-943a-86cce8420f33\" class=\"sk-top-container\"><div class=\"sk-text-repr-fallback\"><pre>GridSearchCV(estimator=Pipeline(steps=[(&#x27;transformer&#x27;,\n",
       "                                        ColumnTransformer(remainder=&#x27;passthrough&#x27;,\n",
       "                                                          transformers=[(&#x27;onehotencoder&#x27;,\n",
       "                                                                         OneHotEncoder(drop=&#x27;if_binary&#x27;),\n",
       "                                                                         [&#x27;dbl&#x27;,\n",
       "                                                                          &#x27;category&#x27;,\n",
       "                                                                          &#x27;complexity&#x27;,\n",
       "                                                                          &#x27;scope&#x27;,\n",
       "                                                                          &#x27;type&#x27;]),\n",
       "                                                                        (&#x27;binaryencoder&#x27;,\n",
       "                                                                         BinaryEncoder(),\n",
       "                                                                         [&#x27;line&#x27;,\n",
       "                                                                          &#x27;fit&#x27;,\n",
       "                                                                          &#x27;viatech&#x27;,\n",
       "                                                                          &#x27;ver&#x27;]),\n",
       "                                                                        (&#x27;standardscaler&#x27;,\n",
       "                                                                         StandardScaler(),\n",
       "                                                                         [&#x27;layno&#x27;,\n",
       "                                                                          &#x27;comp&#x27;])])),\n",
       "                                       (&#x27;model&#x27;,\n",
       "                                        TransformedTargetRegressor(func=&lt;ufunc &#x27;log&#x27;&gt;,\n",
       "                                                                   inverse_func=&lt;ufunc &#x27;exp&#x27;&gt;,\n",
       "                                                                   regressor=Ridge()))]),\n",
       "             param_grid={&#x27;model__regressor__alpha&#x27;: array([1.00000000e+00, 1.29154967e+01, 1.66810054e+02, 2.15443469e+03,\n",
       "       2.78255940e+04, 3.59381366e+05, 4.64158883e+06, 5.99484250e+07,\n",
       "       7.74263683e+08, 1.00000000e+10])})</pre><b>Please rerun this cell to show the HTML repr or trust the notebook.</b></div><div class=\"sk-container\" hidden><div class=\"sk-item sk-dashed-wrapped\"><div class=\"sk-label-container\"><div class=\"sk-label sk-toggleable\"><input class=\"sk-toggleable__control sk-hidden--visually\" id=\"bd0daf57-aff9-41e3-9639-6f2e4e51971a\" type=\"checkbox\" ><label for=\"bd0daf57-aff9-41e3-9639-6f2e4e51971a\" class=\"sk-toggleable__label sk-toggleable__label-arrow\">GridSearchCV</label><div class=\"sk-toggleable__content\"><pre>GridSearchCV(estimator=Pipeline(steps=[(&#x27;transformer&#x27;,\n",
       "                                        ColumnTransformer(remainder=&#x27;passthrough&#x27;,\n",
       "                                                          transformers=[(&#x27;onehotencoder&#x27;,\n",
       "                                                                         OneHotEncoder(drop=&#x27;if_binary&#x27;),\n",
       "                                                                         [&#x27;dbl&#x27;,\n",
       "                                                                          &#x27;category&#x27;,\n",
       "                                                                          &#x27;complexity&#x27;,\n",
       "                                                                          &#x27;scope&#x27;,\n",
       "                                                                          &#x27;type&#x27;]),\n",
       "                                                                        (&#x27;binaryencoder&#x27;,\n",
       "                                                                         BinaryEncoder(),\n",
       "                                                                         [&#x27;line&#x27;,\n",
       "                                                                          &#x27;fit&#x27;,\n",
       "                                                                          &#x27;viatech&#x27;,\n",
       "                                                                          &#x27;ver&#x27;]),\n",
       "                                                                        (&#x27;standardscaler&#x27;,\n",
       "                                                                         StandardScaler(),\n",
       "                                                                         [&#x27;layno&#x27;,\n",
       "                                                                          &#x27;comp&#x27;])])),\n",
       "                                       (&#x27;model&#x27;,\n",
       "                                        TransformedTargetRegressor(func=&lt;ufunc &#x27;log&#x27;&gt;,\n",
       "                                                                   inverse_func=&lt;ufunc &#x27;exp&#x27;&gt;,\n",
       "                                                                   regressor=Ridge()))]),\n",
       "             param_grid={&#x27;model__regressor__alpha&#x27;: array([1.00000000e+00, 1.29154967e+01, 1.66810054e+02, 2.15443469e+03,\n",
       "       2.78255940e+04, 3.59381366e+05, 4.64158883e+06, 5.99484250e+07,\n",
       "       7.74263683e+08, 1.00000000e+10])})</pre></div></div></div><div class=\"sk-parallel\"><div class=\"sk-parallel-item\"><div class=\"sk-item\"><div class=\"sk-serial\"><div class=\"sk-item\"><div class=\"sk-serial\"><div class=\"sk-item sk-dashed-wrapped\"><div class=\"sk-label-container\"><div class=\"sk-label sk-toggleable\"><input class=\"sk-toggleable__control sk-hidden--visually\" id=\"276e7ec7-ecda-42e5-b895-cf8b7d9a61be\" type=\"checkbox\" ><label for=\"276e7ec7-ecda-42e5-b895-cf8b7d9a61be\" class=\"sk-toggleable__label sk-toggleable__label-arrow\">transformer: ColumnTransformer</label><div class=\"sk-toggleable__content\"><pre>ColumnTransformer(remainder=&#x27;passthrough&#x27;,\n",
       "                  transformers=[(&#x27;onehotencoder&#x27;,\n",
       "                                 OneHotEncoder(drop=&#x27;if_binary&#x27;),\n",
       "                                 [&#x27;dbl&#x27;, &#x27;category&#x27;, &#x27;complexity&#x27;, &#x27;scope&#x27;,\n",
       "                                  &#x27;type&#x27;]),\n",
       "                                (&#x27;binaryencoder&#x27;, BinaryEncoder(),\n",
       "                                 [&#x27;line&#x27;, &#x27;fit&#x27;, &#x27;viatech&#x27;, &#x27;ver&#x27;]),\n",
       "                                (&#x27;standardscaler&#x27;, StandardScaler(),\n",
       "                                 [&#x27;layno&#x27;, &#x27;comp&#x27;])])</pre></div></div></div><div class=\"sk-parallel\"><div class=\"sk-parallel-item\"><div class=\"sk-item\"><div class=\"sk-label-container\"><div class=\"sk-label sk-toggleable\"><input class=\"sk-toggleable__control sk-hidden--visually\" id=\"b642e3e3-cf54-417b-9f68-2a7edb5c9388\" type=\"checkbox\" ><label for=\"b642e3e3-cf54-417b-9f68-2a7edb5c9388\" class=\"sk-toggleable__label sk-toggleable__label-arrow\">onehotencoder</label><div class=\"sk-toggleable__content\"><pre>[&#x27;dbl&#x27;, &#x27;category&#x27;, &#x27;complexity&#x27;, &#x27;scope&#x27;, &#x27;type&#x27;]</pre></div></div></div><div class=\"sk-serial\"><div class=\"sk-item\"><div class=\"sk-estimator sk-toggleable\"><input class=\"sk-toggleable__control sk-hidden--visually\" id=\"acf8ce3d-166b-4ea1-8c58-c3d34f042f6b\" type=\"checkbox\" ><label for=\"acf8ce3d-166b-4ea1-8c58-c3d34f042f6b\" class=\"sk-toggleable__label sk-toggleable__label-arrow\">OneHotEncoder</label><div class=\"sk-toggleable__content\"><pre>OneHotEncoder(drop=&#x27;if_binary&#x27;)</pre></div></div></div></div></div></div><div class=\"sk-parallel-item\"><div class=\"sk-item\"><div class=\"sk-label-container\"><div class=\"sk-label sk-toggleable\"><input class=\"sk-toggleable__control sk-hidden--visually\" id=\"41e5a714-3d54-476a-956d-eb190acc412e\" type=\"checkbox\" ><label for=\"41e5a714-3d54-476a-956d-eb190acc412e\" class=\"sk-toggleable__label sk-toggleable__label-arrow\">binaryencoder</label><div class=\"sk-toggleable__content\"><pre>[&#x27;line&#x27;, &#x27;fit&#x27;, &#x27;viatech&#x27;, &#x27;ver&#x27;]</pre></div></div></div><div class=\"sk-serial\"><div class=\"sk-item\"><div class=\"sk-estimator sk-toggleable\"><input class=\"sk-toggleable__control sk-hidden--visually\" id=\"3b3cebdc-4278-4936-a7a8-f2056c9f9a6e\" type=\"checkbox\" ><label for=\"3b3cebdc-4278-4936-a7a8-f2056c9f9a6e\" class=\"sk-toggleable__label sk-toggleable__label-arrow\">BinaryEncoder</label><div class=\"sk-toggleable__content\"><pre>BinaryEncoder()</pre></div></div></div></div></div></div><div class=\"sk-parallel-item\"><div class=\"sk-item\"><div class=\"sk-label-container\"><div class=\"sk-label sk-toggleable\"><input class=\"sk-toggleable__control sk-hidden--visually\" id=\"067b4f49-b068-47ce-8633-c95aefe04cf9\" type=\"checkbox\" ><label for=\"067b4f49-b068-47ce-8633-c95aefe04cf9\" class=\"sk-toggleable__label sk-toggleable__label-arrow\">standardscaler</label><div class=\"sk-toggleable__content\"><pre>[&#x27;layno&#x27;, &#x27;comp&#x27;]</pre></div></div></div><div class=\"sk-serial\"><div class=\"sk-item\"><div class=\"sk-estimator sk-toggleable\"><input class=\"sk-toggleable__control sk-hidden--visually\" id=\"012330d8-db4a-471b-b6ab-dcd69daa209a\" type=\"checkbox\" ><label for=\"012330d8-db4a-471b-b6ab-dcd69daa209a\" class=\"sk-toggleable__label sk-toggleable__label-arrow\">StandardScaler</label><div class=\"sk-toggleable__content\"><pre>StandardScaler()</pre></div></div></div></div></div></div><div class=\"sk-parallel-item\"><div class=\"sk-item\"><div class=\"sk-label-container\"><div class=\"sk-label sk-toggleable\"><input class=\"sk-toggleable__control sk-hidden--visually\" id=\"66901a62-deb9-4d2d-a4cd-e719ceaf684e\" type=\"checkbox\" ><label for=\"66901a62-deb9-4d2d-a4cd-e719ceaf684e\" class=\"sk-toggleable__label sk-toggleable__label-arrow\">remainder</label><div class=\"sk-toggleable__content\"><pre>[]</pre></div></div></div><div class=\"sk-serial\"><div class=\"sk-item\"><div class=\"sk-estimator sk-toggleable\"><input class=\"sk-toggleable__control sk-hidden--visually\" id=\"61b5a748-5dca-4ce2-a44d-681e9ebb4705\" type=\"checkbox\" ><label for=\"61b5a748-5dca-4ce2-a44d-681e9ebb4705\" class=\"sk-toggleable__label sk-toggleable__label-arrow\">passthrough</label><div class=\"sk-toggleable__content\"><pre>passthrough</pre></div></div></div></div></div></div></div></div><div class=\"sk-item sk-dashed-wrapped\"><div class=\"sk-label-container\"><div class=\"sk-label sk-toggleable\"><input class=\"sk-toggleable__control sk-hidden--visually\" id=\"440db65d-6ce6-4e26-aa49-3e0ec6b57978\" type=\"checkbox\" ><label for=\"440db65d-6ce6-4e26-aa49-3e0ec6b57978\" class=\"sk-toggleable__label sk-toggleable__label-arrow\">model: TransformedTargetRegressor</label><div class=\"sk-toggleable__content\"><pre>TransformedTargetRegressor(func=&lt;ufunc &#x27;log&#x27;&gt;, inverse_func=&lt;ufunc &#x27;exp&#x27;&gt;,\n",
       "                           regressor=Ridge())</pre></div></div></div><div class=\"sk-parallel\"><div class=\"sk-parallel-item\"><div class=\"sk-item\"><div class=\"sk-serial\"><div class=\"sk-item\"><div class=\"sk-estimator sk-toggleable\"><input class=\"sk-toggleable__control sk-hidden--visually\" id=\"35998002-1a65-43b0-9e0d-7d0cdf93d556\" type=\"checkbox\" ><label for=\"35998002-1a65-43b0-9e0d-7d0cdf93d556\" class=\"sk-toggleable__label sk-toggleable__label-arrow\">Ridge</label><div class=\"sk-toggleable__content\"><pre>Ridge()</pre></div></div></div></div></div></div></div></div></div></div></div></div></div></div></div></div></div>"
      ],
      "text/plain": [
       "GridSearchCV(estimator=Pipeline(steps=[('transformer',\n",
       "                                        ColumnTransformer(remainder='passthrough',\n",
       "                                                          transformers=[('onehotencoder',\n",
       "                                                                         OneHotEncoder(drop='if_binary'),\n",
       "                                                                         ['dbl',\n",
       "                                                                          'category',\n",
       "                                                                          'complexity',\n",
       "                                                                          'scope',\n",
       "                                                                          'type']),\n",
       "                                                                        ('binaryencoder',\n",
       "                                                                         BinaryEncoder(),\n",
       "                                                                         ['line',\n",
       "                                                                          'fit',\n",
       "                                                                          'viatech',\n",
       "                                                                          'ver']),\n",
       "                                                                        ('standardscaler',\n",
       "                                                                         StandardScaler(),\n",
       "                                                                         ['layno',\n",
       "                                                                          'comp'])])),\n",
       "                                       ('model',\n",
       "                                        TransformedTargetRegressor(func=<ufunc 'log'>,\n",
       "                                                                   inverse_func=<ufunc 'exp'>,\n",
       "                                                                   regressor=Ridge()))]),\n",
       "             param_grid={'model__regressor__alpha': array([1.00000000e+00, 1.29154967e+01, 1.66810054e+02, 2.15443469e+03,\n",
       "       2.78255940e+04, 3.59381366e+05, 4.64158883e+06, 5.99484250e+07,\n",
       "       7.74263683e+08, 1.00000000e+10])})"
      ]
     },
     "execution_count": 65,
     "metadata": {},
     "output_type": "execute_result"
    }
   ],
   "source": [
    "#grid for pipe 4\n",
    "param4 = {'model__regressor__alpha': np.logspace(0, 10, 10)}\n",
    "grid4 = GridSearchCV(pipe4, param4)\n",
    "grid4.fit(X_train, y_train)"
   ]
  },
  {
   "cell_type": "code",
   "execution_count": 66,
   "id": "4875ff2e",
   "metadata": {},
   "outputs": [
    {
     "name": "stdout",
     "output_type": "stream",
     "text": [
      "Grid4 Train MAE: 13.99\n",
      "Grid4 Test MAE: 15.8\n",
      "Best parameter: {'model__regressor__alpha': 12.91549665014884}\n",
      "Best score: 0.11803809151250173\n"
     ]
    }
   ],
   "source": [
    "pred_train_grid4 = grid4.predict(X_train)\n",
    "pred_test_grid4 = grid4.predict(X_test)\n",
    "grid4_train_mae = median_absolute_error(y_train, pred_train_grid4)\n",
    "grid4_test_mae = median_absolute_error(y_test, pred_test_grid4)\n",
    "print(f'Grid4 Train MAE: {round(grid4_train_mae, 2)}')\n",
    "print(f'Grid4 Test MAE: {round(grid4_test_mae, 2)}')\n",
    "print(f'Best parameter: {grid4.best_params_}')\n",
    "print(f'Best score: {grid4.best_score_}')\n",
    "values.append(['Grid_TTR_Ridge', grid4_train_mae, grid4_test_mae,grid4.best_score_])"
   ]
  },
  {
   "cell_type": "code",
   "execution_count": 67,
   "id": "f194d6d8",
   "metadata": {},
   "outputs": [
    {
     "data": {
      "text/html": [
       "<style>#sk-56cc04f4-97df-49ab-bafc-fe9f28c9de94 {color: black;background-color: white;}#sk-56cc04f4-97df-49ab-bafc-fe9f28c9de94 pre{padding: 0;}#sk-56cc04f4-97df-49ab-bafc-fe9f28c9de94 div.sk-toggleable {background-color: white;}#sk-56cc04f4-97df-49ab-bafc-fe9f28c9de94 label.sk-toggleable__label {cursor: pointer;display: block;width: 100%;margin-bottom: 0;padding: 0.3em;box-sizing: border-box;text-align: center;}#sk-56cc04f4-97df-49ab-bafc-fe9f28c9de94 label.sk-toggleable__label-arrow:before {content: \"▸\";float: left;margin-right: 0.25em;color: #696969;}#sk-56cc04f4-97df-49ab-bafc-fe9f28c9de94 label.sk-toggleable__label-arrow:hover:before {color: black;}#sk-56cc04f4-97df-49ab-bafc-fe9f28c9de94 div.sk-estimator:hover label.sk-toggleable__label-arrow:before {color: black;}#sk-56cc04f4-97df-49ab-bafc-fe9f28c9de94 div.sk-toggleable__content {max-height: 0;max-width: 0;overflow: hidden;text-align: left;background-color: #f0f8ff;}#sk-56cc04f4-97df-49ab-bafc-fe9f28c9de94 div.sk-toggleable__content pre {margin: 0.2em;color: black;border-radius: 0.25em;background-color: #f0f8ff;}#sk-56cc04f4-97df-49ab-bafc-fe9f28c9de94 input.sk-toggleable__control:checked~div.sk-toggleable__content {max-height: 200px;max-width: 100%;overflow: auto;}#sk-56cc04f4-97df-49ab-bafc-fe9f28c9de94 input.sk-toggleable__control:checked~label.sk-toggleable__label-arrow:before {content: \"▾\";}#sk-56cc04f4-97df-49ab-bafc-fe9f28c9de94 div.sk-estimator input.sk-toggleable__control:checked~label.sk-toggleable__label {background-color: #d4ebff;}#sk-56cc04f4-97df-49ab-bafc-fe9f28c9de94 div.sk-label input.sk-toggleable__control:checked~label.sk-toggleable__label {background-color: #d4ebff;}#sk-56cc04f4-97df-49ab-bafc-fe9f28c9de94 input.sk-hidden--visually {border: 0;clip: rect(1px 1px 1px 1px);clip: rect(1px, 1px, 1px, 1px);height: 1px;margin: -1px;overflow: hidden;padding: 0;position: absolute;width: 1px;}#sk-56cc04f4-97df-49ab-bafc-fe9f28c9de94 div.sk-estimator {font-family: monospace;background-color: #f0f8ff;border: 1px dotted black;border-radius: 0.25em;box-sizing: border-box;margin-bottom: 0.5em;}#sk-56cc04f4-97df-49ab-bafc-fe9f28c9de94 div.sk-estimator:hover {background-color: #d4ebff;}#sk-56cc04f4-97df-49ab-bafc-fe9f28c9de94 div.sk-parallel-item::after {content: \"\";width: 100%;border-bottom: 1px solid gray;flex-grow: 1;}#sk-56cc04f4-97df-49ab-bafc-fe9f28c9de94 div.sk-label:hover label.sk-toggleable__label {background-color: #d4ebff;}#sk-56cc04f4-97df-49ab-bafc-fe9f28c9de94 div.sk-serial::before {content: \"\";position: absolute;border-left: 1px solid gray;box-sizing: border-box;top: 2em;bottom: 0;left: 50%;}#sk-56cc04f4-97df-49ab-bafc-fe9f28c9de94 div.sk-serial {display: flex;flex-direction: column;align-items: center;background-color: white;padding-right: 0.2em;padding-left: 0.2em;}#sk-56cc04f4-97df-49ab-bafc-fe9f28c9de94 div.sk-item {z-index: 1;}#sk-56cc04f4-97df-49ab-bafc-fe9f28c9de94 div.sk-parallel {display: flex;align-items: stretch;justify-content: center;background-color: white;}#sk-56cc04f4-97df-49ab-bafc-fe9f28c9de94 div.sk-parallel::before {content: \"\";position: absolute;border-left: 1px solid gray;box-sizing: border-box;top: 2em;bottom: 0;left: 50%;}#sk-56cc04f4-97df-49ab-bafc-fe9f28c9de94 div.sk-parallel-item {display: flex;flex-direction: column;position: relative;background-color: white;}#sk-56cc04f4-97df-49ab-bafc-fe9f28c9de94 div.sk-parallel-item:first-child::after {align-self: flex-end;width: 50%;}#sk-56cc04f4-97df-49ab-bafc-fe9f28c9de94 div.sk-parallel-item:last-child::after {align-self: flex-start;width: 50%;}#sk-56cc04f4-97df-49ab-bafc-fe9f28c9de94 div.sk-parallel-item:only-child::after {width: 0;}#sk-56cc04f4-97df-49ab-bafc-fe9f28c9de94 div.sk-dashed-wrapped {border: 1px dashed gray;margin: 0 0.4em 0.5em 0.4em;box-sizing: border-box;padding-bottom: 0.4em;background-color: white;position: relative;}#sk-56cc04f4-97df-49ab-bafc-fe9f28c9de94 div.sk-label label {font-family: monospace;font-weight: bold;background-color: white;display: inline-block;line-height: 1.2em;}#sk-56cc04f4-97df-49ab-bafc-fe9f28c9de94 div.sk-label-container {position: relative;z-index: 2;text-align: center;}#sk-56cc04f4-97df-49ab-bafc-fe9f28c9de94 div.sk-container {/* jupyter's `normalize.less` sets `[hidden] { display: none; }` but bootstrap.min.css set `[hidden] { display: none !important; }` so we also need the `!important` here to be able to override the default hidden behavior on the sphinx rendered scikit-learn.org. See: https://github.com/scikit-learn/scikit-learn/issues/21755 */display: inline-block !important;position: relative;}#sk-56cc04f4-97df-49ab-bafc-fe9f28c9de94 div.sk-text-repr-fallback {display: none;}</style><div id=\"sk-56cc04f4-97df-49ab-bafc-fe9f28c9de94\" class=\"sk-top-container\"><div class=\"sk-text-repr-fallback\"><pre>GridSearchCV(estimator=Pipeline(steps=[(&#x27;transformer&#x27;,\n",
       "                                        ColumnTransformer(remainder=&#x27;passthrough&#x27;,\n",
       "                                                          transformers=[(&#x27;onehotencoder&#x27;,\n",
       "                                                                         OneHotEncoder(drop=&#x27;if_binary&#x27;),\n",
       "                                                                         [&#x27;dbl&#x27;,\n",
       "                                                                          &#x27;category&#x27;,\n",
       "                                                                          &#x27;complexity&#x27;,\n",
       "                                                                          &#x27;scope&#x27;,\n",
       "                                                                          &#x27;type&#x27;]),\n",
       "                                                                        (&#x27;binaryencoder&#x27;,\n",
       "                                                                         BinaryEncoder(),\n",
       "                                                                         [&#x27;line&#x27;,\n",
       "                                                                          &#x27;fit&#x27;,\n",
       "                                                                          &#x27;viatech&#x27;,\n",
       "                                                                          &#x27;ver&#x27;]),\n",
       "                                                                        (&#x27;standardscaler&#x27;,\n",
       "                                                                         StandardScaler(),\n",
       "                                                                         [&#x27;layno&#x27;,\n",
       "                                                                          &#x27;comp&#x27;])])),\n",
       "                                       (&#x27;model&#x27;,\n",
       "                                        TransformedTargetRegressor(regressor=Lasso(random_state=22)))]),\n",
       "             param_grid={&#x27;model__regressor__alpha&#x27;: array([1.00000000e+00, 1.29154967e+01, 1.66810054e+02, 2.15443469e+03,\n",
       "       2.78255940e+04, 3.59381366e+05, 4.64158883e+06, 5.99484250e+07,\n",
       "       7.74263683e+08, 1.00000000e+10]),\n",
       "                         &#x27;model__regressor__random_state&#x27;: range(1, 42)})</pre><b>Please rerun this cell to show the HTML repr or trust the notebook.</b></div><div class=\"sk-container\" hidden><div class=\"sk-item sk-dashed-wrapped\"><div class=\"sk-label-container\"><div class=\"sk-label sk-toggleable\"><input class=\"sk-toggleable__control sk-hidden--visually\" id=\"19ddbeeb-4e93-483a-8ba7-0dc9d0ed196a\" type=\"checkbox\" ><label for=\"19ddbeeb-4e93-483a-8ba7-0dc9d0ed196a\" class=\"sk-toggleable__label sk-toggleable__label-arrow\">GridSearchCV</label><div class=\"sk-toggleable__content\"><pre>GridSearchCV(estimator=Pipeline(steps=[(&#x27;transformer&#x27;,\n",
       "                                        ColumnTransformer(remainder=&#x27;passthrough&#x27;,\n",
       "                                                          transformers=[(&#x27;onehotencoder&#x27;,\n",
       "                                                                         OneHotEncoder(drop=&#x27;if_binary&#x27;),\n",
       "                                                                         [&#x27;dbl&#x27;,\n",
       "                                                                          &#x27;category&#x27;,\n",
       "                                                                          &#x27;complexity&#x27;,\n",
       "                                                                          &#x27;scope&#x27;,\n",
       "                                                                          &#x27;type&#x27;]),\n",
       "                                                                        (&#x27;binaryencoder&#x27;,\n",
       "                                                                         BinaryEncoder(),\n",
       "                                                                         [&#x27;line&#x27;,\n",
       "                                                                          &#x27;fit&#x27;,\n",
       "                                                                          &#x27;viatech&#x27;,\n",
       "                                                                          &#x27;ver&#x27;]),\n",
       "                                                                        (&#x27;standardscaler&#x27;,\n",
       "                                                                         StandardScaler(),\n",
       "                                                                         [&#x27;layno&#x27;,\n",
       "                                                                          &#x27;comp&#x27;])])),\n",
       "                                       (&#x27;model&#x27;,\n",
       "                                        TransformedTargetRegressor(regressor=Lasso(random_state=22)))]),\n",
       "             param_grid={&#x27;model__regressor__alpha&#x27;: array([1.00000000e+00, 1.29154967e+01, 1.66810054e+02, 2.15443469e+03,\n",
       "       2.78255940e+04, 3.59381366e+05, 4.64158883e+06, 5.99484250e+07,\n",
       "       7.74263683e+08, 1.00000000e+10]),\n",
       "                         &#x27;model__regressor__random_state&#x27;: range(1, 42)})</pre></div></div></div><div class=\"sk-parallel\"><div class=\"sk-parallel-item\"><div class=\"sk-item\"><div class=\"sk-serial\"><div class=\"sk-item\"><div class=\"sk-serial\"><div class=\"sk-item sk-dashed-wrapped\"><div class=\"sk-label-container\"><div class=\"sk-label sk-toggleable\"><input class=\"sk-toggleable__control sk-hidden--visually\" id=\"b5c9554b-6bc4-4c14-922e-5a45d70ec9a7\" type=\"checkbox\" ><label for=\"b5c9554b-6bc4-4c14-922e-5a45d70ec9a7\" class=\"sk-toggleable__label sk-toggleable__label-arrow\">transformer: ColumnTransformer</label><div class=\"sk-toggleable__content\"><pre>ColumnTransformer(remainder=&#x27;passthrough&#x27;,\n",
       "                  transformers=[(&#x27;onehotencoder&#x27;,\n",
       "                                 OneHotEncoder(drop=&#x27;if_binary&#x27;),\n",
       "                                 [&#x27;dbl&#x27;, &#x27;category&#x27;, &#x27;complexity&#x27;, &#x27;scope&#x27;,\n",
       "                                  &#x27;type&#x27;]),\n",
       "                                (&#x27;binaryencoder&#x27;, BinaryEncoder(),\n",
       "                                 [&#x27;line&#x27;, &#x27;fit&#x27;, &#x27;viatech&#x27;, &#x27;ver&#x27;]),\n",
       "                                (&#x27;standardscaler&#x27;, StandardScaler(),\n",
       "                                 [&#x27;layno&#x27;, &#x27;comp&#x27;])])</pre></div></div></div><div class=\"sk-parallel\"><div class=\"sk-parallel-item\"><div class=\"sk-item\"><div class=\"sk-label-container\"><div class=\"sk-label sk-toggleable\"><input class=\"sk-toggleable__control sk-hidden--visually\" id=\"eb0fb087-954c-431b-a1e3-3e3fa80ee31d\" type=\"checkbox\" ><label for=\"eb0fb087-954c-431b-a1e3-3e3fa80ee31d\" class=\"sk-toggleable__label sk-toggleable__label-arrow\">onehotencoder</label><div class=\"sk-toggleable__content\"><pre>[&#x27;dbl&#x27;, &#x27;category&#x27;, &#x27;complexity&#x27;, &#x27;scope&#x27;, &#x27;type&#x27;]</pre></div></div></div><div class=\"sk-serial\"><div class=\"sk-item\"><div class=\"sk-estimator sk-toggleable\"><input class=\"sk-toggleable__control sk-hidden--visually\" id=\"435cba94-57f5-488d-830c-453ea258645b\" type=\"checkbox\" ><label for=\"435cba94-57f5-488d-830c-453ea258645b\" class=\"sk-toggleable__label sk-toggleable__label-arrow\">OneHotEncoder</label><div class=\"sk-toggleable__content\"><pre>OneHotEncoder(drop=&#x27;if_binary&#x27;)</pre></div></div></div></div></div></div><div class=\"sk-parallel-item\"><div class=\"sk-item\"><div class=\"sk-label-container\"><div class=\"sk-label sk-toggleable\"><input class=\"sk-toggleable__control sk-hidden--visually\" id=\"1da302d3-2bec-4773-958d-0203261f0a55\" type=\"checkbox\" ><label for=\"1da302d3-2bec-4773-958d-0203261f0a55\" class=\"sk-toggleable__label sk-toggleable__label-arrow\">binaryencoder</label><div class=\"sk-toggleable__content\"><pre>[&#x27;line&#x27;, &#x27;fit&#x27;, &#x27;viatech&#x27;, &#x27;ver&#x27;]</pre></div></div></div><div class=\"sk-serial\"><div class=\"sk-item\"><div class=\"sk-estimator sk-toggleable\"><input class=\"sk-toggleable__control sk-hidden--visually\" id=\"f0544218-54df-4865-9252-f8716f0226c4\" type=\"checkbox\" ><label for=\"f0544218-54df-4865-9252-f8716f0226c4\" class=\"sk-toggleable__label sk-toggleable__label-arrow\">BinaryEncoder</label><div class=\"sk-toggleable__content\"><pre>BinaryEncoder()</pre></div></div></div></div></div></div><div class=\"sk-parallel-item\"><div class=\"sk-item\"><div class=\"sk-label-container\"><div class=\"sk-label sk-toggleable\"><input class=\"sk-toggleable__control sk-hidden--visually\" id=\"427d374e-b615-4a63-8e0f-7f6924de4b92\" type=\"checkbox\" ><label for=\"427d374e-b615-4a63-8e0f-7f6924de4b92\" class=\"sk-toggleable__label sk-toggleable__label-arrow\">standardscaler</label><div class=\"sk-toggleable__content\"><pre>[&#x27;layno&#x27;, &#x27;comp&#x27;]</pre></div></div></div><div class=\"sk-serial\"><div class=\"sk-item\"><div class=\"sk-estimator sk-toggleable\"><input class=\"sk-toggleable__control sk-hidden--visually\" id=\"ef4f870b-e9b0-42ab-867e-3f6d4ef83ea5\" type=\"checkbox\" ><label for=\"ef4f870b-e9b0-42ab-867e-3f6d4ef83ea5\" class=\"sk-toggleable__label sk-toggleable__label-arrow\">StandardScaler</label><div class=\"sk-toggleable__content\"><pre>StandardScaler()</pre></div></div></div></div></div></div><div class=\"sk-parallel-item\"><div class=\"sk-item\"><div class=\"sk-label-container\"><div class=\"sk-label sk-toggleable\"><input class=\"sk-toggleable__control sk-hidden--visually\" id=\"15c3530f-6c60-47cf-a4a6-4d066c0a27ef\" type=\"checkbox\" ><label for=\"15c3530f-6c60-47cf-a4a6-4d066c0a27ef\" class=\"sk-toggleable__label sk-toggleable__label-arrow\">remainder</label><div class=\"sk-toggleable__content\"><pre>[]</pre></div></div></div><div class=\"sk-serial\"><div class=\"sk-item\"><div class=\"sk-estimator sk-toggleable\"><input class=\"sk-toggleable__control sk-hidden--visually\" id=\"cbda7e98-413c-4c94-a9f9-18de20ff1d8b\" type=\"checkbox\" ><label for=\"cbda7e98-413c-4c94-a9f9-18de20ff1d8b\" class=\"sk-toggleable__label sk-toggleable__label-arrow\">passthrough</label><div class=\"sk-toggleable__content\"><pre>passthrough</pre></div></div></div></div></div></div></div></div><div class=\"sk-item sk-dashed-wrapped\"><div class=\"sk-label-container\"><div class=\"sk-label sk-toggleable\"><input class=\"sk-toggleable__control sk-hidden--visually\" id=\"70d740b9-3a96-4fa9-bcc7-f1cfee1d3fa0\" type=\"checkbox\" ><label for=\"70d740b9-3a96-4fa9-bcc7-f1cfee1d3fa0\" class=\"sk-toggleable__label sk-toggleable__label-arrow\">model: TransformedTargetRegressor</label><div class=\"sk-toggleable__content\"><pre>TransformedTargetRegressor(regressor=Lasso(random_state=22))</pre></div></div></div><div class=\"sk-parallel\"><div class=\"sk-parallel-item\"><div class=\"sk-item\"><div class=\"sk-serial\"><div class=\"sk-item\"><div class=\"sk-estimator sk-toggleable\"><input class=\"sk-toggleable__control sk-hidden--visually\" id=\"d5281d9a-9963-4a60-94b7-b9eb4fe09c13\" type=\"checkbox\" ><label for=\"d5281d9a-9963-4a60-94b7-b9eb4fe09c13\" class=\"sk-toggleable__label sk-toggleable__label-arrow\">Lasso</label><div class=\"sk-toggleable__content\"><pre>Lasso(random_state=22)</pre></div></div></div></div></div></div></div></div></div></div></div></div></div></div></div></div></div>"
      ],
      "text/plain": [
       "GridSearchCV(estimator=Pipeline(steps=[('transformer',\n",
       "                                        ColumnTransformer(remainder='passthrough',\n",
       "                                                          transformers=[('onehotencoder',\n",
       "                                                                         OneHotEncoder(drop='if_binary'),\n",
       "                                                                         ['dbl',\n",
       "                                                                          'category',\n",
       "                                                                          'complexity',\n",
       "                                                                          'scope',\n",
       "                                                                          'type']),\n",
       "                                                                        ('binaryencoder',\n",
       "                                                                         BinaryEncoder(),\n",
       "                                                                         ['line',\n",
       "                                                                          'fit',\n",
       "                                                                          'viatech',\n",
       "                                                                          'ver']),\n",
       "                                                                        ('standardscaler',\n",
       "                                                                         StandardScaler(),\n",
       "                                                                         ['layno',\n",
       "                                                                          'comp'])])),\n",
       "                                       ('model',\n",
       "                                        TransformedTargetRegressor(regressor=Lasso(random_state=22)))]),\n",
       "             param_grid={'model__regressor__alpha': array([1.00000000e+00, 1.29154967e+01, 1.66810054e+02, 2.15443469e+03,\n",
       "       2.78255940e+04, 3.59381366e+05, 4.64158883e+06, 5.99484250e+07,\n",
       "       7.74263683e+08, 1.00000000e+10]),\n",
       "                         'model__regressor__random_state': range(1, 42)})"
      ]
     },
     "execution_count": 67,
     "metadata": {},
     "output_type": "execute_result"
    }
   ],
   "source": [
    "#grid for pipe 6\n",
    "param6 = {'model__regressor__alpha': np.logspace(0, 10, 10), 'model__regressor__random_state': range(1, 42, 1)}\n",
    "grid6 = GridSearchCV(pipe6, param6)\n",
    "grid6.fit(X_train, y_train)"
   ]
  },
  {
   "cell_type": "code",
   "execution_count": 68,
   "id": "220f06d5",
   "metadata": {},
   "outputs": [
    {
     "name": "stdout",
     "output_type": "stream",
     "text": [
      "Grid6 Train MAE: 19.28\n",
      "Grid6 Test MAE: 19.19\n",
      "Best parameter: {'model__regressor__alpha': 1.0, 'model__regressor__random_state': 1}\n",
      "Best score: 0.1896144869352531\n"
     ]
    }
   ],
   "source": [
    "pred_train_grid6 = grid6.predict(X_train)\n",
    "pred_test_grid6 = grid6.predict(X_test)\n",
    "grid6_train_mae = median_absolute_error(y_train, pred_train_grid6)\n",
    "grid6_test_mae = median_absolute_error(y_test, pred_test_grid6)\n",
    "print(f'Grid6 Train MAE: {round(grid6_train_mae, 2)}')\n",
    "print(f'Grid6 Test MAE: {round(grid6_test_mae, 2)}')\n",
    "print(f'Best parameter: {grid6.best_params_}')\n",
    "print(f'Best score: {grid6.best_score_}')\n",
    "values.append(['Grid_TTR_Lasso', grid6_train_mae, grid6_test_mae,grid6.best_score_])"
   ]
  },
  {
   "cell_type": "code",
   "execution_count": 69,
   "id": "819f4b62",
   "metadata": {},
   "outputs": [
    {
     "name": "stdout",
     "output_type": "stream",
     "text": [
      "\u001b[1m  Comparison Table for models\n"
     ]
    },
    {
     "data": {
      "text/html": [
       "<div>\n",
       "<style scoped>\n",
       "    .dataframe tbody tr th:only-of-type {\n",
       "        vertical-align: middle;\n",
       "    }\n",
       "\n",
       "    .dataframe tbody tr th {\n",
       "        vertical-align: top;\n",
       "    }\n",
       "\n",
       "    .dataframe thead th {\n",
       "        text-align: right;\n",
       "    }\n",
       "</style>\n",
       "<table border=\"1\" class=\"dataframe\">\n",
       "  <thead>\n",
       "    <tr style=\"text-align: right;\">\n",
       "      <th></th>\n",
       "      <th>Train MAE</th>\n",
       "      <th>Test MAE</th>\n",
       "      <th>Score</th>\n",
       "    </tr>\n",
       "    <tr>\n",
       "      <th>Model</th>\n",
       "      <th></th>\n",
       "      <th></th>\n",
       "      <th></th>\n",
       "    </tr>\n",
       "  </thead>\n",
       "  <tbody>\n",
       "    <tr>\n",
       "      <th>Linear</th>\n",
       "      <td>17.706953</td>\n",
       "      <td>18.862655</td>\n",
       "      <td>0.252396</td>\n",
       "    </tr>\n",
       "    <tr>\n",
       "      <th>Ridge</th>\n",
       "      <td>17.645738</td>\n",
       "      <td>19.155042</td>\n",
       "      <td>0.256456</td>\n",
       "    </tr>\n",
       "    <tr>\n",
       "      <th>Lasso</th>\n",
       "      <td>19.278725</td>\n",
       "      <td>19.185290</td>\n",
       "      <td>0.248679</td>\n",
       "    </tr>\n",
       "    <tr>\n",
       "      <th>TTR_Ridge</th>\n",
       "      <td>13.322096</td>\n",
       "      <td>14.748382</td>\n",
       "      <td>0.261511</td>\n",
       "    </tr>\n",
       "    <tr>\n",
       "      <th>TTR_RFR</th>\n",
       "      <td>5.114385</td>\n",
       "      <td>13.567752</td>\n",
       "      <td>0.422629</td>\n",
       "    </tr>\n",
       "    <tr>\n",
       "      <th>TTR_Lasso</th>\n",
       "      <td>19.278725</td>\n",
       "      <td>19.185290</td>\n",
       "      <td>0.248679</td>\n",
       "    </tr>\n",
       "    <tr>\n",
       "      <th>Grid_TTR-RFR</th>\n",
       "      <td>5.325523</td>\n",
       "      <td>13.296457</td>\n",
       "      <td>0.295288</td>\n",
       "    </tr>\n",
       "    <tr>\n",
       "      <th>Grid_Ridge</th>\n",
       "      <td>17.646523</td>\n",
       "      <td>17.774117</td>\n",
       "      <td>0.205766</td>\n",
       "    </tr>\n",
       "    <tr>\n",
       "      <th>Grid_Lasso</th>\n",
       "      <td>19.278725</td>\n",
       "      <td>19.185290</td>\n",
       "      <td>0.189614</td>\n",
       "    </tr>\n",
       "    <tr>\n",
       "      <th>Grid_TTR_Ridge</th>\n",
       "      <td>13.987450</td>\n",
       "      <td>15.799061</td>\n",
       "      <td>0.118038</td>\n",
       "    </tr>\n",
       "    <tr>\n",
       "      <th>Grid_TTR_Lasso</th>\n",
       "      <td>19.278725</td>\n",
       "      <td>19.185290</td>\n",
       "      <td>0.189614</td>\n",
       "    </tr>\n",
       "  </tbody>\n",
       "</table>\n",
       "</div>"
      ],
      "text/plain": [
       "                Train MAE   Test MAE     Score\n",
       "Model                                         \n",
       "Linear          17.706953  18.862655  0.252396\n",
       "Ridge           17.645738  19.155042  0.256456\n",
       "Lasso           19.278725  19.185290  0.248679\n",
       "TTR_Ridge       13.322096  14.748382  0.261511\n",
       "TTR_RFR          5.114385  13.567752  0.422629\n",
       "TTR_Lasso       19.278725  19.185290  0.248679\n",
       "Grid_TTR-RFR     5.325523  13.296457  0.295288\n",
       "Grid_Ridge      17.646523  17.774117  0.205766\n",
       "Grid_Lasso      19.278725  19.185290  0.189614\n",
       "Grid_TTR_Ridge  13.987450  15.799061  0.118038\n",
       "Grid_TTR_Lasso  19.278725  19.185290  0.189614"
      ]
     },
     "execution_count": 69,
     "metadata": {},
     "output_type": "execute_result"
    }
   ],
   "source": [
    "#visualize all the results in one table\n",
    "table1 = pd.DataFrame(values, columns = ['Model', 'Train MAE', 'Test MAE', 'Score'])\n",
    "table1 = table1.set_index('Model')\n",
    "print('\\033[1m  Comparison Table for models')\n",
    "table1"
   ]
  },
  {
   "cell_type": "markdown",
   "id": "6ba8c75e",
   "metadata": {},
   "source": [
    "### Improve the model"
   ]
  },
  {
   "cell_type": "markdown",
   "id": "5c90df15",
   "metadata": {},
   "source": [
    "As the next step, we can try and run the model on an updated data set which takes only the important features and drops the rest."
   ]
  },
  {
   "cell_type": "code",
   "execution_count": 70,
   "id": "ef56f177",
   "metadata": {},
   "outputs": [],
   "source": [
    "# from the feature importance: 'scope','line','complexity','comp','ver','type'"
   ]
  },
  {
   "cell_type": "code",
   "execution_count": 71,
   "id": "15d9a013",
   "metadata": {},
   "outputs": [
    {
     "data": {
      "text/html": [
       "<div>\n",
       "<style scoped>\n",
       "    .dataframe tbody tr th:only-of-type {\n",
       "        vertical-align: middle;\n",
       "    }\n",
       "\n",
       "    .dataframe tbody tr th {\n",
       "        vertical-align: top;\n",
       "    }\n",
       "\n",
       "    .dataframe thead th {\n",
       "        text-align: right;\n",
       "    }\n",
       "</style>\n",
       "<table border=\"1\" class=\"dataframe\">\n",
       "  <thead>\n",
       "    <tr style=\"text-align: right;\">\n",
       "      <th></th>\n",
       "      <th>scope</th>\n",
       "      <th>line</th>\n",
       "      <th>complexity</th>\n",
       "      <th>comp</th>\n",
       "      <th>ver</th>\n",
       "      <th>type</th>\n",
       "      <th>duration</th>\n",
       "    </tr>\n",
       "  </thead>\n",
       "  <tbody>\n",
       "    <tr>\n",
       "      <th>0</th>\n",
       "      <td>NEW BRD</td>\n",
       "      <td>jbr</td>\n",
       "      <td>Medium</td>\n",
       "      <td>1</td>\n",
       "      <td>M00</td>\n",
       "      <td>FF</td>\n",
       "      <td>40</td>\n",
       "    </tr>\n",
       "    <tr>\n",
       "      <th>1</th>\n",
       "      <td>MOD-MINOR</td>\n",
       "      <td>bis</td>\n",
       "      <td>Medium</td>\n",
       "      <td>1</td>\n",
       "      <td>R2</td>\n",
       "      <td>FF</td>\n",
       "      <td>73</td>\n",
       "    </tr>\n",
       "    <tr>\n",
       "      <th>2</th>\n",
       "      <td>MOD-MINOR</td>\n",
       "      <td>gq</td>\n",
       "      <td>Low</td>\n",
       "      <td>1</td>\n",
       "      <td>D0</td>\n",
       "      <td>FF</td>\n",
       "      <td>9</td>\n",
       "    </tr>\n",
       "  </tbody>\n",
       "</table>\n",
       "</div>"
      ],
      "text/plain": [
       "       scope line complexity  comp  ver type  duration\n",
       "0    NEW BRD  jbr     Medium     1  M00   FF        40\n",
       "1  MOD-MINOR  bis     Medium     1   R2   FF        73\n",
       "2  MOD-MINOR   gq        Low     1   D0   FF         9"
      ]
     },
     "execution_count": 71,
     "metadata": {},
     "output_type": "execute_result"
    }
   ],
   "source": [
    "df1 = df[['scope','line','complexity','comp','ver','type', 'duration']]\n",
    "df1.head(3)"
   ]
  },
  {
   "cell_type": "code",
   "execution_count": 72,
   "id": "f4b629c3",
   "metadata": {},
   "outputs": [],
   "source": [
    "Xf = df1.drop('duration', axis = 1)\n",
    "yf = df['duration']\n",
    "Xf_train, Xf_test, yf_train, yf_test = train_test_split(Xf, yf, test_size = 0.2, random_state = 10)"
   ]
  },
  {
   "cell_type": "code",
   "execution_count": 73,
   "id": "bc345b80",
   "metadata": {},
   "outputs": [],
   "source": [
    "col_ohe_final = ['complexity', 'scope', 'type']\n",
    "col_bin_final = ['line','ver']\n",
    "col_std_final = ['comp']"
   ]
  },
  {
   "cell_type": "code",
   "execution_count": 74,
   "id": "c24d1e9f",
   "metadata": {},
   "outputs": [],
   "source": [
    "transf_final = make_column_transformer(\n",
    "                (OneHotEncoder(drop=\"if_binary\"), col_ohe_final),\n",
    "                (ce.BinaryEncoder(),col_bin_final),\n",
    "                (StandardScaler(), col_std_final), remainder ='passthrough')"
   ]
  },
  {
   "cell_type": "code",
   "execution_count": 75,
   "id": "c82298de",
   "metadata": {},
   "outputs": [
    {
     "data": {
      "text/html": [
       "<style>#sk-ba1b9917-9219-420c-807f-51f5c00c4dd1 {color: black;background-color: white;}#sk-ba1b9917-9219-420c-807f-51f5c00c4dd1 pre{padding: 0;}#sk-ba1b9917-9219-420c-807f-51f5c00c4dd1 div.sk-toggleable {background-color: white;}#sk-ba1b9917-9219-420c-807f-51f5c00c4dd1 label.sk-toggleable__label {cursor: pointer;display: block;width: 100%;margin-bottom: 0;padding: 0.3em;box-sizing: border-box;text-align: center;}#sk-ba1b9917-9219-420c-807f-51f5c00c4dd1 label.sk-toggleable__label-arrow:before {content: \"▸\";float: left;margin-right: 0.25em;color: #696969;}#sk-ba1b9917-9219-420c-807f-51f5c00c4dd1 label.sk-toggleable__label-arrow:hover:before {color: black;}#sk-ba1b9917-9219-420c-807f-51f5c00c4dd1 div.sk-estimator:hover label.sk-toggleable__label-arrow:before {color: black;}#sk-ba1b9917-9219-420c-807f-51f5c00c4dd1 div.sk-toggleable__content {max-height: 0;max-width: 0;overflow: hidden;text-align: left;background-color: #f0f8ff;}#sk-ba1b9917-9219-420c-807f-51f5c00c4dd1 div.sk-toggleable__content pre {margin: 0.2em;color: black;border-radius: 0.25em;background-color: #f0f8ff;}#sk-ba1b9917-9219-420c-807f-51f5c00c4dd1 input.sk-toggleable__control:checked~div.sk-toggleable__content {max-height: 200px;max-width: 100%;overflow: auto;}#sk-ba1b9917-9219-420c-807f-51f5c00c4dd1 input.sk-toggleable__control:checked~label.sk-toggleable__label-arrow:before {content: \"▾\";}#sk-ba1b9917-9219-420c-807f-51f5c00c4dd1 div.sk-estimator input.sk-toggleable__control:checked~label.sk-toggleable__label {background-color: #d4ebff;}#sk-ba1b9917-9219-420c-807f-51f5c00c4dd1 div.sk-label input.sk-toggleable__control:checked~label.sk-toggleable__label {background-color: #d4ebff;}#sk-ba1b9917-9219-420c-807f-51f5c00c4dd1 input.sk-hidden--visually {border: 0;clip: rect(1px 1px 1px 1px);clip: rect(1px, 1px, 1px, 1px);height: 1px;margin: -1px;overflow: hidden;padding: 0;position: absolute;width: 1px;}#sk-ba1b9917-9219-420c-807f-51f5c00c4dd1 div.sk-estimator {font-family: monospace;background-color: #f0f8ff;border: 1px dotted black;border-radius: 0.25em;box-sizing: border-box;margin-bottom: 0.5em;}#sk-ba1b9917-9219-420c-807f-51f5c00c4dd1 div.sk-estimator:hover {background-color: #d4ebff;}#sk-ba1b9917-9219-420c-807f-51f5c00c4dd1 div.sk-parallel-item::after {content: \"\";width: 100%;border-bottom: 1px solid gray;flex-grow: 1;}#sk-ba1b9917-9219-420c-807f-51f5c00c4dd1 div.sk-label:hover label.sk-toggleable__label {background-color: #d4ebff;}#sk-ba1b9917-9219-420c-807f-51f5c00c4dd1 div.sk-serial::before {content: \"\";position: absolute;border-left: 1px solid gray;box-sizing: border-box;top: 2em;bottom: 0;left: 50%;}#sk-ba1b9917-9219-420c-807f-51f5c00c4dd1 div.sk-serial {display: flex;flex-direction: column;align-items: center;background-color: white;padding-right: 0.2em;padding-left: 0.2em;}#sk-ba1b9917-9219-420c-807f-51f5c00c4dd1 div.sk-item {z-index: 1;}#sk-ba1b9917-9219-420c-807f-51f5c00c4dd1 div.sk-parallel {display: flex;align-items: stretch;justify-content: center;background-color: white;}#sk-ba1b9917-9219-420c-807f-51f5c00c4dd1 div.sk-parallel::before {content: \"\";position: absolute;border-left: 1px solid gray;box-sizing: border-box;top: 2em;bottom: 0;left: 50%;}#sk-ba1b9917-9219-420c-807f-51f5c00c4dd1 div.sk-parallel-item {display: flex;flex-direction: column;position: relative;background-color: white;}#sk-ba1b9917-9219-420c-807f-51f5c00c4dd1 div.sk-parallel-item:first-child::after {align-self: flex-end;width: 50%;}#sk-ba1b9917-9219-420c-807f-51f5c00c4dd1 div.sk-parallel-item:last-child::after {align-self: flex-start;width: 50%;}#sk-ba1b9917-9219-420c-807f-51f5c00c4dd1 div.sk-parallel-item:only-child::after {width: 0;}#sk-ba1b9917-9219-420c-807f-51f5c00c4dd1 div.sk-dashed-wrapped {border: 1px dashed gray;margin: 0 0.4em 0.5em 0.4em;box-sizing: border-box;padding-bottom: 0.4em;background-color: white;position: relative;}#sk-ba1b9917-9219-420c-807f-51f5c00c4dd1 div.sk-label label {font-family: monospace;font-weight: bold;background-color: white;display: inline-block;line-height: 1.2em;}#sk-ba1b9917-9219-420c-807f-51f5c00c4dd1 div.sk-label-container {position: relative;z-index: 2;text-align: center;}#sk-ba1b9917-9219-420c-807f-51f5c00c4dd1 div.sk-container {/* jupyter's `normalize.less` sets `[hidden] { display: none; }` but bootstrap.min.css set `[hidden] { display: none !important; }` so we also need the `!important` here to be able to override the default hidden behavior on the sphinx rendered scikit-learn.org. See: https://github.com/scikit-learn/scikit-learn/issues/21755 */display: inline-block !important;position: relative;}#sk-ba1b9917-9219-420c-807f-51f5c00c4dd1 div.sk-text-repr-fallback {display: none;}</style><div id=\"sk-ba1b9917-9219-420c-807f-51f5c00c4dd1\" class=\"sk-top-container\"><div class=\"sk-text-repr-fallback\"><pre>Pipeline(steps=[(&#x27;transformer&#x27;,\n",
       "                 ColumnTransformer(remainder=&#x27;passthrough&#x27;,\n",
       "                                   transformers=[(&#x27;onehotencoder&#x27;,\n",
       "                                                  OneHotEncoder(drop=&#x27;if_binary&#x27;),\n",
       "                                                  [&#x27;complexity&#x27;, &#x27;scope&#x27;,\n",
       "                                                   &#x27;type&#x27;]),\n",
       "                                                 (&#x27;binaryencoder&#x27;,\n",
       "                                                  BinaryEncoder(),\n",
       "                                                  [&#x27;line&#x27;, &#x27;ver&#x27;]),\n",
       "                                                 (&#x27;standardscaler&#x27;,\n",
       "                                                  StandardScaler(),\n",
       "                                                  [&#x27;comp&#x27;])])),\n",
       "                (&#x27;model&#x27;,\n",
       "                 TransformedTargetRegressor(func=&lt;ufunc &#x27;log&#x27;&gt;,\n",
       "                                            inverse_func=&lt;ufunc &#x27;exp&#x27;&gt;,\n",
       "                                            regressor=RandomForestRegressor()))])</pre><b>Please rerun this cell to show the HTML repr or trust the notebook.</b></div><div class=\"sk-container\" hidden><div class=\"sk-item sk-dashed-wrapped\"><div class=\"sk-label-container\"><div class=\"sk-label sk-toggleable\"><input class=\"sk-toggleable__control sk-hidden--visually\" id=\"eec19cc1-17f5-46e9-ae2f-c9f40da41a42\" type=\"checkbox\" ><label for=\"eec19cc1-17f5-46e9-ae2f-c9f40da41a42\" class=\"sk-toggleable__label sk-toggleable__label-arrow\">Pipeline</label><div class=\"sk-toggleable__content\"><pre>Pipeline(steps=[(&#x27;transformer&#x27;,\n",
       "                 ColumnTransformer(remainder=&#x27;passthrough&#x27;,\n",
       "                                   transformers=[(&#x27;onehotencoder&#x27;,\n",
       "                                                  OneHotEncoder(drop=&#x27;if_binary&#x27;),\n",
       "                                                  [&#x27;complexity&#x27;, &#x27;scope&#x27;,\n",
       "                                                   &#x27;type&#x27;]),\n",
       "                                                 (&#x27;binaryencoder&#x27;,\n",
       "                                                  BinaryEncoder(),\n",
       "                                                  [&#x27;line&#x27;, &#x27;ver&#x27;]),\n",
       "                                                 (&#x27;standardscaler&#x27;,\n",
       "                                                  StandardScaler(),\n",
       "                                                  [&#x27;comp&#x27;])])),\n",
       "                (&#x27;model&#x27;,\n",
       "                 TransformedTargetRegressor(func=&lt;ufunc &#x27;log&#x27;&gt;,\n",
       "                                            inverse_func=&lt;ufunc &#x27;exp&#x27;&gt;,\n",
       "                                            regressor=RandomForestRegressor()))])</pre></div></div></div><div class=\"sk-serial\"><div class=\"sk-item sk-dashed-wrapped\"><div class=\"sk-label-container\"><div class=\"sk-label sk-toggleable\"><input class=\"sk-toggleable__control sk-hidden--visually\" id=\"15c1f7ad-aea9-43db-8017-23043daa89f9\" type=\"checkbox\" ><label for=\"15c1f7ad-aea9-43db-8017-23043daa89f9\" class=\"sk-toggleable__label sk-toggleable__label-arrow\">transformer: ColumnTransformer</label><div class=\"sk-toggleable__content\"><pre>ColumnTransformer(remainder=&#x27;passthrough&#x27;,\n",
       "                  transformers=[(&#x27;onehotencoder&#x27;,\n",
       "                                 OneHotEncoder(drop=&#x27;if_binary&#x27;),\n",
       "                                 [&#x27;complexity&#x27;, &#x27;scope&#x27;, &#x27;type&#x27;]),\n",
       "                                (&#x27;binaryencoder&#x27;, BinaryEncoder(),\n",
       "                                 [&#x27;line&#x27;, &#x27;ver&#x27;]),\n",
       "                                (&#x27;standardscaler&#x27;, StandardScaler(), [&#x27;comp&#x27;])])</pre></div></div></div><div class=\"sk-parallel\"><div class=\"sk-parallel-item\"><div class=\"sk-item\"><div class=\"sk-label-container\"><div class=\"sk-label sk-toggleable\"><input class=\"sk-toggleable__control sk-hidden--visually\" id=\"c9596b72-58c3-4229-86f0-847735fc4107\" type=\"checkbox\" ><label for=\"c9596b72-58c3-4229-86f0-847735fc4107\" class=\"sk-toggleable__label sk-toggleable__label-arrow\">onehotencoder</label><div class=\"sk-toggleable__content\"><pre>[&#x27;complexity&#x27;, &#x27;scope&#x27;, &#x27;type&#x27;]</pre></div></div></div><div class=\"sk-serial\"><div class=\"sk-item\"><div class=\"sk-estimator sk-toggleable\"><input class=\"sk-toggleable__control sk-hidden--visually\" id=\"3c7f9073-f0a2-48e3-9ea7-95ba55af115d\" type=\"checkbox\" ><label for=\"3c7f9073-f0a2-48e3-9ea7-95ba55af115d\" class=\"sk-toggleable__label sk-toggleable__label-arrow\">OneHotEncoder</label><div class=\"sk-toggleable__content\"><pre>OneHotEncoder(drop=&#x27;if_binary&#x27;)</pre></div></div></div></div></div></div><div class=\"sk-parallel-item\"><div class=\"sk-item\"><div class=\"sk-label-container\"><div class=\"sk-label sk-toggleable\"><input class=\"sk-toggleable__control sk-hidden--visually\" id=\"17c3f22c-d401-4451-8c05-578131d5fd63\" type=\"checkbox\" ><label for=\"17c3f22c-d401-4451-8c05-578131d5fd63\" class=\"sk-toggleable__label sk-toggleable__label-arrow\">binaryencoder</label><div class=\"sk-toggleable__content\"><pre>[&#x27;line&#x27;, &#x27;ver&#x27;]</pre></div></div></div><div class=\"sk-serial\"><div class=\"sk-item\"><div class=\"sk-estimator sk-toggleable\"><input class=\"sk-toggleable__control sk-hidden--visually\" id=\"3f9a7624-9bf6-4eff-93b2-2d7fb6cbd19f\" type=\"checkbox\" ><label for=\"3f9a7624-9bf6-4eff-93b2-2d7fb6cbd19f\" class=\"sk-toggleable__label sk-toggleable__label-arrow\">BinaryEncoder</label><div class=\"sk-toggleable__content\"><pre>BinaryEncoder()</pre></div></div></div></div></div></div><div class=\"sk-parallel-item\"><div class=\"sk-item\"><div class=\"sk-label-container\"><div class=\"sk-label sk-toggleable\"><input class=\"sk-toggleable__control sk-hidden--visually\" id=\"b4470c48-defe-4af5-b44b-217bb9eb33d7\" type=\"checkbox\" ><label for=\"b4470c48-defe-4af5-b44b-217bb9eb33d7\" class=\"sk-toggleable__label sk-toggleable__label-arrow\">standardscaler</label><div class=\"sk-toggleable__content\"><pre>[&#x27;comp&#x27;]</pre></div></div></div><div class=\"sk-serial\"><div class=\"sk-item\"><div class=\"sk-estimator sk-toggleable\"><input class=\"sk-toggleable__control sk-hidden--visually\" id=\"ef66b776-ae4e-47a2-afa5-2255a271d106\" type=\"checkbox\" ><label for=\"ef66b776-ae4e-47a2-afa5-2255a271d106\" class=\"sk-toggleable__label sk-toggleable__label-arrow\">StandardScaler</label><div class=\"sk-toggleable__content\"><pre>StandardScaler()</pre></div></div></div></div></div></div><div class=\"sk-parallel-item\"><div class=\"sk-item\"><div class=\"sk-label-container\"><div class=\"sk-label sk-toggleable\"><input class=\"sk-toggleable__control sk-hidden--visually\" id=\"5a5bcd5b-e24a-41e0-9b32-8e96d1fd4848\" type=\"checkbox\" ><label for=\"5a5bcd5b-e24a-41e0-9b32-8e96d1fd4848\" class=\"sk-toggleable__label sk-toggleable__label-arrow\">remainder</label><div class=\"sk-toggleable__content\"><pre>[]</pre></div></div></div><div class=\"sk-serial\"><div class=\"sk-item\"><div class=\"sk-estimator sk-toggleable\"><input class=\"sk-toggleable__control sk-hidden--visually\" id=\"b0b05f8b-de23-437c-a845-3a93367556eb\" type=\"checkbox\" ><label for=\"b0b05f8b-de23-437c-a845-3a93367556eb\" class=\"sk-toggleable__label sk-toggleable__label-arrow\">passthrough</label><div class=\"sk-toggleable__content\"><pre>passthrough</pre></div></div></div></div></div></div></div></div><div class=\"sk-item sk-dashed-wrapped\"><div class=\"sk-label-container\"><div class=\"sk-label sk-toggleable\"><input class=\"sk-toggleable__control sk-hidden--visually\" id=\"6c8dbc2b-006b-47d9-a1af-7506e12c4d96\" type=\"checkbox\" ><label for=\"6c8dbc2b-006b-47d9-a1af-7506e12c4d96\" class=\"sk-toggleable__label sk-toggleable__label-arrow\">model: TransformedTargetRegressor</label><div class=\"sk-toggleable__content\"><pre>TransformedTargetRegressor(func=&lt;ufunc &#x27;log&#x27;&gt;, inverse_func=&lt;ufunc &#x27;exp&#x27;&gt;,\n",
       "                           regressor=RandomForestRegressor())</pre></div></div></div><div class=\"sk-parallel\"><div class=\"sk-parallel-item\"><div class=\"sk-item\"><div class=\"sk-serial\"><div class=\"sk-item\"><div class=\"sk-estimator sk-toggleable\"><input class=\"sk-toggleable__control sk-hidden--visually\" id=\"11c03816-a3d9-406d-8274-24a288c67c54\" type=\"checkbox\" ><label for=\"11c03816-a3d9-406d-8274-24a288c67c54\" class=\"sk-toggleable__label sk-toggleable__label-arrow\">RandomForestRegressor</label><div class=\"sk-toggleable__content\"><pre>RandomForestRegressor()</pre></div></div></div></div></div></div></div></div></div></div></div></div>"
      ],
      "text/plain": [
       "Pipeline(steps=[('transformer',\n",
       "                 ColumnTransformer(remainder='passthrough',\n",
       "                                   transformers=[('onehotencoder',\n",
       "                                                  OneHotEncoder(drop='if_binary'),\n",
       "                                                  ['complexity', 'scope',\n",
       "                                                   'type']),\n",
       "                                                 ('binaryencoder',\n",
       "                                                  BinaryEncoder(),\n",
       "                                                  ['line', 'ver']),\n",
       "                                                 ('standardscaler',\n",
       "                                                  StandardScaler(),\n",
       "                                                  ['comp'])])),\n",
       "                ('model',\n",
       "                 TransformedTargetRegressor(func=<ufunc 'log'>,\n",
       "                                            inverse_func=<ufunc 'exp'>,\n",
       "                                            regressor=RandomForestRegressor()))])"
      ]
     },
     "execution_count": 75,
     "metadata": {},
     "output_type": "execute_result"
    }
   ],
   "source": [
    "pipe_f = Pipeline([('transformer', transf_final),\n",
    "            ('model', TransformedTargetRegressor(regressor = RandomForestRegressor(), \n",
    "                                                 func=np.log, inverse_func=np.exp))])\n",
    "pipe_f.fit(Xf_train, yf_train)"
   ]
  },
  {
   "cell_type": "code",
   "execution_count": 76,
   "id": "d5cbe8d6",
   "metadata": {},
   "outputs": [
    {
     "data": {
      "text/html": [
       "<style>#sk-659c6de6-acf3-427d-8a44-ebfab61c3329 {color: black;background-color: white;}#sk-659c6de6-acf3-427d-8a44-ebfab61c3329 pre{padding: 0;}#sk-659c6de6-acf3-427d-8a44-ebfab61c3329 div.sk-toggleable {background-color: white;}#sk-659c6de6-acf3-427d-8a44-ebfab61c3329 label.sk-toggleable__label {cursor: pointer;display: block;width: 100%;margin-bottom: 0;padding: 0.3em;box-sizing: border-box;text-align: center;}#sk-659c6de6-acf3-427d-8a44-ebfab61c3329 label.sk-toggleable__label-arrow:before {content: \"▸\";float: left;margin-right: 0.25em;color: #696969;}#sk-659c6de6-acf3-427d-8a44-ebfab61c3329 label.sk-toggleable__label-arrow:hover:before {color: black;}#sk-659c6de6-acf3-427d-8a44-ebfab61c3329 div.sk-estimator:hover label.sk-toggleable__label-arrow:before {color: black;}#sk-659c6de6-acf3-427d-8a44-ebfab61c3329 div.sk-toggleable__content {max-height: 0;max-width: 0;overflow: hidden;text-align: left;background-color: #f0f8ff;}#sk-659c6de6-acf3-427d-8a44-ebfab61c3329 div.sk-toggleable__content pre {margin: 0.2em;color: black;border-radius: 0.25em;background-color: #f0f8ff;}#sk-659c6de6-acf3-427d-8a44-ebfab61c3329 input.sk-toggleable__control:checked~div.sk-toggleable__content {max-height: 200px;max-width: 100%;overflow: auto;}#sk-659c6de6-acf3-427d-8a44-ebfab61c3329 input.sk-toggleable__control:checked~label.sk-toggleable__label-arrow:before {content: \"▾\";}#sk-659c6de6-acf3-427d-8a44-ebfab61c3329 div.sk-estimator input.sk-toggleable__control:checked~label.sk-toggleable__label {background-color: #d4ebff;}#sk-659c6de6-acf3-427d-8a44-ebfab61c3329 div.sk-label input.sk-toggleable__control:checked~label.sk-toggleable__label {background-color: #d4ebff;}#sk-659c6de6-acf3-427d-8a44-ebfab61c3329 input.sk-hidden--visually {border: 0;clip: rect(1px 1px 1px 1px);clip: rect(1px, 1px, 1px, 1px);height: 1px;margin: -1px;overflow: hidden;padding: 0;position: absolute;width: 1px;}#sk-659c6de6-acf3-427d-8a44-ebfab61c3329 div.sk-estimator {font-family: monospace;background-color: #f0f8ff;border: 1px dotted black;border-radius: 0.25em;box-sizing: border-box;margin-bottom: 0.5em;}#sk-659c6de6-acf3-427d-8a44-ebfab61c3329 div.sk-estimator:hover {background-color: #d4ebff;}#sk-659c6de6-acf3-427d-8a44-ebfab61c3329 div.sk-parallel-item::after {content: \"\";width: 100%;border-bottom: 1px solid gray;flex-grow: 1;}#sk-659c6de6-acf3-427d-8a44-ebfab61c3329 div.sk-label:hover label.sk-toggleable__label {background-color: #d4ebff;}#sk-659c6de6-acf3-427d-8a44-ebfab61c3329 div.sk-serial::before {content: \"\";position: absolute;border-left: 1px solid gray;box-sizing: border-box;top: 2em;bottom: 0;left: 50%;}#sk-659c6de6-acf3-427d-8a44-ebfab61c3329 div.sk-serial {display: flex;flex-direction: column;align-items: center;background-color: white;padding-right: 0.2em;padding-left: 0.2em;}#sk-659c6de6-acf3-427d-8a44-ebfab61c3329 div.sk-item {z-index: 1;}#sk-659c6de6-acf3-427d-8a44-ebfab61c3329 div.sk-parallel {display: flex;align-items: stretch;justify-content: center;background-color: white;}#sk-659c6de6-acf3-427d-8a44-ebfab61c3329 div.sk-parallel::before {content: \"\";position: absolute;border-left: 1px solid gray;box-sizing: border-box;top: 2em;bottom: 0;left: 50%;}#sk-659c6de6-acf3-427d-8a44-ebfab61c3329 div.sk-parallel-item {display: flex;flex-direction: column;position: relative;background-color: white;}#sk-659c6de6-acf3-427d-8a44-ebfab61c3329 div.sk-parallel-item:first-child::after {align-self: flex-end;width: 50%;}#sk-659c6de6-acf3-427d-8a44-ebfab61c3329 div.sk-parallel-item:last-child::after {align-self: flex-start;width: 50%;}#sk-659c6de6-acf3-427d-8a44-ebfab61c3329 div.sk-parallel-item:only-child::after {width: 0;}#sk-659c6de6-acf3-427d-8a44-ebfab61c3329 div.sk-dashed-wrapped {border: 1px dashed gray;margin: 0 0.4em 0.5em 0.4em;box-sizing: border-box;padding-bottom: 0.4em;background-color: white;position: relative;}#sk-659c6de6-acf3-427d-8a44-ebfab61c3329 div.sk-label label {font-family: monospace;font-weight: bold;background-color: white;display: inline-block;line-height: 1.2em;}#sk-659c6de6-acf3-427d-8a44-ebfab61c3329 div.sk-label-container {position: relative;z-index: 2;text-align: center;}#sk-659c6de6-acf3-427d-8a44-ebfab61c3329 div.sk-container {/* jupyter's `normalize.less` sets `[hidden] { display: none; }` but bootstrap.min.css set `[hidden] { display: none !important; }` so we also need the `!important` here to be able to override the default hidden behavior on the sphinx rendered scikit-learn.org. See: https://github.com/scikit-learn/scikit-learn/issues/21755 */display: inline-block !important;position: relative;}#sk-659c6de6-acf3-427d-8a44-ebfab61c3329 div.sk-text-repr-fallback {display: none;}</style><div id=\"sk-659c6de6-acf3-427d-8a44-ebfab61c3329\" class=\"sk-top-container\"><div class=\"sk-text-repr-fallback\"><pre>GridSearchCV(estimator=Pipeline(steps=[(&#x27;transformer&#x27;,\n",
       "                                        ColumnTransformer(remainder=&#x27;passthrough&#x27;,\n",
       "                                                          transformers=[(&#x27;onehotencoder&#x27;,\n",
       "                                                                         OneHotEncoder(drop=&#x27;if_binary&#x27;),\n",
       "                                                                         [&#x27;complexity&#x27;,\n",
       "                                                                          &#x27;scope&#x27;,\n",
       "                                                                          &#x27;type&#x27;]),\n",
       "                                                                        (&#x27;binaryencoder&#x27;,\n",
       "                                                                         BinaryEncoder(),\n",
       "                                                                         [&#x27;line&#x27;,\n",
       "                                                                          &#x27;ver&#x27;]),\n",
       "                                                                        (&#x27;standardscaler&#x27;,\n",
       "                                                                         StandardScaler(),\n",
       "                                                                         [&#x27;comp&#x27;])])),\n",
       "                                       (&#x27;model&#x27;,\n",
       "                                        TransformedTargetRegressor(func=&lt;ufunc &#x27;log&#x27;&gt;,\n",
       "                                                                   inverse_func=&lt;ufunc &#x27;exp&#x27;&gt;,\n",
       "                                                                   regressor=RandomForestRegressor()))]),\n",
       "             param_grid={&#x27;model__regressor__n_estimators&#x27;: range(1, 20),\n",
       "                         &#x27;model__regressor__random_state&#x27;: range(1, 42)},\n",
       "             scoring=&#x27;r2&#x27;)</pre><b>Please rerun this cell to show the HTML repr or trust the notebook.</b></div><div class=\"sk-container\" hidden><div class=\"sk-item sk-dashed-wrapped\"><div class=\"sk-label-container\"><div class=\"sk-label sk-toggleable\"><input class=\"sk-toggleable__control sk-hidden--visually\" id=\"7e577d32-96dd-4713-8c85-3359fa1bf89c\" type=\"checkbox\" ><label for=\"7e577d32-96dd-4713-8c85-3359fa1bf89c\" class=\"sk-toggleable__label sk-toggleable__label-arrow\">GridSearchCV</label><div class=\"sk-toggleable__content\"><pre>GridSearchCV(estimator=Pipeline(steps=[(&#x27;transformer&#x27;,\n",
       "                                        ColumnTransformer(remainder=&#x27;passthrough&#x27;,\n",
       "                                                          transformers=[(&#x27;onehotencoder&#x27;,\n",
       "                                                                         OneHotEncoder(drop=&#x27;if_binary&#x27;),\n",
       "                                                                         [&#x27;complexity&#x27;,\n",
       "                                                                          &#x27;scope&#x27;,\n",
       "                                                                          &#x27;type&#x27;]),\n",
       "                                                                        (&#x27;binaryencoder&#x27;,\n",
       "                                                                         BinaryEncoder(),\n",
       "                                                                         [&#x27;line&#x27;,\n",
       "                                                                          &#x27;ver&#x27;]),\n",
       "                                                                        (&#x27;standardscaler&#x27;,\n",
       "                                                                         StandardScaler(),\n",
       "                                                                         [&#x27;comp&#x27;])])),\n",
       "                                       (&#x27;model&#x27;,\n",
       "                                        TransformedTargetRegressor(func=&lt;ufunc &#x27;log&#x27;&gt;,\n",
       "                                                                   inverse_func=&lt;ufunc &#x27;exp&#x27;&gt;,\n",
       "                                                                   regressor=RandomForestRegressor()))]),\n",
       "             param_grid={&#x27;model__regressor__n_estimators&#x27;: range(1, 20),\n",
       "                         &#x27;model__regressor__random_state&#x27;: range(1, 42)},\n",
       "             scoring=&#x27;r2&#x27;)</pre></div></div></div><div class=\"sk-parallel\"><div class=\"sk-parallel-item\"><div class=\"sk-item\"><div class=\"sk-serial\"><div class=\"sk-item\"><div class=\"sk-serial\"><div class=\"sk-item sk-dashed-wrapped\"><div class=\"sk-label-container\"><div class=\"sk-label sk-toggleable\"><input class=\"sk-toggleable__control sk-hidden--visually\" id=\"c37449a5-a3d7-4df6-aed3-487766b75f7e\" type=\"checkbox\" ><label for=\"c37449a5-a3d7-4df6-aed3-487766b75f7e\" class=\"sk-toggleable__label sk-toggleable__label-arrow\">transformer: ColumnTransformer</label><div class=\"sk-toggleable__content\"><pre>ColumnTransformer(remainder=&#x27;passthrough&#x27;,\n",
       "                  transformers=[(&#x27;onehotencoder&#x27;,\n",
       "                                 OneHotEncoder(drop=&#x27;if_binary&#x27;),\n",
       "                                 [&#x27;complexity&#x27;, &#x27;scope&#x27;, &#x27;type&#x27;]),\n",
       "                                (&#x27;binaryencoder&#x27;, BinaryEncoder(),\n",
       "                                 [&#x27;line&#x27;, &#x27;ver&#x27;]),\n",
       "                                (&#x27;standardscaler&#x27;, StandardScaler(), [&#x27;comp&#x27;])])</pre></div></div></div><div class=\"sk-parallel\"><div class=\"sk-parallel-item\"><div class=\"sk-item\"><div class=\"sk-label-container\"><div class=\"sk-label sk-toggleable\"><input class=\"sk-toggleable__control sk-hidden--visually\" id=\"fdd30da9-d277-418d-8352-c4d267fe28b5\" type=\"checkbox\" ><label for=\"fdd30da9-d277-418d-8352-c4d267fe28b5\" class=\"sk-toggleable__label sk-toggleable__label-arrow\">onehotencoder</label><div class=\"sk-toggleable__content\"><pre>[&#x27;complexity&#x27;, &#x27;scope&#x27;, &#x27;type&#x27;]</pre></div></div></div><div class=\"sk-serial\"><div class=\"sk-item\"><div class=\"sk-estimator sk-toggleable\"><input class=\"sk-toggleable__control sk-hidden--visually\" id=\"4ce9e3a6-dd05-4afa-b8eb-c06991170153\" type=\"checkbox\" ><label for=\"4ce9e3a6-dd05-4afa-b8eb-c06991170153\" class=\"sk-toggleable__label sk-toggleable__label-arrow\">OneHotEncoder</label><div class=\"sk-toggleable__content\"><pre>OneHotEncoder(drop=&#x27;if_binary&#x27;)</pre></div></div></div></div></div></div><div class=\"sk-parallel-item\"><div class=\"sk-item\"><div class=\"sk-label-container\"><div class=\"sk-label sk-toggleable\"><input class=\"sk-toggleable__control sk-hidden--visually\" id=\"a468e265-08d6-426f-9451-472674c93926\" type=\"checkbox\" ><label for=\"a468e265-08d6-426f-9451-472674c93926\" class=\"sk-toggleable__label sk-toggleable__label-arrow\">binaryencoder</label><div class=\"sk-toggleable__content\"><pre>[&#x27;line&#x27;, &#x27;ver&#x27;]</pre></div></div></div><div class=\"sk-serial\"><div class=\"sk-item\"><div class=\"sk-estimator sk-toggleable\"><input class=\"sk-toggleable__control sk-hidden--visually\" id=\"edcde2eb-3d7a-45b4-855c-5e9f24eb5c43\" type=\"checkbox\" ><label for=\"edcde2eb-3d7a-45b4-855c-5e9f24eb5c43\" class=\"sk-toggleable__label sk-toggleable__label-arrow\">BinaryEncoder</label><div class=\"sk-toggleable__content\"><pre>BinaryEncoder()</pre></div></div></div></div></div></div><div class=\"sk-parallel-item\"><div class=\"sk-item\"><div class=\"sk-label-container\"><div class=\"sk-label sk-toggleable\"><input class=\"sk-toggleable__control sk-hidden--visually\" id=\"7094ebe5-a47f-493f-99bd-9ca8c3073cc9\" type=\"checkbox\" ><label for=\"7094ebe5-a47f-493f-99bd-9ca8c3073cc9\" class=\"sk-toggleable__label sk-toggleable__label-arrow\">standardscaler</label><div class=\"sk-toggleable__content\"><pre>[&#x27;comp&#x27;]</pre></div></div></div><div class=\"sk-serial\"><div class=\"sk-item\"><div class=\"sk-estimator sk-toggleable\"><input class=\"sk-toggleable__control sk-hidden--visually\" id=\"dc8dc127-9ca4-4cef-9cee-7e1a19d5508f\" type=\"checkbox\" ><label for=\"dc8dc127-9ca4-4cef-9cee-7e1a19d5508f\" class=\"sk-toggleable__label sk-toggleable__label-arrow\">StandardScaler</label><div class=\"sk-toggleable__content\"><pre>StandardScaler()</pre></div></div></div></div></div></div><div class=\"sk-parallel-item\"><div class=\"sk-item\"><div class=\"sk-label-container\"><div class=\"sk-label sk-toggleable\"><input class=\"sk-toggleable__control sk-hidden--visually\" id=\"692aaef1-5a53-47a3-904c-50e2a009c046\" type=\"checkbox\" ><label for=\"692aaef1-5a53-47a3-904c-50e2a009c046\" class=\"sk-toggleable__label sk-toggleable__label-arrow\">remainder</label><div class=\"sk-toggleable__content\"><pre>[]</pre></div></div></div><div class=\"sk-serial\"><div class=\"sk-item\"><div class=\"sk-estimator sk-toggleable\"><input class=\"sk-toggleable__control sk-hidden--visually\" id=\"4c43e80f-4502-469c-ade7-d27c5c30f251\" type=\"checkbox\" ><label for=\"4c43e80f-4502-469c-ade7-d27c5c30f251\" class=\"sk-toggleable__label sk-toggleable__label-arrow\">passthrough</label><div class=\"sk-toggleable__content\"><pre>passthrough</pre></div></div></div></div></div></div></div></div><div class=\"sk-item sk-dashed-wrapped\"><div class=\"sk-label-container\"><div class=\"sk-label sk-toggleable\"><input class=\"sk-toggleable__control sk-hidden--visually\" id=\"30215c88-eb66-484e-8d11-989c5bca2e67\" type=\"checkbox\" ><label for=\"30215c88-eb66-484e-8d11-989c5bca2e67\" class=\"sk-toggleable__label sk-toggleable__label-arrow\">model: TransformedTargetRegressor</label><div class=\"sk-toggleable__content\"><pre>TransformedTargetRegressor(func=&lt;ufunc &#x27;log&#x27;&gt;, inverse_func=&lt;ufunc &#x27;exp&#x27;&gt;,\n",
       "                           regressor=RandomForestRegressor())</pre></div></div></div><div class=\"sk-parallel\"><div class=\"sk-parallel-item\"><div class=\"sk-item\"><div class=\"sk-serial\"><div class=\"sk-item\"><div class=\"sk-estimator sk-toggleable\"><input class=\"sk-toggleable__control sk-hidden--visually\" id=\"953f1177-52f3-466e-9818-b4570cf2b601\" type=\"checkbox\" ><label for=\"953f1177-52f3-466e-9818-b4570cf2b601\" class=\"sk-toggleable__label sk-toggleable__label-arrow\">RandomForestRegressor</label><div class=\"sk-toggleable__content\"><pre>RandomForestRegressor()</pre></div></div></div></div></div></div></div></div></div></div></div></div></div></div></div></div></div>"
      ],
      "text/plain": [
       "GridSearchCV(estimator=Pipeline(steps=[('transformer',\n",
       "                                        ColumnTransformer(remainder='passthrough',\n",
       "                                                          transformers=[('onehotencoder',\n",
       "                                                                         OneHotEncoder(drop='if_binary'),\n",
       "                                                                         ['complexity',\n",
       "                                                                          'scope',\n",
       "                                                                          'type']),\n",
       "                                                                        ('binaryencoder',\n",
       "                                                                         BinaryEncoder(),\n",
       "                                                                         ['line',\n",
       "                                                                          'ver']),\n",
       "                                                                        ('standardscaler',\n",
       "                                                                         StandardScaler(),\n",
       "                                                                         ['comp'])])),\n",
       "                                       ('model',\n",
       "                                        TransformedTargetRegressor(func=<ufunc 'log'>,\n",
       "                                                                   inverse_func=<ufunc 'exp'>,\n",
       "                                                                   regressor=RandomForestRegressor()))]),\n",
       "             param_grid={'model__regressor__n_estimators': range(1, 20),\n",
       "                         'model__regressor__random_state': range(1, 42)},\n",
       "             scoring='r2')"
      ]
     },
     "execution_count": 76,
     "metadata": {},
     "output_type": "execute_result"
    }
   ],
   "source": [
    "#grid for pipe final\n",
    "param_f = {'model__regressor__n_estimators': range(1, 20, 1),\n",
    "         'model__regressor__random_state': range(1, 42, 1)}\n",
    "grid_f = GridSearchCV(pipe_f, param_f, scoring = 'r2')\n",
    "grid_f.fit(Xf_train, yf_train)"
   ]
  },
  {
   "cell_type": "code",
   "execution_count": 77,
   "id": "64d6fea1",
   "metadata": {},
   "outputs": [
    {
     "name": "stdout",
     "output_type": "stream",
     "text": [
      "Grid2 Train MAE: 5.43\n",
      "Grid2 Test MAE: 12.82\n",
      "Best parameter: {'model__regressor__n_estimators': 13, 'model__regressor__random_state': 6}\n",
      "Best score: 0.2925901585889648\n"
     ]
    }
   ],
   "source": [
    "pred_train_grid_f = grid_f.predict(Xf_train)\n",
    "pred_test_grid_f = grid_f.predict(Xf_test)\n",
    "grid_f_train_mae = median_absolute_error(yf_train, pred_train_grid_f)\n",
    "grid_f_test_mae = median_absolute_error(yf_test, pred_test_grid_f)\n",
    "print(f'Grid2 Train MAE: {round(grid_f_train_mae, 2)}')\n",
    "print(f'Grid2 Test MAE: {round(grid_f_test_mae, 2)}')\n",
    "print(f'Best parameter: {grid_f.best_params_}')\n",
    "print(f'Best score: {grid_f.best_score_}')"
   ]
  },
  {
   "cell_type": "code",
   "execution_count": 78,
   "id": "0809f803",
   "metadata": {},
   "outputs": [
    {
     "data": {
      "text/html": [
       "<style>#sk-1dd764a3-5bf1-414f-b520-8a6e773d95f1 {color: black;background-color: white;}#sk-1dd764a3-5bf1-414f-b520-8a6e773d95f1 pre{padding: 0;}#sk-1dd764a3-5bf1-414f-b520-8a6e773d95f1 div.sk-toggleable {background-color: white;}#sk-1dd764a3-5bf1-414f-b520-8a6e773d95f1 label.sk-toggleable__label {cursor: pointer;display: block;width: 100%;margin-bottom: 0;padding: 0.3em;box-sizing: border-box;text-align: center;}#sk-1dd764a3-5bf1-414f-b520-8a6e773d95f1 label.sk-toggleable__label-arrow:before {content: \"▸\";float: left;margin-right: 0.25em;color: #696969;}#sk-1dd764a3-5bf1-414f-b520-8a6e773d95f1 label.sk-toggleable__label-arrow:hover:before {color: black;}#sk-1dd764a3-5bf1-414f-b520-8a6e773d95f1 div.sk-estimator:hover label.sk-toggleable__label-arrow:before {color: black;}#sk-1dd764a3-5bf1-414f-b520-8a6e773d95f1 div.sk-toggleable__content {max-height: 0;max-width: 0;overflow: hidden;text-align: left;background-color: #f0f8ff;}#sk-1dd764a3-5bf1-414f-b520-8a6e773d95f1 div.sk-toggleable__content pre {margin: 0.2em;color: black;border-radius: 0.25em;background-color: #f0f8ff;}#sk-1dd764a3-5bf1-414f-b520-8a6e773d95f1 input.sk-toggleable__control:checked~div.sk-toggleable__content {max-height: 200px;max-width: 100%;overflow: auto;}#sk-1dd764a3-5bf1-414f-b520-8a6e773d95f1 input.sk-toggleable__control:checked~label.sk-toggleable__label-arrow:before {content: \"▾\";}#sk-1dd764a3-5bf1-414f-b520-8a6e773d95f1 div.sk-estimator input.sk-toggleable__control:checked~label.sk-toggleable__label {background-color: #d4ebff;}#sk-1dd764a3-5bf1-414f-b520-8a6e773d95f1 div.sk-label input.sk-toggleable__control:checked~label.sk-toggleable__label {background-color: #d4ebff;}#sk-1dd764a3-5bf1-414f-b520-8a6e773d95f1 input.sk-hidden--visually {border: 0;clip: rect(1px 1px 1px 1px);clip: rect(1px, 1px, 1px, 1px);height: 1px;margin: -1px;overflow: hidden;padding: 0;position: absolute;width: 1px;}#sk-1dd764a3-5bf1-414f-b520-8a6e773d95f1 div.sk-estimator {font-family: monospace;background-color: #f0f8ff;border: 1px dotted black;border-radius: 0.25em;box-sizing: border-box;margin-bottom: 0.5em;}#sk-1dd764a3-5bf1-414f-b520-8a6e773d95f1 div.sk-estimator:hover {background-color: #d4ebff;}#sk-1dd764a3-5bf1-414f-b520-8a6e773d95f1 div.sk-parallel-item::after {content: \"\";width: 100%;border-bottom: 1px solid gray;flex-grow: 1;}#sk-1dd764a3-5bf1-414f-b520-8a6e773d95f1 div.sk-label:hover label.sk-toggleable__label {background-color: #d4ebff;}#sk-1dd764a3-5bf1-414f-b520-8a6e773d95f1 div.sk-serial::before {content: \"\";position: absolute;border-left: 1px solid gray;box-sizing: border-box;top: 2em;bottom: 0;left: 50%;}#sk-1dd764a3-5bf1-414f-b520-8a6e773d95f1 div.sk-serial {display: flex;flex-direction: column;align-items: center;background-color: white;padding-right: 0.2em;padding-left: 0.2em;}#sk-1dd764a3-5bf1-414f-b520-8a6e773d95f1 div.sk-item {z-index: 1;}#sk-1dd764a3-5bf1-414f-b520-8a6e773d95f1 div.sk-parallel {display: flex;align-items: stretch;justify-content: center;background-color: white;}#sk-1dd764a3-5bf1-414f-b520-8a6e773d95f1 div.sk-parallel::before {content: \"\";position: absolute;border-left: 1px solid gray;box-sizing: border-box;top: 2em;bottom: 0;left: 50%;}#sk-1dd764a3-5bf1-414f-b520-8a6e773d95f1 div.sk-parallel-item {display: flex;flex-direction: column;position: relative;background-color: white;}#sk-1dd764a3-5bf1-414f-b520-8a6e773d95f1 div.sk-parallel-item:first-child::after {align-self: flex-end;width: 50%;}#sk-1dd764a3-5bf1-414f-b520-8a6e773d95f1 div.sk-parallel-item:last-child::after {align-self: flex-start;width: 50%;}#sk-1dd764a3-5bf1-414f-b520-8a6e773d95f1 div.sk-parallel-item:only-child::after {width: 0;}#sk-1dd764a3-5bf1-414f-b520-8a6e773d95f1 div.sk-dashed-wrapped {border: 1px dashed gray;margin: 0 0.4em 0.5em 0.4em;box-sizing: border-box;padding-bottom: 0.4em;background-color: white;position: relative;}#sk-1dd764a3-5bf1-414f-b520-8a6e773d95f1 div.sk-label label {font-family: monospace;font-weight: bold;background-color: white;display: inline-block;line-height: 1.2em;}#sk-1dd764a3-5bf1-414f-b520-8a6e773d95f1 div.sk-label-container {position: relative;z-index: 2;text-align: center;}#sk-1dd764a3-5bf1-414f-b520-8a6e773d95f1 div.sk-container {/* jupyter's `normalize.less` sets `[hidden] { display: none; }` but bootstrap.min.css set `[hidden] { display: none !important; }` so we also need the `!important` here to be able to override the default hidden behavior on the sphinx rendered scikit-learn.org. See: https://github.com/scikit-learn/scikit-learn/issues/21755 */display: inline-block !important;position: relative;}#sk-1dd764a3-5bf1-414f-b520-8a6e773d95f1 div.sk-text-repr-fallback {display: none;}</style><div id=\"sk-1dd764a3-5bf1-414f-b520-8a6e773d95f1\" class=\"sk-top-container\"><div class=\"sk-text-repr-fallback\"><pre>Pipeline(steps=[(&#x27;transformer&#x27;,\n",
       "                 ColumnTransformer(remainder=&#x27;passthrough&#x27;,\n",
       "                                   transformers=[(&#x27;onehotencoder&#x27;,\n",
       "                                                  OneHotEncoder(drop=&#x27;if_binary&#x27;),\n",
       "                                                  [&#x27;complexity&#x27;, &#x27;scope&#x27;,\n",
       "                                                   &#x27;type&#x27;]),\n",
       "                                                 (&#x27;binaryencoder&#x27;,\n",
       "                                                  BinaryEncoder(),\n",
       "                                                  [&#x27;line&#x27;, &#x27;ver&#x27;]),\n",
       "                                                 (&#x27;standardscaler&#x27;,\n",
       "                                                  StandardScaler(),\n",
       "                                                  [&#x27;comp&#x27;])])),\n",
       "                (&#x27;model&#x27;,\n",
       "                 TransformedTargetRegressor(func=&lt;ufunc &#x27;log&#x27;&gt;,\n",
       "                                            inverse_func=&lt;ufunc &#x27;exp&#x27;&gt;,\n",
       "                                            regressor=RandomForestRegressor(n_estimators=9,\n",
       "                                                                            random_state=38)))])</pre><b>Please rerun this cell to show the HTML repr or trust the notebook.</b></div><div class=\"sk-container\" hidden><div class=\"sk-item sk-dashed-wrapped\"><div class=\"sk-label-container\"><div class=\"sk-label sk-toggleable\"><input class=\"sk-toggleable__control sk-hidden--visually\" id=\"9d10e9ae-0d9e-40df-af39-6f4f24e60869\" type=\"checkbox\" ><label for=\"9d10e9ae-0d9e-40df-af39-6f4f24e60869\" class=\"sk-toggleable__label sk-toggleable__label-arrow\">Pipeline</label><div class=\"sk-toggleable__content\"><pre>Pipeline(steps=[(&#x27;transformer&#x27;,\n",
       "                 ColumnTransformer(remainder=&#x27;passthrough&#x27;,\n",
       "                                   transformers=[(&#x27;onehotencoder&#x27;,\n",
       "                                                  OneHotEncoder(drop=&#x27;if_binary&#x27;),\n",
       "                                                  [&#x27;complexity&#x27;, &#x27;scope&#x27;,\n",
       "                                                   &#x27;type&#x27;]),\n",
       "                                                 (&#x27;binaryencoder&#x27;,\n",
       "                                                  BinaryEncoder(),\n",
       "                                                  [&#x27;line&#x27;, &#x27;ver&#x27;]),\n",
       "                                                 (&#x27;standardscaler&#x27;,\n",
       "                                                  StandardScaler(),\n",
       "                                                  [&#x27;comp&#x27;])])),\n",
       "                (&#x27;model&#x27;,\n",
       "                 TransformedTargetRegressor(func=&lt;ufunc &#x27;log&#x27;&gt;,\n",
       "                                            inverse_func=&lt;ufunc &#x27;exp&#x27;&gt;,\n",
       "                                            regressor=RandomForestRegressor(n_estimators=9,\n",
       "                                                                            random_state=38)))])</pre></div></div></div><div class=\"sk-serial\"><div class=\"sk-item sk-dashed-wrapped\"><div class=\"sk-label-container\"><div class=\"sk-label sk-toggleable\"><input class=\"sk-toggleable__control sk-hidden--visually\" id=\"02e3416d-3e75-4829-9314-6e1b3f80b381\" type=\"checkbox\" ><label for=\"02e3416d-3e75-4829-9314-6e1b3f80b381\" class=\"sk-toggleable__label sk-toggleable__label-arrow\">transformer: ColumnTransformer</label><div class=\"sk-toggleable__content\"><pre>ColumnTransformer(remainder=&#x27;passthrough&#x27;,\n",
       "                  transformers=[(&#x27;onehotencoder&#x27;,\n",
       "                                 OneHotEncoder(drop=&#x27;if_binary&#x27;),\n",
       "                                 [&#x27;complexity&#x27;, &#x27;scope&#x27;, &#x27;type&#x27;]),\n",
       "                                (&#x27;binaryencoder&#x27;, BinaryEncoder(),\n",
       "                                 [&#x27;line&#x27;, &#x27;ver&#x27;]),\n",
       "                                (&#x27;standardscaler&#x27;, StandardScaler(), [&#x27;comp&#x27;])])</pre></div></div></div><div class=\"sk-parallel\"><div class=\"sk-parallel-item\"><div class=\"sk-item\"><div class=\"sk-label-container\"><div class=\"sk-label sk-toggleable\"><input class=\"sk-toggleable__control sk-hidden--visually\" id=\"e26e4ce4-eb3b-478c-88bf-f712014ba17e\" type=\"checkbox\" ><label for=\"e26e4ce4-eb3b-478c-88bf-f712014ba17e\" class=\"sk-toggleable__label sk-toggleable__label-arrow\">onehotencoder</label><div class=\"sk-toggleable__content\"><pre>[&#x27;complexity&#x27;, &#x27;scope&#x27;, &#x27;type&#x27;]</pre></div></div></div><div class=\"sk-serial\"><div class=\"sk-item\"><div class=\"sk-estimator sk-toggleable\"><input class=\"sk-toggleable__control sk-hidden--visually\" id=\"971f92f5-dbe1-4622-af97-83e8789c9ccc\" type=\"checkbox\" ><label for=\"971f92f5-dbe1-4622-af97-83e8789c9ccc\" class=\"sk-toggleable__label sk-toggleable__label-arrow\">OneHotEncoder</label><div class=\"sk-toggleable__content\"><pre>OneHotEncoder(drop=&#x27;if_binary&#x27;)</pre></div></div></div></div></div></div><div class=\"sk-parallel-item\"><div class=\"sk-item\"><div class=\"sk-label-container\"><div class=\"sk-label sk-toggleable\"><input class=\"sk-toggleable__control sk-hidden--visually\" id=\"19be6585-837b-448e-900d-8ffb0909ae2b\" type=\"checkbox\" ><label for=\"19be6585-837b-448e-900d-8ffb0909ae2b\" class=\"sk-toggleable__label sk-toggleable__label-arrow\">binaryencoder</label><div class=\"sk-toggleable__content\"><pre>[&#x27;line&#x27;, &#x27;ver&#x27;]</pre></div></div></div><div class=\"sk-serial\"><div class=\"sk-item\"><div class=\"sk-estimator sk-toggleable\"><input class=\"sk-toggleable__control sk-hidden--visually\" id=\"71a2fd81-7ae1-4149-85ea-f346a18d1131\" type=\"checkbox\" ><label for=\"71a2fd81-7ae1-4149-85ea-f346a18d1131\" class=\"sk-toggleable__label sk-toggleable__label-arrow\">BinaryEncoder</label><div class=\"sk-toggleable__content\"><pre>BinaryEncoder()</pre></div></div></div></div></div></div><div class=\"sk-parallel-item\"><div class=\"sk-item\"><div class=\"sk-label-container\"><div class=\"sk-label sk-toggleable\"><input class=\"sk-toggleable__control sk-hidden--visually\" id=\"6c17508e-00a9-4445-9f73-3dd10778e588\" type=\"checkbox\" ><label for=\"6c17508e-00a9-4445-9f73-3dd10778e588\" class=\"sk-toggleable__label sk-toggleable__label-arrow\">standardscaler</label><div class=\"sk-toggleable__content\"><pre>[&#x27;comp&#x27;]</pre></div></div></div><div class=\"sk-serial\"><div class=\"sk-item\"><div class=\"sk-estimator sk-toggleable\"><input class=\"sk-toggleable__control sk-hidden--visually\" id=\"2324b8f9-14a9-4327-9e70-88dbcf40d0ea\" type=\"checkbox\" ><label for=\"2324b8f9-14a9-4327-9e70-88dbcf40d0ea\" class=\"sk-toggleable__label sk-toggleable__label-arrow\">StandardScaler</label><div class=\"sk-toggleable__content\"><pre>StandardScaler()</pre></div></div></div></div></div></div><div class=\"sk-parallel-item\"><div class=\"sk-item\"><div class=\"sk-label-container\"><div class=\"sk-label sk-toggleable\"><input class=\"sk-toggleable__control sk-hidden--visually\" id=\"6bc16a80-bdc1-4ea0-b5b4-8a43478f1819\" type=\"checkbox\" ><label for=\"6bc16a80-bdc1-4ea0-b5b4-8a43478f1819\" class=\"sk-toggleable__label sk-toggleable__label-arrow\">remainder</label><div class=\"sk-toggleable__content\"><pre>[]</pre></div></div></div><div class=\"sk-serial\"><div class=\"sk-item\"><div class=\"sk-estimator sk-toggleable\"><input class=\"sk-toggleable__control sk-hidden--visually\" id=\"973fbcff-acbb-4882-aea9-cc91d8c00e9f\" type=\"checkbox\" ><label for=\"973fbcff-acbb-4882-aea9-cc91d8c00e9f\" class=\"sk-toggleable__label sk-toggleable__label-arrow\">passthrough</label><div class=\"sk-toggleable__content\"><pre>passthrough</pre></div></div></div></div></div></div></div></div><div class=\"sk-item sk-dashed-wrapped\"><div class=\"sk-label-container\"><div class=\"sk-label sk-toggleable\"><input class=\"sk-toggleable__control sk-hidden--visually\" id=\"4f02fc7f-1e9e-4403-950e-a697c9c35a67\" type=\"checkbox\" ><label for=\"4f02fc7f-1e9e-4403-950e-a697c9c35a67\" class=\"sk-toggleable__label sk-toggleable__label-arrow\">model: TransformedTargetRegressor</label><div class=\"sk-toggleable__content\"><pre>TransformedTargetRegressor(func=&lt;ufunc &#x27;log&#x27;&gt;, inverse_func=&lt;ufunc &#x27;exp&#x27;&gt;,\n",
       "                           regressor=RandomForestRegressor(n_estimators=9,\n",
       "                                                           random_state=38))</pre></div></div></div><div class=\"sk-parallel\"><div class=\"sk-parallel-item\"><div class=\"sk-item\"><div class=\"sk-serial\"><div class=\"sk-item\"><div class=\"sk-estimator sk-toggleable\"><input class=\"sk-toggleable__control sk-hidden--visually\" id=\"2d8ae5e9-1048-4daf-9705-c7ced02f6487\" type=\"checkbox\" ><label for=\"2d8ae5e9-1048-4daf-9705-c7ced02f6487\" class=\"sk-toggleable__label sk-toggleable__label-arrow\">RandomForestRegressor</label><div class=\"sk-toggleable__content\"><pre>RandomForestRegressor(n_estimators=9, random_state=38)</pre></div></div></div></div></div></div></div></div></div></div></div></div>"
      ],
      "text/plain": [
       "Pipeline(steps=[('transformer',\n",
       "                 ColumnTransformer(remainder='passthrough',\n",
       "                                   transformers=[('onehotencoder',\n",
       "                                                  OneHotEncoder(drop='if_binary'),\n",
       "                                                  ['complexity', 'scope',\n",
       "                                                   'type']),\n",
       "                                                 ('binaryencoder',\n",
       "                                                  BinaryEncoder(),\n",
       "                                                  ['line', 'ver']),\n",
       "                                                 ('standardscaler',\n",
       "                                                  StandardScaler(),\n",
       "                                                  ['comp'])])),\n",
       "                ('model',\n",
       "                 TransformedTargetRegressor(func=<ufunc 'log'>,\n",
       "                                            inverse_func=<ufunc 'exp'>,\n",
       "                                            regressor=RandomForestRegressor(n_estimators=9,\n",
       "                                                                            random_state=38)))])"
      ]
     },
     "execution_count": 78,
     "metadata": {},
     "output_type": "execute_result"
    }
   ],
   "source": [
    "# inserting the best parameters in the final pipe\n",
    "pipe_final = Pipeline([('transformer', transf_final),\n",
    "            ('model', TransformedTargetRegressor(regressor = RandomForestRegressor(n_estimators = 9,\n",
    "                                                random_state = 38), \n",
    "                                                func=np.log, inverse_func=np.exp))])\n",
    "pipe_final.fit(Xf_train, yf_train)"
   ]
  },
  {
   "cell_type": "code",
   "execution_count": 79,
   "id": "c6d43a7e",
   "metadata": {},
   "outputs": [
    {
     "name": "stdout",
     "output_type": "stream",
     "text": [
      "Pipe_final Train MAE: 5.069325557074565\n",
      "Pipe_final Test MAE: 11.530281167808276\n",
      "Pipe_final Accuracy Score: 0.36124569606842216\n"
     ]
    }
   ],
   "source": [
    "pred_final_train = pipe_final.predict(Xf_train)\n",
    "pred_final_test = pipe_final.predict(Xf_test)\n",
    "score_final = pipe_final.score(Xf_test, yf_test)\n",
    "print(f'Pipe_final Train MAE: {median_absolute_error(yf_train, pred_final_train)}')\n",
    "print(f'Pipe_final Test MAE: {median_absolute_error(yf_test, pred_final_test)}')\n",
    "print(f'Pipe_final Accuracy Score: {score_final}')"
   ]
  },
  {
   "cell_type": "code",
   "execution_count": 80,
   "id": "4736c525",
   "metadata": {},
   "outputs": [
    {
     "data": {
      "image/png": "[encoded data removed]",
      "text/plain": [
       "<Figure size 432x288 with 1 Axes>"
      ]
     },
     "metadata": {
      "needs_background": "light"
     },
     "output_type": "display_data"
    }
   ],
   "source": [
    "plt.plot(yf_test, pred_final_test, 'ro')\n",
    "plt.xlabel('Actual values')\n",
    "plt.ylabel('Predicted values')\n",
    "plt.plot(np.unique(yf_test), np.poly1d(np.polyfit(yf_test, pred_final_test, 1))(np.unique(yf_test)))\n",
    "plt.show()"
   ]
  },
  {
   "cell_type": "markdown",
   "id": "2020e80a",
   "metadata": {},
   "source": [
    "Above is the r2 plot"
   ]
  },
  {
   "cell_type": "markdown",
   "id": "d1e23791",
   "metadata": {},
   "source": [
    "### Conclusions\n",
    "1. The models can predict, but with very low score, even if the MAE is better than the baseline\n",
    "2. The dataset does not have too many entries which limits the training of the models.\n",
    "3. Much more data is needed to allow for a good training of the models\n",
    "#### The most important conclusions:\n",
    "4. The dataset cannot capture the unexpected factors which affect a design along the way. The data has been entered at the end of a project, thus the duration was the real duration as registered at the end of the design. What is important here is that the dataset cannot capture the real events along a project, such as changes and blockers, which delay the design and adds to the overall duration. A design which normally takes 30 days, can be in fact much longer, 60 days or more, due to continuous changes and difficult technical requirements. So, even if the features recorded in the dataset indicate a theoretical duration, in reality the duration can differ vastly.\n",
    "5. The quality of the data might not be the best, since it was collected with no purpose of this kind in mind.\n",
    "6. The prediction model can be used as a loose indicator, a pure estimation. It can be useful for the business purpose of scheduling, since the result is theoretically correct. In this particular business case, low accuracy can be accepted.\n",
    "7. Score and MAE have been used for evaluating the models. All models performed better than the baseline, but the score is very low. In itself, this can be accepted if the accuracy is not a requirement, such as in this case.  \n",
    "8. The best model is TransformedTargetRegressor with regressor = RandomForestRegressor, with tuned parameters. \n",
    "\n",
    "#### Answers to the initial data task:\n",
    "    \n",
    "###### 1. Can I use the available data to build a design duration prediction tool that can help the management to plan the schedules better?\n",
    "    Yes, if the accuracy is not a requirement and the results can be used as indicators based on the initial project characteristics\n",
    "###### 2. What data can be ignored, or dropped from the analysis?\n",
    "    Ignore all the features which in practice are not available before the project is done\n",
    "###### 3. Do I need to clean up the data and how do I prepare the data?\n",
    "    Data was clean, preparation included dropping unused columns and encode the data\n",
    "###### 4. What are the top features that influence the duration of a project?\n",
    "    'scope','line','complexity','comp','ver','type' have the highest importance\n",
    "###### 5. Is the model accurate enough? What is missing, how can I improve the data set and the analysis as next steps?\n",
    "    - No, the model is not accurate at all. \n",
    "    - What is missing is much more data to train the models\n",
    "    - I must find a way to capture the missing 'change' and 'subjective' features which directly affect the duration. 'change' should capture a numeric value which represents the amount or percentage of the changes happening along the design. 'subjective' should capture factors such as the teams, the time of the year, vactions or team changes, changes in priorities, etc. \n",
    "\n",
    "#### Overall, through this work, I can provide a  model for predicting the design time, based on a given set of known characteristics, only if the accuracy is not a requirement\n",
    "#### If accuracy is required, the models are not good enough to make useful predictions with the exising dataset "
   ]
  },
  {
   "cell_type": "markdown",
   "id": "65a3cd74",
   "metadata": {},
   "source": [
    "### Next steps\n",
    "1. What can be done to improve the models:\n",
    "* identify and include additional features which can be collected before the project starts\n",
    "* collect much more data \n",
    "* explore all the available hyperparameters for each model and use larger ranges for the parameters values\n",
    "* explore other ways to encode the data\n",
    "* use even fewer features\n",
    "2. What to advise the organization?\n",
    "* collect more data, historical or as becomes available and reach out to similar organizations for data\n",
    "* use the prediction model with the knowledge that it has a very low precision and can be used as an indicator and in conjunction with human input\n",
    "3. How to use this models in practice?\n",
    "* integrate the model in a practical prediction application with an easy to use GUI "
   ]
  },
  {
   "cell_type": "code",
   "execution_count": null,
   "id": "fa63143c",
   "metadata": {},
   "outputs": [],
   "source": []
  }
 ],
 "metadata": {
  "kernelspec": {
   "display_name": "Python 3 (ipykernel)",
   "language": "python",
   "name": "python3"
  },
  "language_info": {
   "codemirror_mode": {
    "name": "ipython",
    "version": 3
   },
   "file_extension": ".py",
   "mimetype": "text/x-python",
   "name": "python",
   "nbconvert_exporter": "python",
   "pygments_lexer": "ipython3",
   "version": "3.9.12"
  }
 },
 "nbformat": 4,
 "nbformat_minor": 5
}
